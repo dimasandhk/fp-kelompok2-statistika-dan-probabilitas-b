{
  "cells": [
    {
      "cell_type": "markdown",
      "id": "50d7e91e",
      "metadata": {
        "id": "50d7e91e"
      },
      "source": [
        "# **FINAL PROJECT STATPROB Kelas B Kelompok 2**\n",
        "**Kelompok 2 Kelas B:**\n",
        "- Dimas Andhika Diputra 5027231074\n",
        "- Naufal Syafi' Hakim 5027231022\n",
        "- Kharisma Fahrun Nisa 5027231086"
      ]
    },
    {
      "cell_type": "markdown",
      "id": "67c01c13",
      "metadata": {
        "id": "67c01c13",
        "papermill": {
          "duration": 0.012117,
          "end_time": "2023-08-01T06:56:27.619600",
          "exception": false,
          "start_time": "2023-08-01T06:56:27.607483",
          "status": "completed"
        },
        "tags": []
      },
      "source": [
        "# **TUJUAN**\n",
        "Apa tujuan dari final project ini?\n",
        "1. Mengetahui daerah mana yang paling sering mengalami gempa\n",
        "2. Memahami bagaimana distribusi gempa bumi berdasarkan tahun, bulan, hari, dan jam.\n",
        "3. Mengeksplorasi apakah ada kecenderungan tertentu untuk gempa bumi terjadi pada waktu-waktu tertentu."
      ]
    },
    {
      "cell_type": "markdown",
      "id": "ba7df00b",
      "metadata": {
        "id": "ba7df00b",
        "papermill": {
          "duration": 0.01208,
          "end_time": "2023-08-01T06:56:27.644091",
          "exception": false,
          "start_time": "2023-08-01T06:56:27.632011",
          "status": "completed"
        },
        "tags": []
      },
      "source": [
        "# **AWALAN**\n",
        "Dataset ini diambil dari Earthquake Repository yang dikelola oleh BMKG (lembaga pemerintah non departemen Indonesia). BMKG mengubah desain situsnya pada awal tahun 2023, sehingga menghasilkan dua dataset yang berbeda.\n",
        "\n",
        "https://www.kaggle.com/datasets/kekavigi/earthquakes-in-indonesia\n",
        "\n",
        "Variabel dalam dataset ini adalah:\n",
        "\n",
        "- tgl: tanggal gempa\n",
        "- ot: timestamp gempa\n",
        "- lat : garis lintang pusat peristiwa (derajat), berkisar antara 6N sampai 11S\n",
        "- lon : garis bujur episentrum peristiwa (derajat), berkisar antara 142E sampai 94E\n",
        "- kedalaman: kedalaman kejadian (km)\n",
        "- mag : besarnya magnitudo peristiwa, berkisar antara 1 sampai dengan 9,5"
      ]
    },
    {
      "cell_type": "markdown",
      "id": "4c722983",
      "metadata": {
        "id": "4c722983",
        "papermill": {
          "duration": 0.011732,
          "end_time": "2023-08-01T06:56:27.668388",
          "exception": false,
          "start_time": "2023-08-01T06:56:27.656656",
          "status": "completed"
        },
        "tags": []
      },
      "source": [
        "#### A. Import library yang dibutuhkan"
      ]
    },
    {
      "cell_type": "code",
      "execution_count": 1,
      "id": "53f7b9c4",
      "metadata": {
        "execution": {
          "iopub.execute_input": "2023-08-01T06:56:27.695867Z",
          "iopub.status.busy": "2023-08-01T06:56:27.695127Z",
          "iopub.status.idle": "2023-08-01T06:56:28.609416Z",
          "shell.execute_reply": "2023-08-01T06:56:28.608297Z"
        },
        "id": "53f7b9c4",
        "papermill": {
          "duration": 0.93072,
          "end_time": "2023-08-01T06:56:28.612388",
          "exception": false,
          "start_time": "2023-08-01T06:56:27.681668",
          "status": "completed"
        },
        "tags": []
      },
      "outputs": [],
      "source": [
        "# import libraries\n",
        "import pandas as pd\n",
        "import numpy as np\n",
        "import plotly.express as px"
      ]
    },
    {
      "cell_type": "code",
      "execution_count": 2,
      "id": "f05d1023",
      "metadata": {
        "execution": {
          "iopub.execute_input": "2023-08-01T06:56:28.704268Z",
          "iopub.status.busy": "2023-08-01T06:56:28.703641Z",
          "iopub.status.idle": "2023-08-01T06:56:29.013278Z",
          "shell.execute_reply": "2023-08-01T06:56:29.012200Z"
        },
        "id": "f05d1023",
        "papermill": {
          "duration": 0.325744,
          "end_time": "2023-08-01T06:56:29.015912",
          "exception": false,
          "start_time": "2023-08-01T06:56:28.690168",
          "status": "completed"
        },
        "tags": []
      },
      "outputs": [],
      "source": [
        "# convert file csv ke data frame panda\n",
        "df_raw = pd.read_csv('katalog_gempa.csv')"
      ]
    },
    {
      "cell_type": "code",
      "execution_count": 3,
      "id": "3b3ded2d",
      "metadata": {
        "colab": {
          "base_uri": "https://localhost:8080/",
          "height": 275
        },
        "execution": {
          "iopub.execute_input": "2023-08-01T06:56:29.042610Z",
          "iopub.status.busy": "2023-08-01T06:56:29.041672Z",
          "iopub.status.idle": "2023-08-01T06:56:29.072269Z",
          "shell.execute_reply": "2023-08-01T06:56:29.071210Z"
        },
        "id": "3b3ded2d",
        "outputId": "59a9578c-fadf-4332-f050-af5227838353",
        "papermill": {
          "duration": 0.047455,
          "end_time": "2023-08-01T06:56:29.075603",
          "exception": false,
          "start_time": "2023-08-01T06:56:29.028148",
          "status": "completed"
        },
        "tags": []
      },
      "outputs": [
        {
          "data": {
            "text/html": [
              "<div>\n",
              "<style scoped>\n",
              "    .dataframe tbody tr th:only-of-type {\n",
              "        vertical-align: middle;\n",
              "    }\n",
              "\n",
              "    .dataframe tbody tr th {\n",
              "        vertical-align: top;\n",
              "    }\n",
              "\n",
              "    .dataframe thead th {\n",
              "        text-align: right;\n",
              "    }\n",
              "</style>\n",
              "<table border=\"1\" class=\"dataframe\">\n",
              "  <thead>\n",
              "    <tr style=\"text-align: right;\">\n",
              "      <th></th>\n",
              "      <th>tgl</th>\n",
              "      <th>ot</th>\n",
              "      <th>lat</th>\n",
              "      <th>lon</th>\n",
              "      <th>depth</th>\n",
              "      <th>mag</th>\n",
              "      <th>remark</th>\n",
              "      <th>strike1</th>\n",
              "      <th>dip1</th>\n",
              "      <th>rake1</th>\n",
              "      <th>strike2</th>\n",
              "      <th>dip2</th>\n",
              "      <th>rake2</th>\n",
              "    </tr>\n",
              "  </thead>\n",
              "  <tbody>\n",
              "    <tr>\n",
              "      <th>0</th>\n",
              "      <td>2008/11/01</td>\n",
              "      <td>21:02:43.058</td>\n",
              "      <td>-9.18</td>\n",
              "      <td>119.06</td>\n",
              "      <td>10</td>\n",
              "      <td>4.9</td>\n",
              "      <td>Sumba Region - Indonesia</td>\n",
              "      <td>NaN</td>\n",
              "      <td>NaN</td>\n",
              "      <td>NaN</td>\n",
              "      <td>NaN</td>\n",
              "      <td>NaN</td>\n",
              "      <td>NaN</td>\n",
              "    </tr>\n",
              "    <tr>\n",
              "      <th>1</th>\n",
              "      <td>2008/11/01</td>\n",
              "      <td>20:58:50.248</td>\n",
              "      <td>-6.55</td>\n",
              "      <td>129.64</td>\n",
              "      <td>10</td>\n",
              "      <td>4.6</td>\n",
              "      <td>Banda Sea</td>\n",
              "      <td>NaN</td>\n",
              "      <td>NaN</td>\n",
              "      <td>NaN</td>\n",
              "      <td>NaN</td>\n",
              "      <td>NaN</td>\n",
              "      <td>NaN</td>\n",
              "    </tr>\n",
              "    <tr>\n",
              "      <th>2</th>\n",
              "      <td>2008/11/01</td>\n",
              "      <td>17:43:12.941</td>\n",
              "      <td>-7.01</td>\n",
              "      <td>106.63</td>\n",
              "      <td>121</td>\n",
              "      <td>3.7</td>\n",
              "      <td>Java - Indonesia</td>\n",
              "      <td>NaN</td>\n",
              "      <td>NaN</td>\n",
              "      <td>NaN</td>\n",
              "      <td>NaN</td>\n",
              "      <td>NaN</td>\n",
              "      <td>NaN</td>\n",
              "    </tr>\n",
              "    <tr>\n",
              "      <th>3</th>\n",
              "      <td>2008/11/01</td>\n",
              "      <td>16:24:14.755</td>\n",
              "      <td>-3.30</td>\n",
              "      <td>127.85</td>\n",
              "      <td>10</td>\n",
              "      <td>3.2</td>\n",
              "      <td>Seram - Indonesia</td>\n",
              "      <td>NaN</td>\n",
              "      <td>NaN</td>\n",
              "      <td>NaN</td>\n",
              "      <td>NaN</td>\n",
              "      <td>NaN</td>\n",
              "      <td>NaN</td>\n",
              "    </tr>\n",
              "    <tr>\n",
              "      <th>4</th>\n",
              "      <td>2008/11/01</td>\n",
              "      <td>16:20:37.327</td>\n",
              "      <td>-6.41</td>\n",
              "      <td>129.54</td>\n",
              "      <td>70</td>\n",
              "      <td>4.3</td>\n",
              "      <td>Banda Sea</td>\n",
              "      <td>NaN</td>\n",
              "      <td>NaN</td>\n",
              "      <td>NaN</td>\n",
              "      <td>NaN</td>\n",
              "      <td>NaN</td>\n",
              "      <td>NaN</td>\n",
              "    </tr>\n",
              "  </tbody>\n",
              "</table>\n",
              "</div>"
            ],
            "text/plain": [
              "          tgl            ot   lat     lon  depth  mag  \\\n",
              "0  2008/11/01  21:02:43.058 -9.18  119.06     10  4.9   \n",
              "1  2008/11/01  20:58:50.248 -6.55  129.64     10  4.6   \n",
              "2  2008/11/01  17:43:12.941 -7.01  106.63    121  3.7   \n",
              "3  2008/11/01  16:24:14.755 -3.30  127.85     10  3.2   \n",
              "4  2008/11/01  16:20:37.327 -6.41  129.54     70  4.3   \n",
              "\n",
              "                     remark  strike1  dip1  rake1  strike2  dip2  rake2  \n",
              "0  Sumba Region - Indonesia      NaN   NaN    NaN      NaN   NaN    NaN  \n",
              "1                 Banda Sea      NaN   NaN    NaN      NaN   NaN    NaN  \n",
              "2          Java - Indonesia      NaN   NaN    NaN      NaN   NaN    NaN  \n",
              "3         Seram - Indonesia      NaN   NaN    NaN      NaN   NaN    NaN  \n",
              "4                 Banda Sea      NaN   NaN    NaN      NaN   NaN    NaN  "
            ]
          },
          "execution_count": 3,
          "metadata": {},
          "output_type": "execute_result"
        }
      ],
      "source": [
        "df_raw.head()"
      ]
    },
    {
      "cell_type": "markdown",
      "id": "38e293ac",
      "metadata": {
        "id": "38e293ac",
        "papermill": {
          "duration": 0.011987,
          "end_time": "2023-08-01T06:56:29.100212",
          "exception": false,
          "start_time": "2023-08-01T06:56:29.088225",
          "status": "completed"
        },
        "tags": []
      },
      "source": [
        "# **PROSES**"
      ]
    },
    {
      "cell_type": "markdown",
      "id": "5a0945ee",
      "metadata": {
        "id": "5a0945ee",
        "papermill": {
          "duration": 0.011968,
          "end_time": "2023-08-01T06:56:29.124493",
          "exception": false,
          "start_time": "2023-08-01T06:56:29.112525",
          "status": "completed"
        },
        "tags": []
      },
      "source": [
        "#### B. Filter dan Transformasi Data"
      ]
    },
    {
      "cell_type": "code",
      "execution_count": 4,
      "id": "4dccd4a8",
      "metadata": {
        "execution": {
          "iopub.execute_input": "2023-08-01T06:56:29.151129Z",
          "iopub.status.busy": "2023-08-01T06:56:29.150518Z",
          "iopub.status.idle": "2023-08-01T06:56:29.165302Z",
          "shell.execute_reply": "2023-08-01T06:56:29.164161Z"
        },
        "id": "4dccd4a8",
        "papermill": {
          "duration": 0.031041,
          "end_time": "2023-08-01T06:56:29.167911",
          "exception": false,
          "start_time": "2023-08-01T06:56:29.136870",
          "status": "completed"
        },
        "tags": []
      },
      "outputs": [],
      "source": [
        "# hapus beberapa kolom data\n",
        "df_raw = df_raw.drop(['strike1','dip1','rake1','strike2','dip2','rake2'], axis=1)"
      ]
    },
    {
      "cell_type": "code",
      "execution_count": 5,
      "id": "347741af",
      "metadata": {
        "colab": {
          "base_uri": "https://localhost:8080/"
        },
        "execution": {
          "iopub.execute_input": "2023-08-01T06:56:29.330635Z",
          "iopub.status.busy": "2023-08-01T06:56:29.330238Z",
          "iopub.status.idle": "2023-08-01T06:56:29.447811Z",
          "shell.execute_reply": "2023-08-01T06:56:29.445998Z"
        },
        "id": "347741af",
        "outputId": "2b1a9319-6eb1-4b85-9e46-0c30f95f457c",
        "papermill": {
          "duration": 0.134323,
          "end_time": "2023-08-01T06:56:29.450759",
          "exception": false,
          "start_time": "2023-08-01T06:56:29.316436",
          "status": "completed"
        },
        "tags": []
      },
      "outputs": [
        {
          "name": "stdout",
          "output_type": "stream",
          "text": [
            "<class 'pandas.core.frame.DataFrame'>\n",
            "RangeIndex: 92887 entries, 0 to 92886\n",
            "Data columns (total 7 columns):\n",
            " #   Column  Non-Null Count  Dtype  \n",
            "---  ------  --------------  -----  \n",
            " 0   tgl     92887 non-null  object \n",
            " 1   ot      92887 non-null  object \n",
            " 2   lat     92887 non-null  float64\n",
            " 3   lon     92887 non-null  float64\n",
            " 4   depth   92887 non-null  int64  \n",
            " 5   mag     92887 non-null  float64\n",
            " 6   remark  92887 non-null  object \n",
            "dtypes: float64(3), int64(1), object(3)\n",
            "memory usage: 5.0+ MB\n"
          ]
        }
      ],
      "source": [
        "df_raw.info()"
      ]
    },
    {
      "cell_type": "code",
      "execution_count": 6,
      "id": "071125fd",
      "metadata": {
        "execution": {
          "iopub.execute_input": "2023-08-01T06:56:29.478115Z",
          "iopub.status.busy": "2023-08-01T06:56:29.477698Z",
          "iopub.status.idle": "2023-08-01T06:56:39.188856Z",
          "shell.execute_reply": "2023-08-01T06:56:39.187610Z"
        },
        "id": "071125fd",
        "papermill": {
          "duration": 9.727864,
          "end_time": "2023-08-01T06:56:39.191517",
          "exception": false,
          "start_time": "2023-08-01T06:56:29.463653",
          "status": "completed"
        },
        "tags": []
      },
      "outputs": [],
      "source": [
        "# konversi tanggal\n",
        "import datetime\n",
        "df_raw['tgl'] = df_raw['tgl'].apply(pd.to_datetime)\n",
        "\n",
        "# ganti timestamp menjadi waktu\n",
        "df_raw['ot'] = pd.to_datetime(df_raw['ot'], format='%H:%M:%S.%f').dt.round('H').dt.time"
      ]
    },
    {
      "cell_type": "code",
      "execution_count": 7,
      "id": "ec6341b0",
      "metadata": {
        "colab": {
          "base_uri": "https://localhost:8080/",
          "height": 206
        },
        "execution": {
          "iopub.execute_input": "2023-08-01T06:56:39.218784Z",
          "iopub.status.busy": "2023-08-01T06:56:39.218401Z",
          "iopub.status.idle": "2023-08-01T06:56:39.233856Z",
          "shell.execute_reply": "2023-08-01T06:56:39.232861Z"
        },
        "id": "ec6341b0",
        "outputId": "e89eabf3-3d77-4374-9b42-91b7e16c16dc",
        "papermill": {
          "duration": 0.031989,
          "end_time": "2023-08-01T06:56:39.236438",
          "exception": false,
          "start_time": "2023-08-01T06:56:39.204449",
          "status": "completed"
        },
        "tags": []
      },
      "outputs": [
        {
          "data": {
            "text/html": [
              "<div>\n",
              "<style scoped>\n",
              "    .dataframe tbody tr th:only-of-type {\n",
              "        vertical-align: middle;\n",
              "    }\n",
              "\n",
              "    .dataframe tbody tr th {\n",
              "        vertical-align: top;\n",
              "    }\n",
              "\n",
              "    .dataframe thead th {\n",
              "        text-align: right;\n",
              "    }\n",
              "</style>\n",
              "<table border=\"1\" class=\"dataframe\">\n",
              "  <thead>\n",
              "    <tr style=\"text-align: right;\">\n",
              "      <th></th>\n",
              "      <th>tgl</th>\n",
              "      <th>ot</th>\n",
              "      <th>lat</th>\n",
              "      <th>lon</th>\n",
              "      <th>depth</th>\n",
              "      <th>mag</th>\n",
              "      <th>remark</th>\n",
              "    </tr>\n",
              "  </thead>\n",
              "  <tbody>\n",
              "    <tr>\n",
              "      <th>0</th>\n",
              "      <td>2008-11-01</td>\n",
              "      <td>21:00:00</td>\n",
              "      <td>-9.18</td>\n",
              "      <td>119.06</td>\n",
              "      <td>10</td>\n",
              "      <td>4.9</td>\n",
              "      <td>Sumba Region - Indonesia</td>\n",
              "    </tr>\n",
              "    <tr>\n",
              "      <th>1</th>\n",
              "      <td>2008-11-01</td>\n",
              "      <td>21:00:00</td>\n",
              "      <td>-6.55</td>\n",
              "      <td>129.64</td>\n",
              "      <td>10</td>\n",
              "      <td>4.6</td>\n",
              "      <td>Banda Sea</td>\n",
              "    </tr>\n",
              "    <tr>\n",
              "      <th>2</th>\n",
              "      <td>2008-11-01</td>\n",
              "      <td>18:00:00</td>\n",
              "      <td>-7.01</td>\n",
              "      <td>106.63</td>\n",
              "      <td>121</td>\n",
              "      <td>3.7</td>\n",
              "      <td>Java - Indonesia</td>\n",
              "    </tr>\n",
              "    <tr>\n",
              "      <th>3</th>\n",
              "      <td>2008-11-01</td>\n",
              "      <td>16:00:00</td>\n",
              "      <td>-3.30</td>\n",
              "      <td>127.85</td>\n",
              "      <td>10</td>\n",
              "      <td>3.2</td>\n",
              "      <td>Seram - Indonesia</td>\n",
              "    </tr>\n",
              "    <tr>\n",
              "      <th>4</th>\n",
              "      <td>2008-11-01</td>\n",
              "      <td>16:00:00</td>\n",
              "      <td>-6.41</td>\n",
              "      <td>129.54</td>\n",
              "      <td>70</td>\n",
              "      <td>4.3</td>\n",
              "      <td>Banda Sea</td>\n",
              "    </tr>\n",
              "  </tbody>\n",
              "</table>\n",
              "</div>"
            ],
            "text/plain": [
              "         tgl        ot   lat     lon  depth  mag                    remark\n",
              "0 2008-11-01  21:00:00 -9.18  119.06     10  4.9  Sumba Region - Indonesia\n",
              "1 2008-11-01  21:00:00 -6.55  129.64     10  4.6                 Banda Sea\n",
              "2 2008-11-01  18:00:00 -7.01  106.63    121  3.7          Java - Indonesia\n",
              "3 2008-11-01  16:00:00 -3.30  127.85     10  3.2         Seram - Indonesia\n",
              "4 2008-11-01  16:00:00 -6.41  129.54     70  4.3                 Banda Sea"
            ]
          },
          "execution_count": 7,
          "metadata": {},
          "output_type": "execute_result"
        }
      ],
      "source": [
        "df_raw.head()"
      ]
    },
    {
      "cell_type": "markdown",
      "id": "862421df",
      "metadata": {},
      "source": [
        "# **KORELASI**"
      ]
    },
    {
      "cell_type": "code",
      "execution_count": 8,
      "id": "b70d44d5",
      "metadata": {},
      "outputs": [],
      "source": [
        "# extract the year,month,day,hour\n",
        "df_raw = df_raw.assign(\n",
        "    month=df_raw['tgl'].dt.month_name(),\n",
        "    year=df_raw['tgl'].dt.year,\n",
        "    day=df_raw['tgl'].dt.day_name(),\n",
        "    hour=pd.to_datetime(df_raw['ot'], format='%H:%M:%S').dt.hour\n",
        ")\n",
        "\n",
        "df = df_raw.copy()"
      ]
    },
    {
      "cell_type": "code",
      "execution_count": 10,
      "id": "eb81f5a9",
      "metadata": {},
      "outputs": [],
      "source": [
        "df = df.loc[(df['year']>=2009)&(df['year']<=2022)]\n",
        "df = df.reset_index(drop=True)"
      ]
    },
    {
      "cell_type": "code",
      "execution_count": 18,
      "id": "df7968df",
      "metadata": {},
      "outputs": [
        {
          "name": "stdout",
          "output_type": "stream",
          "text": [
            "<class 'pandas.core.frame.DataFrame'>\n",
            "RangeIndex: 91395 entries, 0 to 91394\n",
            "Data columns (total 11 columns):\n",
            " #   Column  Non-Null Count  Dtype         \n",
            "---  ------  --------------  -----         \n",
            " 0   tgl     91395 non-null  datetime64[ns]\n",
            " 1   ot      91395 non-null  object        \n",
            " 2   lat     91395 non-null  float64       \n",
            " 3   lon     91395 non-null  float64       \n",
            " 4   depth   91395 non-null  int64         \n",
            " 5   mag     91395 non-null  float64       \n",
            " 6   remark  91395 non-null  object        \n",
            " 7   month   91395 non-null  object        \n",
            " 8   year    91395 non-null  int64         \n",
            " 9   day     91395 non-null  object        \n",
            " 10  hour    91395 non-null  int64         \n",
            "dtypes: datetime64[ns](1), float64(3), int64(3), object(4)\n",
            "memory usage: 7.7+ MB\n"
          ]
        }
      ],
      "source": [
        "df.info()"
      ]
    },
    {
      "cell_type": "code",
      "execution_count": 24,
      "id": "b6f9434f",
      "metadata": {},
      "outputs": [
        {
          "data": {
            "image/png": "[encoded data removed]",
            "text/plain": [
              "<Figure size 576x432 with 2 Axes>"
            ]
          },
          "metadata": {
            "needs_background": "light"
          },
          "output_type": "display_data"
        }
      ],
      "source": [
        "# import library\n",
        "import seaborn as sns\n",
        "import matplotlib.pyplot as plt\n",
        "import numpy as np\n",
        "\n",
        "# buat duplikat dataframe\n",
        "df_cop = df.copy()\n",
        "\n",
        "# buat heatmap\n",
        "df_cop = df.drop(columns=['tgl', 'ot', 'remark', 'month', 'day'])\n",
        "plt.figure(figsize=(8,6))\n",
        "sns.heatmap(df_cop)\n",
        "\n",
        "# display plot\n",
        "plt.show()"
      ]
    },
    {
      "cell_type": "markdown",
      "id": "fa7a3e1b",
      "metadata": {
        "id": "fa7a3e1b",
        "papermill": {
          "duration": 0.012934,
          "end_time": "2023-08-01T06:56:39.262527",
          "exception": false,
          "start_time": "2023-08-01T06:56:39.249593",
          "status": "completed"
        },
        "tags": []
      },
      "source": [
        "# **ANALISIS**\n",
        "\n",
        "- Pertanyaan panduan:\n",
        "1. Daerah yang paling sering terjadi gempa?\n",
        "2. Bagaimana sebaran gempa berdasarkan waktu (tahun, bulan, hari, jam)\n",
        "3. Apa ciri-ciri semua gempa bumi yang terjadi?"
      ]
    },
    {
      "cell_type": "code",
      "execution_count": null,
      "id": "49678d25",
      "metadata": {
        "colab": {
          "base_uri": "https://localhost:8080/",
          "height": 597
        },
        "execution": {
          "iopub.execute_input": "2023-08-01T06:56:39.481711Z",
          "iopub.status.busy": "2023-08-01T06:56:39.481267Z",
          "iopub.status.idle": "2023-08-01T06:56:39.554686Z",
          "shell.execute_reply": "2023-08-01T06:56:39.553563Z"
        },
        "id": "49678d25",
        "outputId": "aa908214-e28f-49fa-9249-774211ec88df",
        "papermill": {
          "duration": 0.090528,
          "end_time": "2023-08-01T06:56:39.557100",
          "exception": false,
          "start_time": "2023-08-01T06:56:39.466572",
          "status": "completed"
        },
        "tags": []
      },
      "outputs": [
        {
          "data": {
            "text/html": [
              "<div>\n",
              "<style scoped>\n",
              "    .dataframe tbody tr th:only-of-type {\n",
              "        vertical-align: middle;\n",
              "    }\n",
              "\n",
              "    .dataframe tbody tr th {\n",
              "        vertical-align: top;\n",
              "    }\n",
              "\n",
              "    .dataframe thead th {\n",
              "        text-align: right;\n",
              "    }\n",
              "</style>\n",
              "<table border=\"1\" class=\"dataframe\">\n",
              "  <thead>\n",
              "    <tr style=\"text-align: right;\">\n",
              "      <th></th>\n",
              "      <th>tgl</th>\n",
              "      <th>ot</th>\n",
              "      <th>lat</th>\n",
              "      <th>lon</th>\n",
              "      <th>depth</th>\n",
              "      <th>mag</th>\n",
              "      <th>remark</th>\n",
              "      <th>month</th>\n",
              "      <th>year</th>\n",
              "      <th>day</th>\n",
              "      <th>hour</th>\n",
              "    </tr>\n",
              "  </thead>\n",
              "  <tbody>\n",
              "    <tr>\n",
              "      <th>0</th>\n",
              "      <td>2009-01-01</td>\n",
              "      <td>19:00:00</td>\n",
              "      <td>-4.37</td>\n",
              "      <td>101.12</td>\n",
              "      <td>10</td>\n",
              "      <td>5.1</td>\n",
              "      <td>Southern Sumatra - Indonesia</td>\n",
              "      <td>January</td>\n",
              "      <td>2009</td>\n",
              "      <td>Thursday</td>\n",
              "      <td>19</td>\n",
              "    </tr>\n",
              "    <tr>\n",
              "      <th>1</th>\n",
              "      <td>2009-01-01</td>\n",
              "      <td>17:00:00</td>\n",
              "      <td>-4.42</td>\n",
              "      <td>101.07</td>\n",
              "      <td>10</td>\n",
              "      <td>5.3</td>\n",
              "      <td>Southern Sumatra - Indonesia</td>\n",
              "      <td>January</td>\n",
              "      <td>2009</td>\n",
              "      <td>Thursday</td>\n",
              "      <td>17</td>\n",
              "    </tr>\n",
              "    <tr>\n",
              "      <th>2</th>\n",
              "      <td>2009-01-01</td>\n",
              "      <td>11:00:00</td>\n",
              "      <td>1.42</td>\n",
              "      <td>121.99</td>\n",
              "      <td>10</td>\n",
              "      <td>5.0</td>\n",
              "      <td>Minahassa Peninsula - Sulawesi</td>\n",
              "      <td>January</td>\n",
              "      <td>2009</td>\n",
              "      <td>Thursday</td>\n",
              "      <td>11</td>\n",
              "    </tr>\n",
              "    <tr>\n",
              "      <th>3</th>\n",
              "      <td>2009-01-01</td>\n",
              "      <td>09:00:00</td>\n",
              "      <td>1.47</td>\n",
              "      <td>122.12</td>\n",
              "      <td>10</td>\n",
              "      <td>4.5</td>\n",
              "      <td>Minahassa Peninsula - Sulawesi</td>\n",
              "      <td>January</td>\n",
              "      <td>2009</td>\n",
              "      <td>Thursday</td>\n",
              "      <td>9</td>\n",
              "    </tr>\n",
              "    <tr>\n",
              "      <th>4</th>\n",
              "      <td>2009-01-01</td>\n",
              "      <td>05:00:00</td>\n",
              "      <td>0.77</td>\n",
              "      <td>121.22</td>\n",
              "      <td>10</td>\n",
              "      <td>4.9</td>\n",
              "      <td>Minahassa Peninsula - Sulawesi</td>\n",
              "      <td>January</td>\n",
              "      <td>2009</td>\n",
              "      <td>Thursday</td>\n",
              "      <td>5</td>\n",
              "    </tr>\n",
              "    <tr>\n",
              "      <th>...</th>\n",
              "      <td>...</td>\n",
              "      <td>...</td>\n",
              "      <td>...</td>\n",
              "      <td>...</td>\n",
              "      <td>...</td>\n",
              "      <td>...</td>\n",
              "      <td>...</td>\n",
              "      <td>...</td>\n",
              "      <td>...</td>\n",
              "      <td>...</td>\n",
              "      <td>...</td>\n",
              "    </tr>\n",
              "    <tr>\n",
              "      <th>91390</th>\n",
              "      <td>2022-12-31</td>\n",
              "      <td>09:00:00</td>\n",
              "      <td>1.56</td>\n",
              "      <td>124.36</td>\n",
              "      <td>230</td>\n",
              "      <td>4.1</td>\n",
              "      <td>Minahassa Peninsula - Sulawesi</td>\n",
              "      <td>December</td>\n",
              "      <td>2022</td>\n",
              "      <td>Saturday</td>\n",
              "      <td>9</td>\n",
              "    </tr>\n",
              "    <tr>\n",
              "      <th>91391</th>\n",
              "      <td>2022-12-31</td>\n",
              "      <td>09:00:00</td>\n",
              "      <td>3.71</td>\n",
              "      <td>97.66</td>\n",
              "      <td>10</td>\n",
              "      <td>3.4</td>\n",
              "      <td>Northern Sumatra - Indonesia</td>\n",
              "      <td>December</td>\n",
              "      <td>2022</td>\n",
              "      <td>Saturday</td>\n",
              "      <td>9</td>\n",
              "    </tr>\n",
              "    <tr>\n",
              "      <th>91392</th>\n",
              "      <td>2022-12-31</td>\n",
              "      <td>05:00:00</td>\n",
              "      <td>0.35</td>\n",
              "      <td>122.01</td>\n",
              "      <td>167</td>\n",
              "      <td>2.7</td>\n",
              "      <td>Minahassa Peninsula - Sulawesi</td>\n",
              "      <td>December</td>\n",
              "      <td>2022</td>\n",
              "      <td>Saturday</td>\n",
              "      <td>5</td>\n",
              "    </tr>\n",
              "    <tr>\n",
              "      <th>91393</th>\n",
              "      <td>2022-12-31</td>\n",
              "      <td>05:00:00</td>\n",
              "      <td>-8.98</td>\n",
              "      <td>116.80</td>\n",
              "      <td>13</td>\n",
              "      <td>2.6</td>\n",
              "      <td>Sumbawa Region - Indonesia</td>\n",
              "      <td>December</td>\n",
              "      <td>2022</td>\n",
              "      <td>Saturday</td>\n",
              "      <td>5</td>\n",
              "    </tr>\n",
              "    <tr>\n",
              "      <th>91394</th>\n",
              "      <td>2022-12-31</td>\n",
              "      <td>04:00:00</td>\n",
              "      <td>5.17</td>\n",
              "      <td>94.91</td>\n",
              "      <td>22</td>\n",
              "      <td>3.5</td>\n",
              "      <td>Northern Sumatra - Indonesia</td>\n",
              "      <td>December</td>\n",
              "      <td>2022</td>\n",
              "      <td>Saturday</td>\n",
              "      <td>4</td>\n",
              "    </tr>\n",
              "  </tbody>\n",
              "</table>\n",
              "<p>91395 rows × 11 columns</p>\n",
              "</div>"
            ],
            "text/plain": [
              "             tgl        ot   lat     lon  depth  mag  \\\n",
              "0     2009-01-01  19:00:00 -4.37  101.12     10  5.1   \n",
              "1     2009-01-01  17:00:00 -4.42  101.07     10  5.3   \n",
              "2     2009-01-01  11:00:00  1.42  121.99     10  5.0   \n",
              "3     2009-01-01  09:00:00  1.47  122.12     10  4.5   \n",
              "4     2009-01-01  05:00:00  0.77  121.22     10  4.9   \n",
              "...          ...       ...   ...     ...    ...  ...   \n",
              "91390 2022-12-31  09:00:00  1.56  124.36    230  4.1   \n",
              "91391 2022-12-31  09:00:00  3.71   97.66     10  3.4   \n",
              "91392 2022-12-31  05:00:00  0.35  122.01    167  2.7   \n",
              "91393 2022-12-31  05:00:00 -8.98  116.80     13  2.6   \n",
              "91394 2022-12-31  04:00:00  5.17   94.91     22  3.5   \n",
              "\n",
              "                               remark     month  year       day  hour  \n",
              "0        Southern Sumatra - Indonesia   January  2009  Thursday    19  \n",
              "1        Southern Sumatra - Indonesia   January  2009  Thursday    17  \n",
              "2      Minahassa Peninsula - Sulawesi   January  2009  Thursday    11  \n",
              "3      Minahassa Peninsula - Sulawesi   January  2009  Thursday     9  \n",
              "4      Minahassa Peninsula - Sulawesi   January  2009  Thursday     5  \n",
              "...                               ...       ...   ...       ...   ...  \n",
              "91390  Minahassa Peninsula - Sulawesi  December  2022  Saturday     9  \n",
              "91391    Northern Sumatra - Indonesia  December  2022  Saturday     9  \n",
              "91392  Minahassa Peninsula - Sulawesi  December  2022  Saturday     5  \n",
              "91393      Sumbawa Region - Indonesia  December  2022  Saturday     5  \n",
              "91394    Northern Sumatra - Indonesia  December  2022  Saturday     4  \n",
              "\n",
              "[91395 rows x 11 columns]"
            ]
          },
          "execution_count": 9,
          "metadata": {},
          "output_type": "execute_result"
        }
      ],
      "source": [
        "\n",
        "df # data yang akan analisis"
      ]
    },
    {
      "cell_type": "markdown",
      "id": "bd9cde0f",
      "metadata": {
        "id": "bd9cde0f",
        "papermill": {
          "duration": 0.013412,
          "end_time": "2023-08-01T06:56:39.584331",
          "exception": false,
          "start_time": "2023-08-01T06:56:39.570919",
          "status": "completed"
        },
        "tags": []
      },
      "source": [
        "##### Distribution by year"
      ]
    },
    {
      "cell_type": "code",
      "execution_count": null,
      "id": "adbdb1f6",
      "metadata": {
        "_kg_hide-input": true,
        "colab": {
          "base_uri": "https://localhost:8080/",
          "height": 617
        },
        "execution": {
          "iopub.execute_input": "2023-08-01T06:56:39.613410Z",
          "iopub.status.busy": "2023-08-01T06:56:39.612980Z",
          "iopub.status.idle": "2023-08-01T06:56:41.445156Z",
          "shell.execute_reply": "2023-08-01T06:56:41.444046Z"
        },
        "id": "adbdb1f6",
        "outputId": "d52425e4-97f2-455b-beee-5d6e7252f9dd",
        "papermill": {
          "duration": 1.849794,
          "end_time": "2023-08-01T06:56:41.447878",
          "exception": false,
          "start_time": "2023-08-01T06:56:39.598084",
          "status": "completed"
        },
        "tags": []
      },
      "outputs": [
        {
          "data": {
            "application/vnd.plotly.v1+json": {
              "config": {
                "plotlyServerURL": "https://plot.ly"
              },
              "data": [
                {
                  "alignmentgroup": "True",
                  "hovertemplate": "Tahun=%{x}<br>Frekuensi=%{marker.color}<extra></extra>",
                  "legendgroup": "",
                  "marker": {
                    "color": [
                      3534,
                      3437,
                      3948,
                      2435,
                      2749,
                      2430,
                      5378,
                      5134,
                      7597,
                      12345,
                      12155,
                      8690,
                      10714,
                      10849
                    ],
                    "coloraxis": "coloraxis",
                    "pattern": {
                      "shape": ""
                    }
                  },
                  "name": "",
                  "offsetgroup": "",
                  "orientation": "v",
                  "showlegend": false,
                  "textposition": "auto",
                  "texttemplate": "%{y:.2s}",
                  "type": "bar",
                  "x": [
                    2009,
                    2010,
                    2011,
                    2012,
                    2013,
                    2014,
                    2015,
                    2016,
                    2017,
                    2018,
                    2019,
                    2020,
                    2021,
                    2022
                  ],
                  "xaxis": "x",
                  "y": [
                    3534,
                    3437,
                    3948,
                    2435,
                    2749,
                    2430,
                    5378,
                    5134,
                    7597,
                    12345,
                    12155,
                    8690,
                    10714,
                    10849
                  ],
                  "yaxis": "y"
                }
              ],
              "layout": {
                "barmode": "group",
                "coloraxis": {
                  "colorbar": {
                    "title": {
                      "text": "Frekuensi"
                    }
                  },
                  "colorscale": [
                    [
                      0,
                      "#0d0887"
                    ],
                    [
                      0.1111111111111111,
                      "#46039f"
                    ],
                    [
                      0.2222222222222222,
                      "#7201a8"
                    ],
                    [
                      0.3333333333333333,
                      "#9c179e"
                    ],
                    [
                      0.4444444444444444,
                      "#bd3786"
                    ],
                    [
                      0.5555555555555556,
                      "#d8576b"
                    ],
                    [
                      0.6666666666666666,
                      "#ed7953"
                    ],
                    [
                      0.7777777777777778,
                      "#fb9f3a"
                    ],
                    [
                      0.8888888888888888,
                      "#fdca26"
                    ],
                    [
                      1,
                      "#f0f921"
                    ]
                  ]
                },
                "height": 600,
                "legend": {
                  "tracegroupgap": 0
                },
                "template": {
                  "data": {
                    "bar": [
                      {
                        "error_x": {
                          "color": "#2a3f5f"
                        },
                        "error_y": {
                          "color": "#2a3f5f"
                        },
                        "marker": {
                          "line": {
                            "color": "#E5ECF6",
                            "width": 0.5
                          },
                          "pattern": {
                            "fillmode": "overlay",
                            "size": 10,
                            "solidity": 0.2
                          }
                        },
                        "type": "bar"
                      }
                    ],
                    "barpolar": [
                      {
                        "marker": {
                          "line": {
                            "color": "#E5ECF6",
                            "width": 0.5
                          },
                          "pattern": {
                            "fillmode": "overlay",
                            "size": 10,
                            "solidity": 0.2
                          }
                        },
                        "type": "barpolar"
                      }
                    ],
                    "carpet": [
                      {
                        "aaxis": {
                          "endlinecolor": "#2a3f5f",
                          "gridcolor": "white",
                          "linecolor": "white",
                          "minorgridcolor": "white",
                          "startlinecolor": "#2a3f5f"
                        },
                        "baxis": {
                          "endlinecolor": "#2a3f5f",
                          "gridcolor": "white",
                          "linecolor": "white",
                          "minorgridcolor": "white",
                          "startlinecolor": "#2a3f5f"
                        },
                        "type": "carpet"
                      }
                    ],
                    "choropleth": [
                      {
                        "colorbar": {
                          "outlinewidth": 0,
                          "ticks": ""
                        },
                        "type": "choropleth"
                      }
                    ],
                    "contour": [
                      {
                        "colorbar": {
                          "outlinewidth": 0,
                          "ticks": ""
                        },
                        "colorscale": [
                          [
                            0,
                            "#0d0887"
                          ],
                          [
                            0.1111111111111111,
                            "#46039f"
                          ],
                          [
                            0.2222222222222222,
                            "#7201a8"
                          ],
                          [
                            0.3333333333333333,
                            "#9c179e"
                          ],
                          [
                            0.4444444444444444,
                            "#bd3786"
                          ],
                          [
                            0.5555555555555556,
                            "#d8576b"
                          ],
                          [
                            0.6666666666666666,
                            "#ed7953"
                          ],
                          [
                            0.7777777777777778,
                            "#fb9f3a"
                          ],
                          [
                            0.8888888888888888,
                            "#fdca26"
                          ],
                          [
                            1,
                            "#f0f921"
                          ]
                        ],
                        "type": "contour"
                      }
                    ],
                    "contourcarpet": [
                      {
                        "colorbar": {
                          "outlinewidth": 0,
                          "ticks": ""
                        },
                        "type": "contourcarpet"
                      }
                    ],
                    "heatmap": [
                      {
                        "colorbar": {
                          "outlinewidth": 0,
                          "ticks": ""
                        },
                        "colorscale": [
                          [
                            0,
                            "#0d0887"
                          ],
                          [
                            0.1111111111111111,
                            "#46039f"
                          ],
                          [
                            0.2222222222222222,
                            "#7201a8"
                          ],
                          [
                            0.3333333333333333,
                            "#9c179e"
                          ],
                          [
                            0.4444444444444444,
                            "#bd3786"
                          ],
                          [
                            0.5555555555555556,
                            "#d8576b"
                          ],
                          [
                            0.6666666666666666,
                            "#ed7953"
                          ],
                          [
                            0.7777777777777778,
                            "#fb9f3a"
                          ],
                          [
                            0.8888888888888888,
                            "#fdca26"
                          ],
                          [
                            1,
                            "#f0f921"
                          ]
                        ],
                        "type": "heatmap"
                      }
                    ],
                    "heatmapgl": [
                      {
                        "colorbar": {
                          "outlinewidth": 0,
                          "ticks": ""
                        },
                        "colorscale": [
                          [
                            0,
                            "#0d0887"
                          ],
                          [
                            0.1111111111111111,
                            "#46039f"
                          ],
                          [
                            0.2222222222222222,
                            "#7201a8"
                          ],
                          [
                            0.3333333333333333,
                            "#9c179e"
                          ],
                          [
                            0.4444444444444444,
                            "#bd3786"
                          ],
                          [
                            0.5555555555555556,
                            "#d8576b"
                          ],
                          [
                            0.6666666666666666,
                            "#ed7953"
                          ],
                          [
                            0.7777777777777778,
                            "#fb9f3a"
                          ],
                          [
                            0.8888888888888888,
                            "#fdca26"
                          ],
                          [
                            1,
                            "#f0f921"
                          ]
                        ],
                        "type": "heatmapgl"
                      }
                    ],
                    "histogram": [
                      {
                        "marker": {
                          "pattern": {
                            "fillmode": "overlay",
                            "size": 10,
                            "solidity": 0.2
                          }
                        },
                        "type": "histogram"
                      }
                    ],
                    "histogram2d": [
                      {
                        "colorbar": {
                          "outlinewidth": 0,
                          "ticks": ""
                        },
                        "colorscale": [
                          [
                            0,
                            "#0d0887"
                          ],
                          [
                            0.1111111111111111,
                            "#46039f"
                          ],
                          [
                            0.2222222222222222,
                            "#7201a8"
                          ],
                          [
                            0.3333333333333333,
                            "#9c179e"
                          ],
                          [
                            0.4444444444444444,
                            "#bd3786"
                          ],
                          [
                            0.5555555555555556,
                            "#d8576b"
                          ],
                          [
                            0.6666666666666666,
                            "#ed7953"
                          ],
                          [
                            0.7777777777777778,
                            "#fb9f3a"
                          ],
                          [
                            0.8888888888888888,
                            "#fdca26"
                          ],
                          [
                            1,
                            "#f0f921"
                          ]
                        ],
                        "type": "histogram2d"
                      }
                    ],
                    "histogram2dcontour": [
                      {
                        "colorbar": {
                          "outlinewidth": 0,
                          "ticks": ""
                        },
                        "colorscale": [
                          [
                            0,
                            "#0d0887"
                          ],
                          [
                            0.1111111111111111,
                            "#46039f"
                          ],
                          [
                            0.2222222222222222,
                            "#7201a8"
                          ],
                          [
                            0.3333333333333333,
                            "#9c179e"
                          ],
                          [
                            0.4444444444444444,
                            "#bd3786"
                          ],
                          [
                            0.5555555555555556,
                            "#d8576b"
                          ],
                          [
                            0.6666666666666666,
                            "#ed7953"
                          ],
                          [
                            0.7777777777777778,
                            "#fb9f3a"
                          ],
                          [
                            0.8888888888888888,
                            "#fdca26"
                          ],
                          [
                            1,
                            "#f0f921"
                          ]
                        ],
                        "type": "histogram2dcontour"
                      }
                    ],
                    "mesh3d": [
                      {
                        "colorbar": {
                          "outlinewidth": 0,
                          "ticks": ""
                        },
                        "type": "mesh3d"
                      }
                    ],
                    "parcoords": [
                      {
                        "line": {
                          "colorbar": {
                            "outlinewidth": 0,
                            "ticks": ""
                          }
                        },
                        "type": "parcoords"
                      }
                    ],
                    "pie": [
                      {
                        "automargin": true,
                        "type": "pie"
                      }
                    ],
                    "scatter": [
                      {
                        "fillpattern": {
                          "fillmode": "overlay",
                          "size": 10,
                          "solidity": 0.2
                        },
                        "type": "scatter"
                      }
                    ],
                    "scatter3d": [
                      {
                        "line": {
                          "colorbar": {
                            "outlinewidth": 0,
                            "ticks": ""
                          }
                        },
                        "marker": {
                          "colorbar": {
                            "outlinewidth": 0,
                            "ticks": ""
                          }
                        },
                        "type": "scatter3d"
                      }
                    ],
                    "scattercarpet": [
                      {
                        "marker": {
                          "colorbar": {
                            "outlinewidth": 0,
                            "ticks": ""
                          }
                        },
                        "type": "scattercarpet"
                      }
                    ],
                    "scattergeo": [
                      {
                        "marker": {
                          "colorbar": {
                            "outlinewidth": 0,
                            "ticks": ""
                          }
                        },
                        "type": "scattergeo"
                      }
                    ],
                    "scattergl": [
                      {
                        "marker": {
                          "colorbar": {
                            "outlinewidth": 0,
                            "ticks": ""
                          }
                        },
                        "type": "scattergl"
                      }
                    ],
                    "scattermapbox": [
                      {
                        "marker": {
                          "colorbar": {
                            "outlinewidth": 0,
                            "ticks": ""
                          }
                        },
                        "type": "scattermapbox"
                      }
                    ],
                    "scatterpolar": [
                      {
                        "marker": {
                          "colorbar": {
                            "outlinewidth": 0,
                            "ticks": ""
                          }
                        },
                        "type": "scatterpolar"
                      }
                    ],
                    "scatterpolargl": [
                      {
                        "marker": {
                          "colorbar": {
                            "outlinewidth": 0,
                            "ticks": ""
                          }
                        },
                        "type": "scatterpolargl"
                      }
                    ],
                    "scatterternary": [
                      {
                        "marker": {
                          "colorbar": {
                            "outlinewidth": 0,
                            "ticks": ""
                          }
                        },
                        "type": "scatterternary"
                      }
                    ],
                    "surface": [
                      {
                        "colorbar": {
                          "outlinewidth": 0,
                          "ticks": ""
                        },
                        "colorscale": [
                          [
                            0,
                            "#0d0887"
                          ],
                          [
                            0.1111111111111111,
                            "#46039f"
                          ],
                          [
                            0.2222222222222222,
                            "#7201a8"
                          ],
                          [
                            0.3333333333333333,
                            "#9c179e"
                          ],
                          [
                            0.4444444444444444,
                            "#bd3786"
                          ],
                          [
                            0.5555555555555556,
                            "#d8576b"
                          ],
                          [
                            0.6666666666666666,
                            "#ed7953"
                          ],
                          [
                            0.7777777777777778,
                            "#fb9f3a"
                          ],
                          [
                            0.8888888888888888,
                            "#fdca26"
                          ],
                          [
                            1,
                            "#f0f921"
                          ]
                        ],
                        "type": "surface"
                      }
                    ],
                    "table": [
                      {
                        "cells": {
                          "fill": {
                            "color": "#EBF0F8"
                          },
                          "line": {
                            "color": "white"
                          }
                        },
                        "header": {
                          "fill": {
                            "color": "#C8D4E3"
                          },
                          "line": {
                            "color": "white"
                          }
                        },
                        "type": "table"
                      }
                    ]
                  },
                  "layout": {
                    "annotationdefaults": {
                      "arrowcolor": "#2a3f5f",
                      "arrowhead": 0,
                      "arrowwidth": 1
                    },
                    "autotypenumbers": "strict",
                    "coloraxis": {
                      "colorbar": {
                        "outlinewidth": 0,
                        "ticks": ""
                      }
                    },
                    "colorscale": {
                      "diverging": [
                        [
                          0,
                          "#8e0152"
                        ],
                        [
                          0.1,
                          "#c51b7d"
                        ],
                        [
                          0.2,
                          "#de77ae"
                        ],
                        [
                          0.3,
                          "#f1b6da"
                        ],
                        [
                          0.4,
                          "#fde0ef"
                        ],
                        [
                          0.5,
                          "#f7f7f7"
                        ],
                        [
                          0.6,
                          "#e6f5d0"
                        ],
                        [
                          0.7,
                          "#b8e186"
                        ],
                        [
                          0.8,
                          "#7fbc41"
                        ],
                        [
                          0.9,
                          "#4d9221"
                        ],
                        [
                          1,
                          "#276419"
                        ]
                      ],
                      "sequential": [
                        [
                          0,
                          "#0d0887"
                        ],
                        [
                          0.1111111111111111,
                          "#46039f"
                        ],
                        [
                          0.2222222222222222,
                          "#7201a8"
                        ],
                        [
                          0.3333333333333333,
                          "#9c179e"
                        ],
                        [
                          0.4444444444444444,
                          "#bd3786"
                        ],
                        [
                          0.5555555555555556,
                          "#d8576b"
                        ],
                        [
                          0.6666666666666666,
                          "#ed7953"
                        ],
                        [
                          0.7777777777777778,
                          "#fb9f3a"
                        ],
                        [
                          0.8888888888888888,
                          "#fdca26"
                        ],
                        [
                          1,
                          "#f0f921"
                        ]
                      ],
                      "sequentialminus": [
                        [
                          0,
                          "#0d0887"
                        ],
                        [
                          0.1111111111111111,
                          "#46039f"
                        ],
                        [
                          0.2222222222222222,
                          "#7201a8"
                        ],
                        [
                          0.3333333333333333,
                          "#9c179e"
                        ],
                        [
                          0.4444444444444444,
                          "#bd3786"
                        ],
                        [
                          0.5555555555555556,
                          "#d8576b"
                        ],
                        [
                          0.6666666666666666,
                          "#ed7953"
                        ],
                        [
                          0.7777777777777778,
                          "#fb9f3a"
                        ],
                        [
                          0.8888888888888888,
                          "#fdca26"
                        ],
                        [
                          1,
                          "#f0f921"
                        ]
                      ]
                    },
                    "colorway": [
                      "#636efa",
                      "#EF553B",
                      "#00cc96",
                      "#ab63fa",
                      "#FFA15A",
                      "#19d3f3",
                      "#FF6692",
                      "#B6E880",
                      "#FF97FF",
                      "#FECB52"
                    ],
                    "font": {
                      "color": "#2a3f5f"
                    },
                    "geo": {
                      "bgcolor": "white",
                      "lakecolor": "white",
                      "landcolor": "#E5ECF6",
                      "showlakes": true,
                      "showland": true,
                      "subunitcolor": "white"
                    },
                    "hoverlabel": {
                      "align": "left"
                    },
                    "hovermode": "closest",
                    "mapbox": {
                      "style": "light"
                    },
                    "paper_bgcolor": "white",
                    "plot_bgcolor": "#E5ECF6",
                    "polar": {
                      "angularaxis": {
                        "gridcolor": "white",
                        "linecolor": "white",
                        "ticks": ""
                      },
                      "bgcolor": "#E5ECF6",
                      "radialaxis": {
                        "gridcolor": "white",
                        "linecolor": "white",
                        "ticks": ""
                      }
                    },
                    "scene": {
                      "xaxis": {
                        "backgroundcolor": "#E5ECF6",
                        "gridcolor": "white",
                        "gridwidth": 2,
                        "linecolor": "white",
                        "showbackground": true,
                        "ticks": "",
                        "zerolinecolor": "white"
                      },
                      "yaxis": {
                        "backgroundcolor": "#E5ECF6",
                        "gridcolor": "white",
                        "gridwidth": 2,
                        "linecolor": "white",
                        "showbackground": true,
                        "ticks": "",
                        "zerolinecolor": "white"
                      },
                      "zaxis": {
                        "backgroundcolor": "#E5ECF6",
                        "gridcolor": "white",
                        "gridwidth": 2,
                        "linecolor": "white",
                        "showbackground": true,
                        "ticks": "",
                        "zerolinecolor": "white"
                      }
                    },
                    "shapedefaults": {
                      "line": {
                        "color": "#2a3f5f"
                      }
                    },
                    "ternary": {
                      "aaxis": {
                        "gridcolor": "white",
                        "linecolor": "white",
                        "ticks": ""
                      },
                      "baxis": {
                        "gridcolor": "white",
                        "linecolor": "white",
                        "ticks": ""
                      },
                      "bgcolor": "#E5ECF6",
                      "caxis": {
                        "gridcolor": "white",
                        "linecolor": "white",
                        "ticks": ""
                      }
                    },
                    "title": {
                      "x": 0.05
                    },
                    "xaxis": {
                      "automargin": true,
                      "gridcolor": "white",
                      "linecolor": "white",
                      "ticks": "",
                      "title": {
                        "standoff": 15
                      },
                      "zerolinecolor": "white",
                      "zerolinewidth": 2
                    },
                    "yaxis": {
                      "automargin": true,
                      "gridcolor": "white",
                      "linecolor": "white",
                      "ticks": "",
                      "title": {
                        "standoff": 15
                      },
                      "zerolinecolor": "white",
                      "zerolinewidth": 2
                    }
                  }
                },
                "title": {
                  "text": "Frekuensi per Tahun"
                },
                "xaxis": {
                  "anchor": "y",
                  "domain": [
                    0,
                    1
                  ],
                  "title": {
                    "text": "Tahun"
                  }
                },
                "yaxis": {
                  "anchor": "x",
                  "domain": [
                    0,
                    1
                  ],
                  "title": {
                    "text": "Frekuensi"
                  }
                }
              }
            }
          },
          "metadata": {},
          "output_type": "display_data"
        }
      ],
      "source": [
        "fig_1 = df.groupby(['year'], as_index=False, sort=False).count()\n",
        "px.bar(fig_1, y = 'mag', x = 'year',\n",
        "        color = 'mag', height = 600,\n",
        "        labels = {'mag': 'Frekuensi', 'year': 'Tahun'},\n",
        "        title = 'Frekuensi per Tahun',\n",
        "        barmode='group',\n",
        "        text_auto='.2s'\n",
        ")"
      ]
    },
    {
      "cell_type": "code",
      "execution_count": null,
      "id": "5d0931f8",
      "metadata": {
        "execution": {
          "iopub.execute_input": "2023-08-01T06:56:41.478739Z",
          "iopub.status.busy": "2023-08-01T06:56:41.477869Z",
          "iopub.status.idle": "2023-08-01T06:56:41.504849Z",
          "shell.execute_reply": "2023-08-01T06:56:41.503623Z"
        },
        "id": "5d0931f8",
        "papermill": {
          "duration": 0.045308,
          "end_time": "2023-08-01T06:56:41.507439",
          "exception": false,
          "start_time": "2023-08-01T06:56:41.462131",
          "status": "completed"
        },
        "tags": []
      },
      "outputs": [],
      "source": [
        "# deklarasi urutan bulan\n",
        "order = ['Januari', 'Februari', 'Maret', 'April', 'Mei', 'Juni', 'Juli', 'Agustus', 'September', 'Oktober', 'November', 'Desember']\n",
        "\n",
        "# ubah kolom 'day' menjadi tipe kategorikal dalam urutan yang ditentukan\n",
        "df['month'] = pd.Categorical(df['month'], categories=order, ordered=True)"
      ]
    },
    {
      "cell_type": "markdown",
      "id": "8756c294",
      "metadata": {
        "id": "8756c294",
        "papermill": {
          "duration": 0.01385,
          "end_time": "2023-08-01T06:56:41.535604",
          "exception": false,
          "start_time": "2023-08-01T06:56:41.521754",
          "status": "completed"
        },
        "tags": []
      },
      "source": [
        "##### Distribution by month"
      ]
    },
    {
      "cell_type": "code",
      "execution_count": null,
      "id": "c706e746",
      "metadata": {
        "_kg_hide-input": true,
        "colab": {
          "base_uri": "https://localhost:8080/",
          "height": 617
        },
        "execution": {
          "iopub.execute_input": "2023-08-01T06:56:41.566054Z",
          "iopub.status.busy": "2023-08-01T06:56:41.565636Z",
          "iopub.status.idle": "2023-08-01T06:56:41.744517Z",
          "shell.execute_reply": "2023-08-01T06:56:41.743509Z"
        },
        "id": "c706e746",
        "outputId": "8f807b6e-520c-4904-816e-8ee62651f836",
        "papermill": {
          "duration": 0.19702,
          "end_time": "2023-08-01T06:56:41.746934",
          "exception": false,
          "start_time": "2023-08-01T06:56:41.549914",
          "status": "completed"
        },
        "tags": []
      },
      "outputs": [
        {
          "data": {
            "application/vnd.plotly.v1+json": {
              "config": {
                "plotlyServerURL": "https://plot.ly"
              },
              "data": [
                {
                  "alignmentgroup": "True",
                  "hovertemplate": "Bulan=%{x}<br>Frekuensi=%{marker.color}<extra></extra>",
                  "legendgroup": "",
                  "marker": {
                    "color": [
                      0,
                      0,
                      0,
                      8225,
                      0,
                      0,
                      0,
                      0,
                      6914,
                      0,
                      8464,
                      0
                    ],
                    "coloraxis": "coloraxis",
                    "pattern": {
                      "shape": ""
                    }
                  },
                  "name": "",
                  "offsetgroup": "",
                  "orientation": "v",
                  "showlegend": false,
                  "textposition": "auto",
                  "texttemplate": "%{y:.2s}",
                  "type": "bar",
                  "x": [
                    "Januari",
                    "Februari",
                    "Maret",
                    "April",
                    "Mei",
                    "Juni",
                    "Juli",
                    "Agustus",
                    "September",
                    "Oktober",
                    "November",
                    "Desember"
                  ],
                  "xaxis": "x",
                  "y": [
                    0,
                    0,
                    0,
                    8225,
                    0,
                    0,
                    0,
                    0,
                    6914,
                    0,
                    8464,
                    0
                  ],
                  "yaxis": "y"
                }
              ],
              "layout": {
                "barmode": "group",
                "coloraxis": {
                  "colorbar": {
                    "title": {
                      "text": "Frekuensi"
                    }
                  },
                  "colorscale": [
                    [
                      0,
                      "#0d0887"
                    ],
                    [
                      0.1111111111111111,
                      "#46039f"
                    ],
                    [
                      0.2222222222222222,
                      "#7201a8"
                    ],
                    [
                      0.3333333333333333,
                      "#9c179e"
                    ],
                    [
                      0.4444444444444444,
                      "#bd3786"
                    ],
                    [
                      0.5555555555555556,
                      "#d8576b"
                    ],
                    [
                      0.6666666666666666,
                      "#ed7953"
                    ],
                    [
                      0.7777777777777778,
                      "#fb9f3a"
                    ],
                    [
                      0.8888888888888888,
                      "#fdca26"
                    ],
                    [
                      1,
                      "#f0f921"
                    ]
                  ]
                },
                "height": 600,
                "legend": {
                  "tracegroupgap": 0
                },
                "template": {
                  "data": {
                    "bar": [
                      {
                        "error_x": {
                          "color": "#2a3f5f"
                        },
                        "error_y": {
                          "color": "#2a3f5f"
                        },
                        "marker": {
                          "line": {
                            "color": "#E5ECF6",
                            "width": 0.5
                          },
                          "pattern": {
                            "fillmode": "overlay",
                            "size": 10,
                            "solidity": 0.2
                          }
                        },
                        "type": "bar"
                      }
                    ],
                    "barpolar": [
                      {
                        "marker": {
                          "line": {
                            "color": "#E5ECF6",
                            "width": 0.5
                          },
                          "pattern": {
                            "fillmode": "overlay",
                            "size": 10,
                            "solidity": 0.2
                          }
                        },
                        "type": "barpolar"
                      }
                    ],
                    "carpet": [
                      {
                        "aaxis": {
                          "endlinecolor": "#2a3f5f",
                          "gridcolor": "white",
                          "linecolor": "white",
                          "minorgridcolor": "white",
                          "startlinecolor": "#2a3f5f"
                        },
                        "baxis": {
                          "endlinecolor": "#2a3f5f",
                          "gridcolor": "white",
                          "linecolor": "white",
                          "minorgridcolor": "white",
                          "startlinecolor": "#2a3f5f"
                        },
                        "type": "carpet"
                      }
                    ],
                    "choropleth": [
                      {
                        "colorbar": {
                          "outlinewidth": 0,
                          "ticks": ""
                        },
                        "type": "choropleth"
                      }
                    ],
                    "contour": [
                      {
                        "colorbar": {
                          "outlinewidth": 0,
                          "ticks": ""
                        },
                        "colorscale": [
                          [
                            0,
                            "#0d0887"
                          ],
                          [
                            0.1111111111111111,
                            "#46039f"
                          ],
                          [
                            0.2222222222222222,
                            "#7201a8"
                          ],
                          [
                            0.3333333333333333,
                            "#9c179e"
                          ],
                          [
                            0.4444444444444444,
                            "#bd3786"
                          ],
                          [
                            0.5555555555555556,
                            "#d8576b"
                          ],
                          [
                            0.6666666666666666,
                            "#ed7953"
                          ],
                          [
                            0.7777777777777778,
                            "#fb9f3a"
                          ],
                          [
                            0.8888888888888888,
                            "#fdca26"
                          ],
                          [
                            1,
                            "#f0f921"
                          ]
                        ],
                        "type": "contour"
                      }
                    ],
                    "contourcarpet": [
                      {
                        "colorbar": {
                          "outlinewidth": 0,
                          "ticks": ""
                        },
                        "type": "contourcarpet"
                      }
                    ],
                    "heatmap": [
                      {
                        "colorbar": {
                          "outlinewidth": 0,
                          "ticks": ""
                        },
                        "colorscale": [
                          [
                            0,
                            "#0d0887"
                          ],
                          [
                            0.1111111111111111,
                            "#46039f"
                          ],
                          [
                            0.2222222222222222,
                            "#7201a8"
                          ],
                          [
                            0.3333333333333333,
                            "#9c179e"
                          ],
                          [
                            0.4444444444444444,
                            "#bd3786"
                          ],
                          [
                            0.5555555555555556,
                            "#d8576b"
                          ],
                          [
                            0.6666666666666666,
                            "#ed7953"
                          ],
                          [
                            0.7777777777777778,
                            "#fb9f3a"
                          ],
                          [
                            0.8888888888888888,
                            "#fdca26"
                          ],
                          [
                            1,
                            "#f0f921"
                          ]
                        ],
                        "type": "heatmap"
                      }
                    ],
                    "heatmapgl": [
                      {
                        "colorbar": {
                          "outlinewidth": 0,
                          "ticks": ""
                        },
                        "colorscale": [
                          [
                            0,
                            "#0d0887"
                          ],
                          [
                            0.1111111111111111,
                            "#46039f"
                          ],
                          [
                            0.2222222222222222,
                            "#7201a8"
                          ],
                          [
                            0.3333333333333333,
                            "#9c179e"
                          ],
                          [
                            0.4444444444444444,
                            "#bd3786"
                          ],
                          [
                            0.5555555555555556,
                            "#d8576b"
                          ],
                          [
                            0.6666666666666666,
                            "#ed7953"
                          ],
                          [
                            0.7777777777777778,
                            "#fb9f3a"
                          ],
                          [
                            0.8888888888888888,
                            "#fdca26"
                          ],
                          [
                            1,
                            "#f0f921"
                          ]
                        ],
                        "type": "heatmapgl"
                      }
                    ],
                    "histogram": [
                      {
                        "marker": {
                          "pattern": {
                            "fillmode": "overlay",
                            "size": 10,
                            "solidity": 0.2
                          }
                        },
                        "type": "histogram"
                      }
                    ],
                    "histogram2d": [
                      {
                        "colorbar": {
                          "outlinewidth": 0,
                          "ticks": ""
                        },
                        "colorscale": [
                          [
                            0,
                            "#0d0887"
                          ],
                          [
                            0.1111111111111111,
                            "#46039f"
                          ],
                          [
                            0.2222222222222222,
                            "#7201a8"
                          ],
                          [
                            0.3333333333333333,
                            "#9c179e"
                          ],
                          [
                            0.4444444444444444,
                            "#bd3786"
                          ],
                          [
                            0.5555555555555556,
                            "#d8576b"
                          ],
                          [
                            0.6666666666666666,
                            "#ed7953"
                          ],
                          [
                            0.7777777777777778,
                            "#fb9f3a"
                          ],
                          [
                            0.8888888888888888,
                            "#fdca26"
                          ],
                          [
                            1,
                            "#f0f921"
                          ]
                        ],
                        "type": "histogram2d"
                      }
                    ],
                    "histogram2dcontour": [
                      {
                        "colorbar": {
                          "outlinewidth": 0,
                          "ticks": ""
                        },
                        "colorscale": [
                          [
                            0,
                            "#0d0887"
                          ],
                          [
                            0.1111111111111111,
                            "#46039f"
                          ],
                          [
                            0.2222222222222222,
                            "#7201a8"
                          ],
                          [
                            0.3333333333333333,
                            "#9c179e"
                          ],
                          [
                            0.4444444444444444,
                            "#bd3786"
                          ],
                          [
                            0.5555555555555556,
                            "#d8576b"
                          ],
                          [
                            0.6666666666666666,
                            "#ed7953"
                          ],
                          [
                            0.7777777777777778,
                            "#fb9f3a"
                          ],
                          [
                            0.8888888888888888,
                            "#fdca26"
                          ],
                          [
                            1,
                            "#f0f921"
                          ]
                        ],
                        "type": "histogram2dcontour"
                      }
                    ],
                    "mesh3d": [
                      {
                        "colorbar": {
                          "outlinewidth": 0,
                          "ticks": ""
                        },
                        "type": "mesh3d"
                      }
                    ],
                    "parcoords": [
                      {
                        "line": {
                          "colorbar": {
                            "outlinewidth": 0,
                            "ticks": ""
                          }
                        },
                        "type": "parcoords"
                      }
                    ],
                    "pie": [
                      {
                        "automargin": true,
                        "type": "pie"
                      }
                    ],
                    "scatter": [
                      {
                        "fillpattern": {
                          "fillmode": "overlay",
                          "size": 10,
                          "solidity": 0.2
                        },
                        "type": "scatter"
                      }
                    ],
                    "scatter3d": [
                      {
                        "line": {
                          "colorbar": {
                            "outlinewidth": 0,
                            "ticks": ""
                          }
                        },
                        "marker": {
                          "colorbar": {
                            "outlinewidth": 0,
                            "ticks": ""
                          }
                        },
                        "type": "scatter3d"
                      }
                    ],
                    "scattercarpet": [
                      {
                        "marker": {
                          "colorbar": {
                            "outlinewidth": 0,
                            "ticks": ""
                          }
                        },
                        "type": "scattercarpet"
                      }
                    ],
                    "scattergeo": [
                      {
                        "marker": {
                          "colorbar": {
                            "outlinewidth": 0,
                            "ticks": ""
                          }
                        },
                        "type": "scattergeo"
                      }
                    ],
                    "scattergl": [
                      {
                        "marker": {
                          "colorbar": {
                            "outlinewidth": 0,
                            "ticks": ""
                          }
                        },
                        "type": "scattergl"
                      }
                    ],
                    "scattermapbox": [
                      {
                        "marker": {
                          "colorbar": {
                            "outlinewidth": 0,
                            "ticks": ""
                          }
                        },
                        "type": "scattermapbox"
                      }
                    ],
                    "scatterpolar": [
                      {
                        "marker": {
                          "colorbar": {
                            "outlinewidth": 0,
                            "ticks": ""
                          }
                        },
                        "type": "scatterpolar"
                      }
                    ],
                    "scatterpolargl": [
                      {
                        "marker": {
                          "colorbar": {
                            "outlinewidth": 0,
                            "ticks": ""
                          }
                        },
                        "type": "scatterpolargl"
                      }
                    ],
                    "scatterternary": [
                      {
                        "marker": {
                          "colorbar": {
                            "outlinewidth": 0,
                            "ticks": ""
                          }
                        },
                        "type": "scatterternary"
                      }
                    ],
                    "surface": [
                      {
                        "colorbar": {
                          "outlinewidth": 0,
                          "ticks": ""
                        },
                        "colorscale": [
                          [
                            0,
                            "#0d0887"
                          ],
                          [
                            0.1111111111111111,
                            "#46039f"
                          ],
                          [
                            0.2222222222222222,
                            "#7201a8"
                          ],
                          [
                            0.3333333333333333,
                            "#9c179e"
                          ],
                          [
                            0.4444444444444444,
                            "#bd3786"
                          ],
                          [
                            0.5555555555555556,
                            "#d8576b"
                          ],
                          [
                            0.6666666666666666,
                            "#ed7953"
                          ],
                          [
                            0.7777777777777778,
                            "#fb9f3a"
                          ],
                          [
                            0.8888888888888888,
                            "#fdca26"
                          ],
                          [
                            1,
                            "#f0f921"
                          ]
                        ],
                        "type": "surface"
                      }
                    ],
                    "table": [
                      {
                        "cells": {
                          "fill": {
                            "color": "#EBF0F8"
                          },
                          "line": {
                            "color": "white"
                          }
                        },
                        "header": {
                          "fill": {
                            "color": "#C8D4E3"
                          },
                          "line": {
                            "color": "white"
                          }
                        },
                        "type": "table"
                      }
                    ]
                  },
                  "layout": {
                    "annotationdefaults": {
                      "arrowcolor": "#2a3f5f",
                      "arrowhead": 0,
                      "arrowwidth": 1
                    },
                    "autotypenumbers": "strict",
                    "coloraxis": {
                      "colorbar": {
                        "outlinewidth": 0,
                        "ticks": ""
                      }
                    },
                    "colorscale": {
                      "diverging": [
                        [
                          0,
                          "#8e0152"
                        ],
                        [
                          0.1,
                          "#c51b7d"
                        ],
                        [
                          0.2,
                          "#de77ae"
                        ],
                        [
                          0.3,
                          "#f1b6da"
                        ],
                        [
                          0.4,
                          "#fde0ef"
                        ],
                        [
                          0.5,
                          "#f7f7f7"
                        ],
                        [
                          0.6,
                          "#e6f5d0"
                        ],
                        [
                          0.7,
                          "#b8e186"
                        ],
                        [
                          0.8,
                          "#7fbc41"
                        ],
                        [
                          0.9,
                          "#4d9221"
                        ],
                        [
                          1,
                          "#276419"
                        ]
                      ],
                      "sequential": [
                        [
                          0,
                          "#0d0887"
                        ],
                        [
                          0.1111111111111111,
                          "#46039f"
                        ],
                        [
                          0.2222222222222222,
                          "#7201a8"
                        ],
                        [
                          0.3333333333333333,
                          "#9c179e"
                        ],
                        [
                          0.4444444444444444,
                          "#bd3786"
                        ],
                        [
                          0.5555555555555556,
                          "#d8576b"
                        ],
                        [
                          0.6666666666666666,
                          "#ed7953"
                        ],
                        [
                          0.7777777777777778,
                          "#fb9f3a"
                        ],
                        [
                          0.8888888888888888,
                          "#fdca26"
                        ],
                        [
                          1,
                          "#f0f921"
                        ]
                      ],
                      "sequentialminus": [
                        [
                          0,
                          "#0d0887"
                        ],
                        [
                          0.1111111111111111,
                          "#46039f"
                        ],
                        [
                          0.2222222222222222,
                          "#7201a8"
                        ],
                        [
                          0.3333333333333333,
                          "#9c179e"
                        ],
                        [
                          0.4444444444444444,
                          "#bd3786"
                        ],
                        [
                          0.5555555555555556,
                          "#d8576b"
                        ],
                        [
                          0.6666666666666666,
                          "#ed7953"
                        ],
                        [
                          0.7777777777777778,
                          "#fb9f3a"
                        ],
                        [
                          0.8888888888888888,
                          "#fdca26"
                        ],
                        [
                          1,
                          "#f0f921"
                        ]
                      ]
                    },
                    "colorway": [
                      "#636efa",
                      "#EF553B",
                      "#00cc96",
                      "#ab63fa",
                      "#FFA15A",
                      "#19d3f3",
                      "#FF6692",
                      "#B6E880",
                      "#FF97FF",
                      "#FECB52"
                    ],
                    "font": {
                      "color": "#2a3f5f"
                    },
                    "geo": {
                      "bgcolor": "white",
                      "lakecolor": "white",
                      "landcolor": "#E5ECF6",
                      "showlakes": true,
                      "showland": true,
                      "subunitcolor": "white"
                    },
                    "hoverlabel": {
                      "align": "left"
                    },
                    "hovermode": "closest",
                    "mapbox": {
                      "style": "light"
                    },
                    "paper_bgcolor": "white",
                    "plot_bgcolor": "#E5ECF6",
                    "polar": {
                      "angularaxis": {
                        "gridcolor": "white",
                        "linecolor": "white",
                        "ticks": ""
                      },
                      "bgcolor": "#E5ECF6",
                      "radialaxis": {
                        "gridcolor": "white",
                        "linecolor": "white",
                        "ticks": ""
                      }
                    },
                    "scene": {
                      "xaxis": {
                        "backgroundcolor": "#E5ECF6",
                        "gridcolor": "white",
                        "gridwidth": 2,
                        "linecolor": "white",
                        "showbackground": true,
                        "ticks": "",
                        "zerolinecolor": "white"
                      },
                      "yaxis": {
                        "backgroundcolor": "#E5ECF6",
                        "gridcolor": "white",
                        "gridwidth": 2,
                        "linecolor": "white",
                        "showbackground": true,
                        "ticks": "",
                        "zerolinecolor": "white"
                      },
                      "zaxis": {
                        "backgroundcolor": "#E5ECF6",
                        "gridcolor": "white",
                        "gridwidth": 2,
                        "linecolor": "white",
                        "showbackground": true,
                        "ticks": "",
                        "zerolinecolor": "white"
                      }
                    },
                    "shapedefaults": {
                      "line": {
                        "color": "#2a3f5f"
                      }
                    },
                    "ternary": {
                      "aaxis": {
                        "gridcolor": "white",
                        "linecolor": "white",
                        "ticks": ""
                      },
                      "baxis": {
                        "gridcolor": "white",
                        "linecolor": "white",
                        "ticks": ""
                      },
                      "bgcolor": "#E5ECF6",
                      "caxis": {
                        "gridcolor": "white",
                        "linecolor": "white",
                        "ticks": ""
                      }
                    },
                    "title": {
                      "x": 0.05
                    },
                    "xaxis": {
                      "automargin": true,
                      "gridcolor": "white",
                      "linecolor": "white",
                      "ticks": "",
                      "title": {
                        "standoff": 15
                      },
                      "zerolinecolor": "white",
                      "zerolinewidth": 2
                    },
                    "yaxis": {
                      "automargin": true,
                      "gridcolor": "white",
                      "linecolor": "white",
                      "ticks": "",
                      "title": {
                        "standoff": 15
                      },
                      "zerolinecolor": "white",
                      "zerolinewidth": 2
                    }
                  }
                },
                "title": {
                  "text": "Frekuensi per Bulan"
                },
                "xaxis": {
                  "anchor": "y",
                  "domain": [
                    0,
                    1
                  ],
                  "title": {
                    "text": "Bulan"
                  }
                },
                "yaxis": {
                  "anchor": "x",
                  "domain": [
                    0,
                    1
                  ],
                  "title": {
                    "text": "Frekuensi"
                  }
                }
              }
            }
          },
          "metadata": {},
          "output_type": "display_data"
        }
      ],
      "source": [
        "fig_2 = df.groupby(['month'], as_index=False, sort=True).count()\n",
        "px.bar(fig_2, y = 'mag', x = 'month',\n",
        "       color= 'mag', height=600,\n",
        "       labels={'mag': 'Frekuensi', 'month': 'Bulan'},\n",
        "       title='Frekuensi per Bulan',\n",
        "       barmode='group',\n",
        "       text_auto='.2s'\n",
        ")"
      ]
    },
    {
      "cell_type": "code",
      "execution_count": null,
      "id": "11c7fec9",
      "metadata": {
        "colab": {
          "base_uri": "https://localhost:8080/"
        },
        "execution": {
          "iopub.execute_input": "2023-08-01T06:56:41.777967Z",
          "iopub.status.busy": "2023-08-01T06:56:41.777585Z",
          "iopub.status.idle": "2023-08-01T06:56:41.785660Z",
          "shell.execute_reply": "2023-08-01T06:56:41.784383Z"
        },
        "id": "11c7fec9",
        "outputId": "7dfed16b-fcca-4de1-c3dd-c7f62d35a777",
        "papermill": {
          "duration": 0.026598,
          "end_time": "2023-08-01T06:56:41.788136",
          "exception": false,
          "start_time": "2023-08-01T06:56:41.761538",
          "status": "completed"
        },
        "tags": []
      },
      "outputs": [
        {
          "data": {
            "text/plain": [
              "[7.2, 7.3, 7.5, 7.7, 7.9]"
            ]
          },
          "execution_count": 13,
          "metadata": {},
          "output_type": "execute_result"
        }
      ],
      "source": [
        "# 5th largest earthquake scale\n",
        "np.sort(df.mag.unique())[-5:].tolist()"
      ]
    },
    {
      "cell_type": "markdown",
      "id": "042a76bf",
      "metadata": {
        "id": "042a76bf",
        "papermill": {
          "duration": 0.014368,
          "end_time": "2023-08-01T06:56:41.817381",
          "exception": false,
          "start_time": "2023-08-01T06:56:41.803013",
          "status": "completed"
        },
        "tags": []
      },
      "source": [
        "##### Distribution by day"
      ]
    },
    {
      "cell_type": "code",
      "execution_count": null,
      "id": "9a83f9f2",
      "metadata": {
        "_kg_hide-input": true,
        "colab": {
          "base_uri": "https://localhost:8080/",
          "height": 542
        },
        "execution": {
          "iopub.execute_input": "2023-08-01T06:56:41.848943Z",
          "iopub.status.busy": "2023-08-01T06:56:41.848077Z",
          "iopub.status.idle": "2023-08-01T06:56:42.003939Z",
          "shell.execute_reply": "2023-08-01T06:56:42.002700Z"
        },
        "id": "9a83f9f2",
        "outputId": "8b94f411-2825-4ebe-a669-de3e4e697ec9",
        "papermill": {
          "duration": 0.174451,
          "end_time": "2023-08-01T06:56:42.006533",
          "exception": false,
          "start_time": "2023-08-01T06:56:41.832082",
          "status": "completed"
        },
        "tags": []
      },
      "outputs": [
        {
          "data": {
            "application/vnd.plotly.v1+json": {
              "config": {
                "plotlyServerURL": "https://plot.ly"
              },
              "data": [
                {
                  "alignmentgroup": "True",
                  "hovertemplate": "Frekuensi=%{marker.color}<br>Hari=%{y}<extra></extra>",
                  "legendgroup": "",
                  "marker": {
                    "color": [
                      13003,
                      13462,
                      12390,
                      13180,
                      13056,
                      13414,
                      12890
                    ],
                    "coloraxis": "coloraxis",
                    "pattern": {
                      "shape": ""
                    }
                  },
                  "name": "",
                  "offsetgroup": "",
                  "orientation": "h",
                  "showlegend": false,
                  "textposition": "auto",
                  "texttemplate": "%{x:.2s}",
                  "type": "bar",
                  "x": [
                    13003,
                    13462,
                    12390,
                    13180,
                    13056,
                    13414,
                    12890
                  ],
                  "xaxis": "x",
                  "y": [
                    "Friday",
                    "Monday",
                    "Saturday",
                    "Sunday",
                    "Thursday",
                    "Tuesday",
                    "Wednesday"
                  ],
                  "yaxis": "y"
                }
              ],
              "layout": {
                "barmode": "group",
                "coloraxis": {
                  "colorbar": {
                    "title": {
                      "text": "Frekuensi"
                    }
                  },
                  "colorscale": [
                    [
                      0,
                      "#0d0887"
                    ],
                    [
                      0.1111111111111111,
                      "#46039f"
                    ],
                    [
                      0.2222222222222222,
                      "#7201a8"
                    ],
                    [
                      0.3333333333333333,
                      "#9c179e"
                    ],
                    [
                      0.4444444444444444,
                      "#bd3786"
                    ],
                    [
                      0.5555555555555556,
                      "#d8576b"
                    ],
                    [
                      0.6666666666666666,
                      "#ed7953"
                    ],
                    [
                      0.7777777777777778,
                      "#fb9f3a"
                    ],
                    [
                      0.8888888888888888,
                      "#fdca26"
                    ],
                    [
                      1,
                      "#f0f921"
                    ]
                  ]
                },
                "legend": {
                  "tracegroupgap": 0
                },
                "template": {
                  "data": {
                    "bar": [
                      {
                        "error_x": {
                          "color": "#2a3f5f"
                        },
                        "error_y": {
                          "color": "#2a3f5f"
                        },
                        "marker": {
                          "line": {
                            "color": "#E5ECF6",
                            "width": 0.5
                          },
                          "pattern": {
                            "fillmode": "overlay",
                            "size": 10,
                            "solidity": 0.2
                          }
                        },
                        "type": "bar"
                      }
                    ],
                    "barpolar": [
                      {
                        "marker": {
                          "line": {
                            "color": "#E5ECF6",
                            "width": 0.5
                          },
                          "pattern": {
                            "fillmode": "overlay",
                            "size": 10,
                            "solidity": 0.2
                          }
                        },
                        "type": "barpolar"
                      }
                    ],
                    "carpet": [
                      {
                        "aaxis": {
                          "endlinecolor": "#2a3f5f",
                          "gridcolor": "white",
                          "linecolor": "white",
                          "minorgridcolor": "white",
                          "startlinecolor": "#2a3f5f"
                        },
                        "baxis": {
                          "endlinecolor": "#2a3f5f",
                          "gridcolor": "white",
                          "linecolor": "white",
                          "minorgridcolor": "white",
                          "startlinecolor": "#2a3f5f"
                        },
                        "type": "carpet"
                      }
                    ],
                    "choropleth": [
                      {
                        "colorbar": {
                          "outlinewidth": 0,
                          "ticks": ""
                        },
                        "type": "choropleth"
                      }
                    ],
                    "contour": [
                      {
                        "colorbar": {
                          "outlinewidth": 0,
                          "ticks": ""
                        },
                        "colorscale": [
                          [
                            0,
                            "#0d0887"
                          ],
                          [
                            0.1111111111111111,
                            "#46039f"
                          ],
                          [
                            0.2222222222222222,
                            "#7201a8"
                          ],
                          [
                            0.3333333333333333,
                            "#9c179e"
                          ],
                          [
                            0.4444444444444444,
                            "#bd3786"
                          ],
                          [
                            0.5555555555555556,
                            "#d8576b"
                          ],
                          [
                            0.6666666666666666,
                            "#ed7953"
                          ],
                          [
                            0.7777777777777778,
                            "#fb9f3a"
                          ],
                          [
                            0.8888888888888888,
                            "#fdca26"
                          ],
                          [
                            1,
                            "#f0f921"
                          ]
                        ],
                        "type": "contour"
                      }
                    ],
                    "contourcarpet": [
                      {
                        "colorbar": {
                          "outlinewidth": 0,
                          "ticks": ""
                        },
                        "type": "contourcarpet"
                      }
                    ],
                    "heatmap": [
                      {
                        "colorbar": {
                          "outlinewidth": 0,
                          "ticks": ""
                        },
                        "colorscale": [
                          [
                            0,
                            "#0d0887"
                          ],
                          [
                            0.1111111111111111,
                            "#46039f"
                          ],
                          [
                            0.2222222222222222,
                            "#7201a8"
                          ],
                          [
                            0.3333333333333333,
                            "#9c179e"
                          ],
                          [
                            0.4444444444444444,
                            "#bd3786"
                          ],
                          [
                            0.5555555555555556,
                            "#d8576b"
                          ],
                          [
                            0.6666666666666666,
                            "#ed7953"
                          ],
                          [
                            0.7777777777777778,
                            "#fb9f3a"
                          ],
                          [
                            0.8888888888888888,
                            "#fdca26"
                          ],
                          [
                            1,
                            "#f0f921"
                          ]
                        ],
                        "type": "heatmap"
                      }
                    ],
                    "heatmapgl": [
                      {
                        "colorbar": {
                          "outlinewidth": 0,
                          "ticks": ""
                        },
                        "colorscale": [
                          [
                            0,
                            "#0d0887"
                          ],
                          [
                            0.1111111111111111,
                            "#46039f"
                          ],
                          [
                            0.2222222222222222,
                            "#7201a8"
                          ],
                          [
                            0.3333333333333333,
                            "#9c179e"
                          ],
                          [
                            0.4444444444444444,
                            "#bd3786"
                          ],
                          [
                            0.5555555555555556,
                            "#d8576b"
                          ],
                          [
                            0.6666666666666666,
                            "#ed7953"
                          ],
                          [
                            0.7777777777777778,
                            "#fb9f3a"
                          ],
                          [
                            0.8888888888888888,
                            "#fdca26"
                          ],
                          [
                            1,
                            "#f0f921"
                          ]
                        ],
                        "type": "heatmapgl"
                      }
                    ],
                    "histogram": [
                      {
                        "marker": {
                          "pattern": {
                            "fillmode": "overlay",
                            "size": 10,
                            "solidity": 0.2
                          }
                        },
                        "type": "histogram"
                      }
                    ],
                    "histogram2d": [
                      {
                        "colorbar": {
                          "outlinewidth": 0,
                          "ticks": ""
                        },
                        "colorscale": [
                          [
                            0,
                            "#0d0887"
                          ],
                          [
                            0.1111111111111111,
                            "#46039f"
                          ],
                          [
                            0.2222222222222222,
                            "#7201a8"
                          ],
                          [
                            0.3333333333333333,
                            "#9c179e"
                          ],
                          [
                            0.4444444444444444,
                            "#bd3786"
                          ],
                          [
                            0.5555555555555556,
                            "#d8576b"
                          ],
                          [
                            0.6666666666666666,
                            "#ed7953"
                          ],
                          [
                            0.7777777777777778,
                            "#fb9f3a"
                          ],
                          [
                            0.8888888888888888,
                            "#fdca26"
                          ],
                          [
                            1,
                            "#f0f921"
                          ]
                        ],
                        "type": "histogram2d"
                      }
                    ],
                    "histogram2dcontour": [
                      {
                        "colorbar": {
                          "outlinewidth": 0,
                          "ticks": ""
                        },
                        "colorscale": [
                          [
                            0,
                            "#0d0887"
                          ],
                          [
                            0.1111111111111111,
                            "#46039f"
                          ],
                          [
                            0.2222222222222222,
                            "#7201a8"
                          ],
                          [
                            0.3333333333333333,
                            "#9c179e"
                          ],
                          [
                            0.4444444444444444,
                            "#bd3786"
                          ],
                          [
                            0.5555555555555556,
                            "#d8576b"
                          ],
                          [
                            0.6666666666666666,
                            "#ed7953"
                          ],
                          [
                            0.7777777777777778,
                            "#fb9f3a"
                          ],
                          [
                            0.8888888888888888,
                            "#fdca26"
                          ],
                          [
                            1,
                            "#f0f921"
                          ]
                        ],
                        "type": "histogram2dcontour"
                      }
                    ],
                    "mesh3d": [
                      {
                        "colorbar": {
                          "outlinewidth": 0,
                          "ticks": ""
                        },
                        "type": "mesh3d"
                      }
                    ],
                    "parcoords": [
                      {
                        "line": {
                          "colorbar": {
                            "outlinewidth": 0,
                            "ticks": ""
                          }
                        },
                        "type": "parcoords"
                      }
                    ],
                    "pie": [
                      {
                        "automargin": true,
                        "type": "pie"
                      }
                    ],
                    "scatter": [
                      {
                        "fillpattern": {
                          "fillmode": "overlay",
                          "size": 10,
                          "solidity": 0.2
                        },
                        "type": "scatter"
                      }
                    ],
                    "scatter3d": [
                      {
                        "line": {
                          "colorbar": {
                            "outlinewidth": 0,
                            "ticks": ""
                          }
                        },
                        "marker": {
                          "colorbar": {
                            "outlinewidth": 0,
                            "ticks": ""
                          }
                        },
                        "type": "scatter3d"
                      }
                    ],
                    "scattercarpet": [
                      {
                        "marker": {
                          "colorbar": {
                            "outlinewidth": 0,
                            "ticks": ""
                          }
                        },
                        "type": "scattercarpet"
                      }
                    ],
                    "scattergeo": [
                      {
                        "marker": {
                          "colorbar": {
                            "outlinewidth": 0,
                            "ticks": ""
                          }
                        },
                        "type": "scattergeo"
                      }
                    ],
                    "scattergl": [
                      {
                        "marker": {
                          "colorbar": {
                            "outlinewidth": 0,
                            "ticks": ""
                          }
                        },
                        "type": "scattergl"
                      }
                    ],
                    "scattermapbox": [
                      {
                        "marker": {
                          "colorbar": {
                            "outlinewidth": 0,
                            "ticks": ""
                          }
                        },
                        "type": "scattermapbox"
                      }
                    ],
                    "scatterpolar": [
                      {
                        "marker": {
                          "colorbar": {
                            "outlinewidth": 0,
                            "ticks": ""
                          }
                        },
                        "type": "scatterpolar"
                      }
                    ],
                    "scatterpolargl": [
                      {
                        "marker": {
                          "colorbar": {
                            "outlinewidth": 0,
                            "ticks": ""
                          }
                        },
                        "type": "scatterpolargl"
                      }
                    ],
                    "scatterternary": [
                      {
                        "marker": {
                          "colorbar": {
                            "outlinewidth": 0,
                            "ticks": ""
                          }
                        },
                        "type": "scatterternary"
                      }
                    ],
                    "surface": [
                      {
                        "colorbar": {
                          "outlinewidth": 0,
                          "ticks": ""
                        },
                        "colorscale": [
                          [
                            0,
                            "#0d0887"
                          ],
                          [
                            0.1111111111111111,
                            "#46039f"
                          ],
                          [
                            0.2222222222222222,
                            "#7201a8"
                          ],
                          [
                            0.3333333333333333,
                            "#9c179e"
                          ],
                          [
                            0.4444444444444444,
                            "#bd3786"
                          ],
                          [
                            0.5555555555555556,
                            "#d8576b"
                          ],
                          [
                            0.6666666666666666,
                            "#ed7953"
                          ],
                          [
                            0.7777777777777778,
                            "#fb9f3a"
                          ],
                          [
                            0.8888888888888888,
                            "#fdca26"
                          ],
                          [
                            1,
                            "#f0f921"
                          ]
                        ],
                        "type": "surface"
                      }
                    ],
                    "table": [
                      {
                        "cells": {
                          "fill": {
                            "color": "#EBF0F8"
                          },
                          "line": {
                            "color": "white"
                          }
                        },
                        "header": {
                          "fill": {
                            "color": "#C8D4E3"
                          },
                          "line": {
                            "color": "white"
                          }
                        },
                        "type": "table"
                      }
                    ]
                  },
                  "layout": {
                    "annotationdefaults": {
                      "arrowcolor": "#2a3f5f",
                      "arrowhead": 0,
                      "arrowwidth": 1
                    },
                    "autotypenumbers": "strict",
                    "coloraxis": {
                      "colorbar": {
                        "outlinewidth": 0,
                        "ticks": ""
                      }
                    },
                    "colorscale": {
                      "diverging": [
                        [
                          0,
                          "#8e0152"
                        ],
                        [
                          0.1,
                          "#c51b7d"
                        ],
                        [
                          0.2,
                          "#de77ae"
                        ],
                        [
                          0.3,
                          "#f1b6da"
                        ],
                        [
                          0.4,
                          "#fde0ef"
                        ],
                        [
                          0.5,
                          "#f7f7f7"
                        ],
                        [
                          0.6,
                          "#e6f5d0"
                        ],
                        [
                          0.7,
                          "#b8e186"
                        ],
                        [
                          0.8,
                          "#7fbc41"
                        ],
                        [
                          0.9,
                          "#4d9221"
                        ],
                        [
                          1,
                          "#276419"
                        ]
                      ],
                      "sequential": [
                        [
                          0,
                          "#0d0887"
                        ],
                        [
                          0.1111111111111111,
                          "#46039f"
                        ],
                        [
                          0.2222222222222222,
                          "#7201a8"
                        ],
                        [
                          0.3333333333333333,
                          "#9c179e"
                        ],
                        [
                          0.4444444444444444,
                          "#bd3786"
                        ],
                        [
                          0.5555555555555556,
                          "#d8576b"
                        ],
                        [
                          0.6666666666666666,
                          "#ed7953"
                        ],
                        [
                          0.7777777777777778,
                          "#fb9f3a"
                        ],
                        [
                          0.8888888888888888,
                          "#fdca26"
                        ],
                        [
                          1,
                          "#f0f921"
                        ]
                      ],
                      "sequentialminus": [
                        [
                          0,
                          "#0d0887"
                        ],
                        [
                          0.1111111111111111,
                          "#46039f"
                        ],
                        [
                          0.2222222222222222,
                          "#7201a8"
                        ],
                        [
                          0.3333333333333333,
                          "#9c179e"
                        ],
                        [
                          0.4444444444444444,
                          "#bd3786"
                        ],
                        [
                          0.5555555555555556,
                          "#d8576b"
                        ],
                        [
                          0.6666666666666666,
                          "#ed7953"
                        ],
                        [
                          0.7777777777777778,
                          "#fb9f3a"
                        ],
                        [
                          0.8888888888888888,
                          "#fdca26"
                        ],
                        [
                          1,
                          "#f0f921"
                        ]
                      ]
                    },
                    "colorway": [
                      "#636efa",
                      "#EF553B",
                      "#00cc96",
                      "#ab63fa",
                      "#FFA15A",
                      "#19d3f3",
                      "#FF6692",
                      "#B6E880",
                      "#FF97FF",
                      "#FECB52"
                    ],
                    "font": {
                      "color": "#2a3f5f"
                    },
                    "geo": {
                      "bgcolor": "white",
                      "lakecolor": "white",
                      "landcolor": "#E5ECF6",
                      "showlakes": true,
                      "showland": true,
                      "subunitcolor": "white"
                    },
                    "hoverlabel": {
                      "align": "left"
                    },
                    "hovermode": "closest",
                    "mapbox": {
                      "style": "light"
                    },
                    "paper_bgcolor": "white",
                    "plot_bgcolor": "#E5ECF6",
                    "polar": {
                      "angularaxis": {
                        "gridcolor": "white",
                        "linecolor": "white",
                        "ticks": ""
                      },
                      "bgcolor": "#E5ECF6",
                      "radialaxis": {
                        "gridcolor": "white",
                        "linecolor": "white",
                        "ticks": ""
                      }
                    },
                    "scene": {
                      "xaxis": {
                        "backgroundcolor": "#E5ECF6",
                        "gridcolor": "white",
                        "gridwidth": 2,
                        "linecolor": "white",
                        "showbackground": true,
                        "ticks": "",
                        "zerolinecolor": "white"
                      },
                      "yaxis": {
                        "backgroundcolor": "#E5ECF6",
                        "gridcolor": "white",
                        "gridwidth": 2,
                        "linecolor": "white",
                        "showbackground": true,
                        "ticks": "",
                        "zerolinecolor": "white"
                      },
                      "zaxis": {
                        "backgroundcolor": "#E5ECF6",
                        "gridcolor": "white",
                        "gridwidth": 2,
                        "linecolor": "white",
                        "showbackground": true,
                        "ticks": "",
                        "zerolinecolor": "white"
                      }
                    },
                    "shapedefaults": {
                      "line": {
                        "color": "#2a3f5f"
                      }
                    },
                    "ternary": {
                      "aaxis": {
                        "gridcolor": "white",
                        "linecolor": "white",
                        "ticks": ""
                      },
                      "baxis": {
                        "gridcolor": "white",
                        "linecolor": "white",
                        "ticks": ""
                      },
                      "bgcolor": "#E5ECF6",
                      "caxis": {
                        "gridcolor": "white",
                        "linecolor": "white",
                        "ticks": ""
                      }
                    },
                    "title": {
                      "x": 0.05
                    },
                    "xaxis": {
                      "automargin": true,
                      "gridcolor": "white",
                      "linecolor": "white",
                      "ticks": "",
                      "title": {
                        "standoff": 15
                      },
                      "zerolinecolor": "white",
                      "zerolinewidth": 2
                    },
                    "yaxis": {
                      "automargin": true,
                      "gridcolor": "white",
                      "linecolor": "white",
                      "ticks": "",
                      "title": {
                        "standoff": 15
                      },
                      "zerolinecolor": "white",
                      "zerolinewidth": 2
                    }
                  }
                },
                "title": {
                  "text": "Frekuensi per Hari"
                },
                "xaxis": {
                  "anchor": "y",
                  "domain": [
                    0,
                    1
                  ],
                  "title": {
                    "text": "Frekuensi"
                  }
                },
                "yaxis": {
                  "anchor": "x",
                  "domain": [
                    0,
                    1
                  ],
                  "title": {
                    "text": "Hari"
                  }
                }
              }
            }
          },
          "metadata": {},
          "output_type": "display_data"
        }
      ],
      "source": [
        "fig_4 = df.groupby(['day'], as_index=False, sort=True).count()\n",
        "px.bar(fig_4, x='mag', y='day',\n",
        "    color='mag',\n",
        "    labels= {'mag': 'Frekuensi', 'day': 'Hari'},\n",
        "    barmode='group',\n",
        "    title= 'Frekuensi per Hari',\n",
        "    text_auto='.2s'\n",
        ")"
      ]
    },
    {
      "cell_type": "markdown",
      "id": "2vOTmvRdv0QG",
      "metadata": {
        "id": "2vOTmvRdv0QG"
      },
      "source": [
        "Berdasarkan data, gempa banyak terjadi di bulan Desember, Januari, dan Agustus serta kerap terjadi di hari Senin dan banyak terjadi pada kurun waktu tahun 2018-2019. Meskipun begitu, faktanya **gempa bumi dapat terjadi kapan saja** tanpa memandang bulan atau waktu tertentu. Hal disebabkan oleh **pelepasan energi** yang dihasilkan oleh tekanan yang disebabkan oleh pergerakan lempeng yang bergerak ke satu arah atau lebih **secara aktif**."
      ]
    },
    {
      "cell_type": "markdown",
      "id": "9cda7ee3",
      "metadata": {
        "id": "9cda7ee3",
        "papermill": {
          "duration": 0.014394,
          "end_time": "2023-08-01T06:56:42.036294",
          "exception": false,
          "start_time": "2023-08-01T06:56:42.021900",
          "status": "completed"
        },
        "tags": []
      },
      "source": [
        "##### Distribution by hour"
      ]
    },
    {
      "cell_type": "code",
      "execution_count": null,
      "id": "eb365c7b",
      "metadata": {
        "_kg_hide-input": true,
        "colab": {
          "base_uri": "https://localhost:8080/",
          "height": 617
        },
        "execution": {
          "iopub.execute_input": "2023-08-01T06:56:42.126875Z",
          "iopub.status.busy": "2023-08-01T06:56:42.126492Z",
          "iopub.status.idle": "2023-08-01T06:56:42.303247Z",
          "shell.execute_reply": "2023-08-01T06:56:42.302230Z"
        },
        "id": "eb365c7b",
        "outputId": "61ba6d9f-68b4-4726-9b1a-bc1b6e2c10cd",
        "papermill": {
          "duration": 0.195619,
          "end_time": "2023-08-01T06:56:42.305673",
          "exception": false,
          "start_time": "2023-08-01T06:56:42.110054",
          "status": "completed"
        },
        "tags": []
      },
      "outputs": [
        {
          "data": {
            "application/vnd.plotly.v1+json": {
              "config": {
                "plotlyServerURL": "https://plot.ly"
              },
              "data": [
                {
                  "alignmentgroup": "True",
                  "hovertemplate": "Jam=%{x}<br>Frekuensi=%{marker.color}<extra></extra>",
                  "legendgroup": "",
                  "marker": {
                    "color": [
                      3267,
                      3029,
                      3255,
                      3466,
                      3730,
                      3655,
                      3494,
                      3370,
                      3370,
                      3346,
                      3474,
                      3684,
                      3789,
                      3772,
                      4281,
                      4477,
                      4600,
                      4799,
                      4672,
                      4562,
                      4332,
                      3871,
                      3775,
                      3325
                    ],
                    "coloraxis": "coloraxis",
                    "pattern": {
                      "shape": ""
                    }
                  },
                  "name": "",
                  "offsetgroup": "",
                  "orientation": "v",
                  "showlegend": false,
                  "textposition": "auto",
                  "texttemplate": "%{y:.2s}",
                  "type": "bar",
                  "x": [
                    0,
                    1,
                    2,
                    3,
                    4,
                    5,
                    6,
                    7,
                    8,
                    9,
                    10,
                    11,
                    12,
                    13,
                    14,
                    15,
                    16,
                    17,
                    18,
                    19,
                    20,
                    21,
                    22,
                    23
                  ],
                  "xaxis": "x",
                  "y": [
                    3267,
                    3029,
                    3255,
                    3466,
                    3730,
                    3655,
                    3494,
                    3370,
                    3370,
                    3346,
                    3474,
                    3684,
                    3789,
                    3772,
                    4281,
                    4477,
                    4600,
                    4799,
                    4672,
                    4562,
                    4332,
                    3871,
                    3775,
                    3325
                  ],
                  "yaxis": "y"
                }
              ],
              "layout": {
                "barmode": "group",
                "coloraxis": {
                  "colorbar": {
                    "title": {
                      "text": "Frekuensi"
                    }
                  },
                  "colorscale": [
                    [
                      0,
                      "#0d0887"
                    ],
                    [
                      0.1111111111111111,
                      "#46039f"
                    ],
                    [
                      0.2222222222222222,
                      "#7201a8"
                    ],
                    [
                      0.3333333333333333,
                      "#9c179e"
                    ],
                    [
                      0.4444444444444444,
                      "#bd3786"
                    ],
                    [
                      0.5555555555555556,
                      "#d8576b"
                    ],
                    [
                      0.6666666666666666,
                      "#ed7953"
                    ],
                    [
                      0.7777777777777778,
                      "#fb9f3a"
                    ],
                    [
                      0.8888888888888888,
                      "#fdca26"
                    ],
                    [
                      1,
                      "#f0f921"
                    ]
                  ]
                },
                "height": 600,
                "legend": {
                  "tracegroupgap": 0
                },
                "template": {
                  "data": {
                    "bar": [
                      {
                        "error_x": {
                          "color": "#2a3f5f"
                        },
                        "error_y": {
                          "color": "#2a3f5f"
                        },
                        "marker": {
                          "line": {
                            "color": "#E5ECF6",
                            "width": 0.5
                          },
                          "pattern": {
                            "fillmode": "overlay",
                            "size": 10,
                            "solidity": 0.2
                          }
                        },
                        "type": "bar"
                      }
                    ],
                    "barpolar": [
                      {
                        "marker": {
                          "line": {
                            "color": "#E5ECF6",
                            "width": 0.5
                          },
                          "pattern": {
                            "fillmode": "overlay",
                            "size": 10,
                            "solidity": 0.2
                          }
                        },
                        "type": "barpolar"
                      }
                    ],
                    "carpet": [
                      {
                        "aaxis": {
                          "endlinecolor": "#2a3f5f",
                          "gridcolor": "white",
                          "linecolor": "white",
                          "minorgridcolor": "white",
                          "startlinecolor": "#2a3f5f"
                        },
                        "baxis": {
                          "endlinecolor": "#2a3f5f",
                          "gridcolor": "white",
                          "linecolor": "white",
                          "minorgridcolor": "white",
                          "startlinecolor": "#2a3f5f"
                        },
                        "type": "carpet"
                      }
                    ],
                    "choropleth": [
                      {
                        "colorbar": {
                          "outlinewidth": 0,
                          "ticks": ""
                        },
                        "type": "choropleth"
                      }
                    ],
                    "contour": [
                      {
                        "colorbar": {
                          "outlinewidth": 0,
                          "ticks": ""
                        },
                        "colorscale": [
                          [
                            0,
                            "#0d0887"
                          ],
                          [
                            0.1111111111111111,
                            "#46039f"
                          ],
                          [
                            0.2222222222222222,
                            "#7201a8"
                          ],
                          [
                            0.3333333333333333,
                            "#9c179e"
                          ],
                          [
                            0.4444444444444444,
                            "#bd3786"
                          ],
                          [
                            0.5555555555555556,
                            "#d8576b"
                          ],
                          [
                            0.6666666666666666,
                            "#ed7953"
                          ],
                          [
                            0.7777777777777778,
                            "#fb9f3a"
                          ],
                          [
                            0.8888888888888888,
                            "#fdca26"
                          ],
                          [
                            1,
                            "#f0f921"
                          ]
                        ],
                        "type": "contour"
                      }
                    ],
                    "contourcarpet": [
                      {
                        "colorbar": {
                          "outlinewidth": 0,
                          "ticks": ""
                        },
                        "type": "contourcarpet"
                      }
                    ],
                    "heatmap": [
                      {
                        "colorbar": {
                          "outlinewidth": 0,
                          "ticks": ""
                        },
                        "colorscale": [
                          [
                            0,
                            "#0d0887"
                          ],
                          [
                            0.1111111111111111,
                            "#46039f"
                          ],
                          [
                            0.2222222222222222,
                            "#7201a8"
                          ],
                          [
                            0.3333333333333333,
                            "#9c179e"
                          ],
                          [
                            0.4444444444444444,
                            "#bd3786"
                          ],
                          [
                            0.5555555555555556,
                            "#d8576b"
                          ],
                          [
                            0.6666666666666666,
                            "#ed7953"
                          ],
                          [
                            0.7777777777777778,
                            "#fb9f3a"
                          ],
                          [
                            0.8888888888888888,
                            "#fdca26"
                          ],
                          [
                            1,
                            "#f0f921"
                          ]
                        ],
                        "type": "heatmap"
                      }
                    ],
                    "heatmapgl": [
                      {
                        "colorbar": {
                          "outlinewidth": 0,
                          "ticks": ""
                        },
                        "colorscale": [
                          [
                            0,
                            "#0d0887"
                          ],
                          [
                            0.1111111111111111,
                            "#46039f"
                          ],
                          [
                            0.2222222222222222,
                            "#7201a8"
                          ],
                          [
                            0.3333333333333333,
                            "#9c179e"
                          ],
                          [
                            0.4444444444444444,
                            "#bd3786"
                          ],
                          [
                            0.5555555555555556,
                            "#d8576b"
                          ],
                          [
                            0.6666666666666666,
                            "#ed7953"
                          ],
                          [
                            0.7777777777777778,
                            "#fb9f3a"
                          ],
                          [
                            0.8888888888888888,
                            "#fdca26"
                          ],
                          [
                            1,
                            "#f0f921"
                          ]
                        ],
                        "type": "heatmapgl"
                      }
                    ],
                    "histogram": [
                      {
                        "marker": {
                          "pattern": {
                            "fillmode": "overlay",
                            "size": 10,
                            "solidity": 0.2
                          }
                        },
                        "type": "histogram"
                      }
                    ],
                    "histogram2d": [
                      {
                        "colorbar": {
                          "outlinewidth": 0,
                          "ticks": ""
                        },
                        "colorscale": [
                          [
                            0,
                            "#0d0887"
                          ],
                          [
                            0.1111111111111111,
                            "#46039f"
                          ],
                          [
                            0.2222222222222222,
                            "#7201a8"
                          ],
                          [
                            0.3333333333333333,
                            "#9c179e"
                          ],
                          [
                            0.4444444444444444,
                            "#bd3786"
                          ],
                          [
                            0.5555555555555556,
                            "#d8576b"
                          ],
                          [
                            0.6666666666666666,
                            "#ed7953"
                          ],
                          [
                            0.7777777777777778,
                            "#fb9f3a"
                          ],
                          [
                            0.8888888888888888,
                            "#fdca26"
                          ],
                          [
                            1,
                            "#f0f921"
                          ]
                        ],
                        "type": "histogram2d"
                      }
                    ],
                    "histogram2dcontour": [
                      {
                        "colorbar": {
                          "outlinewidth": 0,
                          "ticks": ""
                        },
                        "colorscale": [
                          [
                            0,
                            "#0d0887"
                          ],
                          [
                            0.1111111111111111,
                            "#46039f"
                          ],
                          [
                            0.2222222222222222,
                            "#7201a8"
                          ],
                          [
                            0.3333333333333333,
                            "#9c179e"
                          ],
                          [
                            0.4444444444444444,
                            "#bd3786"
                          ],
                          [
                            0.5555555555555556,
                            "#d8576b"
                          ],
                          [
                            0.6666666666666666,
                            "#ed7953"
                          ],
                          [
                            0.7777777777777778,
                            "#fb9f3a"
                          ],
                          [
                            0.8888888888888888,
                            "#fdca26"
                          ],
                          [
                            1,
                            "#f0f921"
                          ]
                        ],
                        "type": "histogram2dcontour"
                      }
                    ],
                    "mesh3d": [
                      {
                        "colorbar": {
                          "outlinewidth": 0,
                          "ticks": ""
                        },
                        "type": "mesh3d"
                      }
                    ],
                    "parcoords": [
                      {
                        "line": {
                          "colorbar": {
                            "outlinewidth": 0,
                            "ticks": ""
                          }
                        },
                        "type": "parcoords"
                      }
                    ],
                    "pie": [
                      {
                        "automargin": true,
                        "type": "pie"
                      }
                    ],
                    "scatter": [
                      {
                        "fillpattern": {
                          "fillmode": "overlay",
                          "size": 10,
                          "solidity": 0.2
                        },
                        "type": "scatter"
                      }
                    ],
                    "scatter3d": [
                      {
                        "line": {
                          "colorbar": {
                            "outlinewidth": 0,
                            "ticks": ""
                          }
                        },
                        "marker": {
                          "colorbar": {
                            "outlinewidth": 0,
                            "ticks": ""
                          }
                        },
                        "type": "scatter3d"
                      }
                    ],
                    "scattercarpet": [
                      {
                        "marker": {
                          "colorbar": {
                            "outlinewidth": 0,
                            "ticks": ""
                          }
                        },
                        "type": "scattercarpet"
                      }
                    ],
                    "scattergeo": [
                      {
                        "marker": {
                          "colorbar": {
                            "outlinewidth": 0,
                            "ticks": ""
                          }
                        },
                        "type": "scattergeo"
                      }
                    ],
                    "scattergl": [
                      {
                        "marker": {
                          "colorbar": {
                            "outlinewidth": 0,
                            "ticks": ""
                          }
                        },
                        "type": "scattergl"
                      }
                    ],
                    "scattermapbox": [
                      {
                        "marker": {
                          "colorbar": {
                            "outlinewidth": 0,
                            "ticks": ""
                          }
                        },
                        "type": "scattermapbox"
                      }
                    ],
                    "scatterpolar": [
                      {
                        "marker": {
                          "colorbar": {
                            "outlinewidth": 0,
                            "ticks": ""
                          }
                        },
                        "type": "scatterpolar"
                      }
                    ],
                    "scatterpolargl": [
                      {
                        "marker": {
                          "colorbar": {
                            "outlinewidth": 0,
                            "ticks": ""
                          }
                        },
                        "type": "scatterpolargl"
                      }
                    ],
                    "scatterternary": [
                      {
                        "marker": {
                          "colorbar": {
                            "outlinewidth": 0,
                            "ticks": ""
                          }
                        },
                        "type": "scatterternary"
                      }
                    ],
                    "surface": [
                      {
                        "colorbar": {
                          "outlinewidth": 0,
                          "ticks": ""
                        },
                        "colorscale": [
                          [
                            0,
                            "#0d0887"
                          ],
                          [
                            0.1111111111111111,
                            "#46039f"
                          ],
                          [
                            0.2222222222222222,
                            "#7201a8"
                          ],
                          [
                            0.3333333333333333,
                            "#9c179e"
                          ],
                          [
                            0.4444444444444444,
                            "#bd3786"
                          ],
                          [
                            0.5555555555555556,
                            "#d8576b"
                          ],
                          [
                            0.6666666666666666,
                            "#ed7953"
                          ],
                          [
                            0.7777777777777778,
                            "#fb9f3a"
                          ],
                          [
                            0.8888888888888888,
                            "#fdca26"
                          ],
                          [
                            1,
                            "#f0f921"
                          ]
                        ],
                        "type": "surface"
                      }
                    ],
                    "table": [
                      {
                        "cells": {
                          "fill": {
                            "color": "#EBF0F8"
                          },
                          "line": {
                            "color": "white"
                          }
                        },
                        "header": {
                          "fill": {
                            "color": "#C8D4E3"
                          },
                          "line": {
                            "color": "white"
                          }
                        },
                        "type": "table"
                      }
                    ]
                  },
                  "layout": {
                    "annotationdefaults": {
                      "arrowcolor": "#2a3f5f",
                      "arrowhead": 0,
                      "arrowwidth": 1
                    },
                    "autotypenumbers": "strict",
                    "coloraxis": {
                      "colorbar": {
                        "outlinewidth": 0,
                        "ticks": ""
                      }
                    },
                    "colorscale": {
                      "diverging": [
                        [
                          0,
                          "#8e0152"
                        ],
                        [
                          0.1,
                          "#c51b7d"
                        ],
                        [
                          0.2,
                          "#de77ae"
                        ],
                        [
                          0.3,
                          "#f1b6da"
                        ],
                        [
                          0.4,
                          "#fde0ef"
                        ],
                        [
                          0.5,
                          "#f7f7f7"
                        ],
                        [
                          0.6,
                          "#e6f5d0"
                        ],
                        [
                          0.7,
                          "#b8e186"
                        ],
                        [
                          0.8,
                          "#7fbc41"
                        ],
                        [
                          0.9,
                          "#4d9221"
                        ],
                        [
                          1,
                          "#276419"
                        ]
                      ],
                      "sequential": [
                        [
                          0,
                          "#0d0887"
                        ],
                        [
                          0.1111111111111111,
                          "#46039f"
                        ],
                        [
                          0.2222222222222222,
                          "#7201a8"
                        ],
                        [
                          0.3333333333333333,
                          "#9c179e"
                        ],
                        [
                          0.4444444444444444,
                          "#bd3786"
                        ],
                        [
                          0.5555555555555556,
                          "#d8576b"
                        ],
                        [
                          0.6666666666666666,
                          "#ed7953"
                        ],
                        [
                          0.7777777777777778,
                          "#fb9f3a"
                        ],
                        [
                          0.8888888888888888,
                          "#fdca26"
                        ],
                        [
                          1,
                          "#f0f921"
                        ]
                      ],
                      "sequentialminus": [
                        [
                          0,
                          "#0d0887"
                        ],
                        [
                          0.1111111111111111,
                          "#46039f"
                        ],
                        [
                          0.2222222222222222,
                          "#7201a8"
                        ],
                        [
                          0.3333333333333333,
                          "#9c179e"
                        ],
                        [
                          0.4444444444444444,
                          "#bd3786"
                        ],
                        [
                          0.5555555555555556,
                          "#d8576b"
                        ],
                        [
                          0.6666666666666666,
                          "#ed7953"
                        ],
                        [
                          0.7777777777777778,
                          "#fb9f3a"
                        ],
                        [
                          0.8888888888888888,
                          "#fdca26"
                        ],
                        [
                          1,
                          "#f0f921"
                        ]
                      ]
                    },
                    "colorway": [
                      "#636efa",
                      "#EF553B",
                      "#00cc96",
                      "#ab63fa",
                      "#FFA15A",
                      "#19d3f3",
                      "#FF6692",
                      "#B6E880",
                      "#FF97FF",
                      "#FECB52"
                    ],
                    "font": {
                      "color": "#2a3f5f"
                    },
                    "geo": {
                      "bgcolor": "white",
                      "lakecolor": "white",
                      "landcolor": "#E5ECF6",
                      "showlakes": true,
                      "showland": true,
                      "subunitcolor": "white"
                    },
                    "hoverlabel": {
                      "align": "left"
                    },
                    "hovermode": "closest",
                    "mapbox": {
                      "style": "light"
                    },
                    "paper_bgcolor": "white",
                    "plot_bgcolor": "#E5ECF6",
                    "polar": {
                      "angularaxis": {
                        "gridcolor": "white",
                        "linecolor": "white",
                        "ticks": ""
                      },
                      "bgcolor": "#E5ECF6",
                      "radialaxis": {
                        "gridcolor": "white",
                        "linecolor": "white",
                        "ticks": ""
                      }
                    },
                    "scene": {
                      "xaxis": {
                        "backgroundcolor": "#E5ECF6",
                        "gridcolor": "white",
                        "gridwidth": 2,
                        "linecolor": "white",
                        "showbackground": true,
                        "ticks": "",
                        "zerolinecolor": "white"
                      },
                      "yaxis": {
                        "backgroundcolor": "#E5ECF6",
                        "gridcolor": "white",
                        "gridwidth": 2,
                        "linecolor": "white",
                        "showbackground": true,
                        "ticks": "",
                        "zerolinecolor": "white"
                      },
                      "zaxis": {
                        "backgroundcolor": "#E5ECF6",
                        "gridcolor": "white",
                        "gridwidth": 2,
                        "linecolor": "white",
                        "showbackground": true,
                        "ticks": "",
                        "zerolinecolor": "white"
                      }
                    },
                    "shapedefaults": {
                      "line": {
                        "color": "#2a3f5f"
                      }
                    },
                    "ternary": {
                      "aaxis": {
                        "gridcolor": "white",
                        "linecolor": "white",
                        "ticks": ""
                      },
                      "baxis": {
                        "gridcolor": "white",
                        "linecolor": "white",
                        "ticks": ""
                      },
                      "bgcolor": "#E5ECF6",
                      "caxis": {
                        "gridcolor": "white",
                        "linecolor": "white",
                        "ticks": ""
                      }
                    },
                    "title": {
                      "x": 0.05
                    },
                    "xaxis": {
                      "automargin": true,
                      "gridcolor": "white",
                      "linecolor": "white",
                      "ticks": "",
                      "title": {
                        "standoff": 15
                      },
                      "zerolinecolor": "white",
                      "zerolinewidth": 2
                    },
                    "yaxis": {
                      "automargin": true,
                      "gridcolor": "white",
                      "linecolor": "white",
                      "ticks": "",
                      "title": {
                        "standoff": 15
                      },
                      "zerolinecolor": "white",
                      "zerolinewidth": 2
                    }
                  }
                },
                "title": {
                  "text": "Frekuensi per Jam"
                },
                "xaxis": {
                  "anchor": "y",
                  "domain": [
                    0,
                    1
                  ],
                  "title": {
                    "text": "Jam"
                  }
                },
                "yaxis": {
                  "anchor": "x",
                  "domain": [
                    0,
                    1
                  ],
                  "title": {
                    "text": "Frekuensi"
                  }
                }
              }
            }
          },
          "metadata": {},
          "output_type": "display_data"
        }
      ],
      "source": [
        "fig_3 = df.groupby(['hour'], as_index=False, sort=True).count()\n",
        "px.bar(fig_3, y = 'mag', x = 'hour',\n",
        "       color= 'mag', height=600,\n",
        "       labels={'mag': 'Frekuensi', 'hour': 'Jam'},\n",
        "       title='Frekuensi per Jam',\n",
        "       barmode='group',\n",
        "       text_auto='.2s'\n",
        ")"
      ]
    },
    {
      "cell_type": "markdown",
      "id": "ypcDGecjVF3v",
      "metadata": {
        "id": "ypcDGecjVF3v"
      },
      "source": [
        "Berdasarkan data diatas memang gempa paling banyak terjadi pada waktu **menjelang malam hari** yaitu pada jam **17.00** namun anggapan bahwa gempa lebih sering terjadi pada **malam hari** dibandingkan **siang hari** dapat dipatahkan karena gempa yang terjadi di **siang hari** pada data (06.00-18.00) juga sama banyaknya bahkan jika dijumlahkan jumlah gempa yang terjadi pada **siang hari** **lebih banyak** daripada gempa yang terjadi pada **malam/dini hari** (18.00-5.00)."
      ]
    },
    {
      "cell_type": "markdown",
      "id": "2662368e",
      "metadata": {
        "id": "2662368e",
        "papermill": {
          "duration": 0.015093,
          "end_time": "2023-08-01T06:56:42.336448",
          "exception": false,
          "start_time": "2023-08-01T06:56:42.321355",
          "status": "completed"
        },
        "tags": []
      },
      "source": [
        "##### Distribution by place"
      ]
    },
    {
      "cell_type": "code",
      "execution_count": null,
      "id": "58ca081e",
      "metadata": {
        "colab": {
          "base_uri": "https://localhost:8080/",
          "height": 206
        },
        "execution": {
          "iopub.execute_input": "2023-08-01T06:56:42.369058Z",
          "iopub.status.busy": "2023-08-01T06:56:42.368654Z",
          "iopub.status.idle": "2023-08-01T06:56:42.402570Z",
          "shell.execute_reply": "2023-08-01T06:56:42.401568Z"
        },
        "id": "58ca081e",
        "outputId": "c4293643-5a05-4411-e3d7-191eccbb3be9",
        "papermill": {
          "duration": 0.053393,
          "end_time": "2023-08-01T06:56:42.405265",
          "exception": false,
          "start_time": "2023-08-01T06:56:42.351872",
          "status": "completed"
        },
        "tags": []
      },
      "outputs": [
        {
          "data": {
            "text/html": [
              "<div>\n",
              "<style scoped>\n",
              "    .dataframe tbody tr th:only-of-type {\n",
              "        vertical-align: middle;\n",
              "    }\n",
              "\n",
              "    .dataframe tbody tr th {\n",
              "        vertical-align: top;\n",
              "    }\n",
              "\n",
              "    .dataframe thead th {\n",
              "        text-align: right;\n",
              "    }\n",
              "</style>\n",
              "<table border=\"1\" class=\"dataframe\">\n",
              "  <thead>\n",
              "    <tr style=\"text-align: right;\">\n",
              "      <th></th>\n",
              "      <th>remark</th>\n",
              "      <th>mag</th>\n",
              "    </tr>\n",
              "  </thead>\n",
              "  <tbody>\n",
              "    <tr>\n",
              "      <th>0</th>\n",
              "      <td>Minahassa Peninsula - Sulawesi</td>\n",
              "      <td>9331</td>\n",
              "    </tr>\n",
              "    <tr>\n",
              "      <th>1</th>\n",
              "      <td>Sulawesi - Indonesia</td>\n",
              "      <td>7852</td>\n",
              "    </tr>\n",
              "    <tr>\n",
              "      <th>2</th>\n",
              "      <td>Sumbawa Region - Indonesia</td>\n",
              "      <td>7251</td>\n",
              "    </tr>\n",
              "    <tr>\n",
              "      <th>3</th>\n",
              "      <td>Java - Indonesia</td>\n",
              "      <td>6675</td>\n",
              "    </tr>\n",
              "    <tr>\n",
              "      <th>4</th>\n",
              "      <td>Northern Sumatra - Indonesia</td>\n",
              "      <td>5847</td>\n",
              "    </tr>\n",
              "  </tbody>\n",
              "</table>\n",
              "</div>"
            ],
            "text/plain": [
              "                           remark   mag\n",
              "0  Minahassa Peninsula - Sulawesi  9331\n",
              "1            Sulawesi - Indonesia  7852\n",
              "2      Sumbawa Region - Indonesia  7251\n",
              "3                Java - Indonesia  6675\n",
              "4    Northern Sumatra - Indonesia  5847"
            ]
          },
          "execution_count": 16,
          "metadata": {},
          "output_type": "execute_result"
        }
      ],
      "source": [
        "df_remark = pd.pivot_table(\n",
        "    df, values='mag',index='remark',aggfunc='count',sort=True\n",
        ")\n",
        "df_remark_sorted = df_remark.sort_values(by=['mag'], ascending=False).reset_index()\n",
        "df_remark_sorted.head(5)"
      ]
    },
    {
      "cell_type": "markdown",
      "id": "yRo0sE95F9KJ",
      "metadata": {
        "id": "yRo0sE95F9KJ"
      },
      "source": [
        "Data diatas sesuai dengan fakta bahwa kebanyakan gempa terjadi di daerah ring of fire yaitu di sekitaran **Sumatra, Jawa, Sulawesi, Nusa Tenggara, hingga Maluku.**\n",
        "\n",
        "\n",
        "\n",
        "---\n",
        "Peta Ring of Fire:<br>\n",
        "![WhatsApp Image 2023-12-12 at 20.06.46_bba93c90.jpg](data:image/jpeg;base64,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)\n",
        "\n",
        "\n",
        "\n"
      ]
    },
    {
      "cell_type": "code",
      "execution_count": null,
      "id": "a1f347f5",
      "metadata": {
        "_kg_hide-input": true,
        "colab": {
          "base_uri": "https://localhost:8080/",
          "height": 617
        },
        "execution": {
          "iopub.execute_input": "2023-08-01T06:56:42.438765Z",
          "iopub.status.busy": "2023-08-01T06:56:42.438306Z",
          "iopub.status.idle": "2023-08-01T06:56:42.518228Z",
          "shell.execute_reply": "2023-08-01T06:56:42.517224Z"
        },
        "id": "a1f347f5",
        "outputId": "3b516e23-5a2a-47ae-b97a-818bf5b96520",
        "papermill": {
          "duration": 0.099728,
          "end_time": "2023-08-01T06:56:42.520715",
          "exception": false,
          "start_time": "2023-08-01T06:56:42.420987",
          "status": "completed"
        },
        "tags": []
      },
      "outputs": [
        {
          "data": {
            "application/vnd.plotly.v1+json": {
              "config": {
                "plotlyServerURL": "https://plot.ly"
              },
              "data": [
                {
                  "alignmentgroup": "True",
                  "hovertemplate": "Tempat=%{x}<br>Frekeunsi=%{marker.color}<extra></extra>",
                  "legendgroup": "",
                  "marker": {
                    "color": [
                      9331,
                      7852,
                      7251,
                      6675,
                      5847,
                      5224,
                      4922,
                      4775,
                      4278,
                      3577,
                      3094,
                      2469,
                      2356,
                      2314,
                      1929,
                      1869,
                      1842,
                      1669,
                      1652,
                      1513,
                      1365,
                      1262,
                      1053,
                      1051,
                      1024,
                      885,
                      772,
                      676,
                      514,
                      405,
                      389,
                      304,
                      252,
                      188,
                      154,
                      135,
                      119,
                      93,
                      89,
                      84,
                      57,
                      23,
                      15,
                      11,
                      10,
                      9,
                      7,
                      4,
                      3,
                      2,
                      1
                    ],
                    "coloraxis": "coloraxis",
                    "pattern": {
                      "shape": ""
                    }
                  },
                  "name": "",
                  "offsetgroup": "",
                  "orientation": "v",
                  "showlegend": false,
                  "textposition": "auto",
                  "texttemplate": "%{y:.2s}",
                  "type": "bar",
                  "x": [
                    "Minahassa Peninsula - Sulawesi",
                    "Sulawesi - Indonesia",
                    "Sumbawa Region - Indonesia",
                    "Java - Indonesia",
                    "Northern Sumatra - Indonesia",
                    "Southern Sumatra - Indonesia",
                    "Banda Sea",
                    "Northern Molucca Sea",
                    "Seram - Indonesia",
                    "Halmahera - Indonesia",
                    "Irian Jaya Region - Indonesia",
                    "South of Java - Indonesia",
                    "Talaud Islands - Indonesia",
                    "Flores Region - Indonesia",
                    "Timor Region",
                    "Flores Sea",
                    "Sumba Region - Indonesia",
                    "Near North Coast of Irian Jaya",
                    "Irian Jaya - Indonesia",
                    "Ceram Sea",
                    "Bali Region - Indonesia",
                    "Southern Molucca Sea",
                    "Sunda Strait - Indonesia",
                    "Off West Coast of Northern Sumatra",
                    "Southwest of Sumatra - Indonesia",
                    "South of Bali - Indonesia",
                    "Mindanao - Philippines",
                    "Bali Sea",
                    "Celebes Sea",
                    "South of Sumbawa - Indonesia",
                    "Savu Sea",
                    "Tanimbar Islands Reg. - Indonesia",
                    "North of Halmahera - Indonesia",
                    "Borneo",
                    "Philippine Islands Region",
                    "Aru Islands Region - Indonesia",
                    "New Guinea - Papua New Guinea",
                    "Buru - Indonesia",
                    "Java Sea",
                    "Timor Sea",
                    "Near N. Coast of New Guinea - PNG.",
                    "South China Sea",
                    "W. Caroline Islands - Micronesia",
                    "East of Philippine Islands",
                    "Sulu Archipelago - Philippines",
                    "Malay Peninsula",
                    "Arafura Sea",
                    "South Indian Ocean",
                    "Near South Coast of Irian Jaya",
                    "Near S. Coast of New Guinea - PNG.",
                    "Ninigo Islands Region - P.N.G."
                  ],
                  "xaxis": "x",
                  "y": [
                    9331,
                    7852,
                    7251,
                    6675,
                    5847,
                    5224,
                    4922,
                    4775,
                    4278,
                    3577,
                    3094,
                    2469,
                    2356,
                    2314,
                    1929,
                    1869,
                    1842,
                    1669,
                    1652,
                    1513,
                    1365,
                    1262,
                    1053,
                    1051,
                    1024,
                    885,
                    772,
                    676,
                    514,
                    405,
                    389,
                    304,
                    252,
                    188,
                    154,
                    135,
                    119,
                    93,
                    89,
                    84,
                    57,
                    23,
                    15,
                    11,
                    10,
                    9,
                    7,
                    4,
                    3,
                    2,
                    1
                  ],
                  "yaxis": "y"
                }
              ],
              "layout": {
                "barmode": "group",
                "coloraxis": {
                  "colorbar": {
                    "title": {
                      "text": "Frekeunsi"
                    }
                  },
                  "colorscale": [
                    [
                      0,
                      "#0d0887"
                    ],
                    [
                      0.1111111111111111,
                      "#46039f"
                    ],
                    [
                      0.2222222222222222,
                      "#7201a8"
                    ],
                    [
                      0.3333333333333333,
                      "#9c179e"
                    ],
                    [
                      0.4444444444444444,
                      "#bd3786"
                    ],
                    [
                      0.5555555555555556,
                      "#d8576b"
                    ],
                    [
                      0.6666666666666666,
                      "#ed7953"
                    ],
                    [
                      0.7777777777777778,
                      "#fb9f3a"
                    ],
                    [
                      0.8888888888888888,
                      "#fdca26"
                    ],
                    [
                      1,
                      "#f0f921"
                    ]
                  ]
                },
                "height": 600,
                "legend": {
                  "tracegroupgap": 0
                },
                "template": {
                  "data": {
                    "bar": [
                      {
                        "error_x": {
                          "color": "#2a3f5f"
                        },
                        "error_y": {
                          "color": "#2a3f5f"
                        },
                        "marker": {
                          "line": {
                            "color": "#E5ECF6",
                            "width": 0.5
                          },
                          "pattern": {
                            "fillmode": "overlay",
                            "size": 10,
                            "solidity": 0.2
                          }
                        },
                        "type": "bar"
                      }
                    ],
                    "barpolar": [
                      {
                        "marker": {
                          "line": {
                            "color": "#E5ECF6",
                            "width": 0.5
                          },
                          "pattern": {
                            "fillmode": "overlay",
                            "size": 10,
                            "solidity": 0.2
                          }
                        },
                        "type": "barpolar"
                      }
                    ],
                    "carpet": [
                      {
                        "aaxis": {
                          "endlinecolor": "#2a3f5f",
                          "gridcolor": "white",
                          "linecolor": "white",
                          "minorgridcolor": "white",
                          "startlinecolor": "#2a3f5f"
                        },
                        "baxis": {
                          "endlinecolor": "#2a3f5f",
                          "gridcolor": "white",
                          "linecolor": "white",
                          "minorgridcolor": "white",
                          "startlinecolor": "#2a3f5f"
                        },
                        "type": "carpet"
                      }
                    ],
                    "choropleth": [
                      {
                        "colorbar": {
                          "outlinewidth": 0,
                          "ticks": ""
                        },
                        "type": "choropleth"
                      }
                    ],
                    "contour": [
                      {
                        "colorbar": {
                          "outlinewidth": 0,
                          "ticks": ""
                        },
                        "colorscale": [
                          [
                            0,
                            "#0d0887"
                          ],
                          [
                            0.1111111111111111,
                            "#46039f"
                          ],
                          [
                            0.2222222222222222,
                            "#7201a8"
                          ],
                          [
                            0.3333333333333333,
                            "#9c179e"
                          ],
                          [
                            0.4444444444444444,
                            "#bd3786"
                          ],
                          [
                            0.5555555555555556,
                            "#d8576b"
                          ],
                          [
                            0.6666666666666666,
                            "#ed7953"
                          ],
                          [
                            0.7777777777777778,
                            "#fb9f3a"
                          ],
                          [
                            0.8888888888888888,
                            "#fdca26"
                          ],
                          [
                            1,
                            "#f0f921"
                          ]
                        ],
                        "type": "contour"
                      }
                    ],
                    "contourcarpet": [
                      {
                        "colorbar": {
                          "outlinewidth": 0,
                          "ticks": ""
                        },
                        "type": "contourcarpet"
                      }
                    ],
                    "heatmap": [
                      {
                        "colorbar": {
                          "outlinewidth": 0,
                          "ticks": ""
                        },
                        "colorscale": [
                          [
                            0,
                            "#0d0887"
                          ],
                          [
                            0.1111111111111111,
                            "#46039f"
                          ],
                          [
                            0.2222222222222222,
                            "#7201a8"
                          ],
                          [
                            0.3333333333333333,
                            "#9c179e"
                          ],
                          [
                            0.4444444444444444,
                            "#bd3786"
                          ],
                          [
                            0.5555555555555556,
                            "#d8576b"
                          ],
                          [
                            0.6666666666666666,
                            "#ed7953"
                          ],
                          [
                            0.7777777777777778,
                            "#fb9f3a"
                          ],
                          [
                            0.8888888888888888,
                            "#fdca26"
                          ],
                          [
                            1,
                            "#f0f921"
                          ]
                        ],
                        "type": "heatmap"
                      }
                    ],
                    "heatmapgl": [
                      {
                        "colorbar": {
                          "outlinewidth": 0,
                          "ticks": ""
                        },
                        "colorscale": [
                          [
                            0,
                            "#0d0887"
                          ],
                          [
                            0.1111111111111111,
                            "#46039f"
                          ],
                          [
                            0.2222222222222222,
                            "#7201a8"
                          ],
                          [
                            0.3333333333333333,
                            "#9c179e"
                          ],
                          [
                            0.4444444444444444,
                            "#bd3786"
                          ],
                          [
                            0.5555555555555556,
                            "#d8576b"
                          ],
                          [
                            0.6666666666666666,
                            "#ed7953"
                          ],
                          [
                            0.7777777777777778,
                            "#fb9f3a"
                          ],
                          [
                            0.8888888888888888,
                            "#fdca26"
                          ],
                          [
                            1,
                            "#f0f921"
                          ]
                        ],
                        "type": "heatmapgl"
                      }
                    ],
                    "histogram": [
                      {
                        "marker": {
                          "pattern": {
                            "fillmode": "overlay",
                            "size": 10,
                            "solidity": 0.2
                          }
                        },
                        "type": "histogram"
                      }
                    ],
                    "histogram2d": [
                      {
                        "colorbar": {
                          "outlinewidth": 0,
                          "ticks": ""
                        },
                        "colorscale": [
                          [
                            0,
                            "#0d0887"
                          ],
                          [
                            0.1111111111111111,
                            "#46039f"
                          ],
                          [
                            0.2222222222222222,
                            "#7201a8"
                          ],
                          [
                            0.3333333333333333,
                            "#9c179e"
                          ],
                          [
                            0.4444444444444444,
                            "#bd3786"
                          ],
                          [
                            0.5555555555555556,
                            "#d8576b"
                          ],
                          [
                            0.6666666666666666,
                            "#ed7953"
                          ],
                          [
                            0.7777777777777778,
                            "#fb9f3a"
                          ],
                          [
                            0.8888888888888888,
                            "#fdca26"
                          ],
                          [
                            1,
                            "#f0f921"
                          ]
                        ],
                        "type": "histogram2d"
                      }
                    ],
                    "histogram2dcontour": [
                      {
                        "colorbar": {
                          "outlinewidth": 0,
                          "ticks": ""
                        },
                        "colorscale": [
                          [
                            0,
                            "#0d0887"
                          ],
                          [
                            0.1111111111111111,
                            "#46039f"
                          ],
                          [
                            0.2222222222222222,
                            "#7201a8"
                          ],
                          [
                            0.3333333333333333,
                            "#9c179e"
                          ],
                          [
                            0.4444444444444444,
                            "#bd3786"
                          ],
                          [
                            0.5555555555555556,
                            "#d8576b"
                          ],
                          [
                            0.6666666666666666,
                            "#ed7953"
                          ],
                          [
                            0.7777777777777778,
                            "#fb9f3a"
                          ],
                          [
                            0.8888888888888888,
                            "#fdca26"
                          ],
                          [
                            1,
                            "#f0f921"
                          ]
                        ],
                        "type": "histogram2dcontour"
                      }
                    ],
                    "mesh3d": [
                      {
                        "colorbar": {
                          "outlinewidth": 0,
                          "ticks": ""
                        },
                        "type": "mesh3d"
                      }
                    ],
                    "parcoords": [
                      {
                        "line": {
                          "colorbar": {
                            "outlinewidth": 0,
                            "ticks": ""
                          }
                        },
                        "type": "parcoords"
                      }
                    ],
                    "pie": [
                      {
                        "automargin": true,
                        "type": "pie"
                      }
                    ],
                    "scatter": [
                      {
                        "fillpattern": {
                          "fillmode": "overlay",
                          "size": 10,
                          "solidity": 0.2
                        },
                        "type": "scatter"
                      }
                    ],
                    "scatter3d": [
                      {
                        "line": {
                          "colorbar": {
                            "outlinewidth": 0,
                            "ticks": ""
                          }
                        },
                        "marker": {
                          "colorbar": {
                            "outlinewidth": 0,
                            "ticks": ""
                          }
                        },
                        "type": "scatter3d"
                      }
                    ],
                    "scattercarpet": [
                      {
                        "marker": {
                          "colorbar": {
                            "outlinewidth": 0,
                            "ticks": ""
                          }
                        },
                        "type": "scattercarpet"
                      }
                    ],
                    "scattergeo": [
                      {
                        "marker": {
                          "colorbar": {
                            "outlinewidth": 0,
                            "ticks": ""
                          }
                        },
                        "type": "scattergeo"
                      }
                    ],
                    "scattergl": [
                      {
                        "marker": {
                          "colorbar": {
                            "outlinewidth": 0,
                            "ticks": ""
                          }
                        },
                        "type": "scattergl"
                      }
                    ],
                    "scattermapbox": [
                      {
                        "marker": {
                          "colorbar": {
                            "outlinewidth": 0,
                            "ticks": ""
                          }
                        },
                        "type": "scattermapbox"
                      }
                    ],
                    "scatterpolar": [
                      {
                        "marker": {
                          "colorbar": {
                            "outlinewidth": 0,
                            "ticks": ""
                          }
                        },
                        "type": "scatterpolar"
                      }
                    ],
                    "scatterpolargl": [
                      {
                        "marker": {
                          "colorbar": {
                            "outlinewidth": 0,
                            "ticks": ""
                          }
                        },
                        "type": "scatterpolargl"
                      }
                    ],
                    "scatterternary": [
                      {
                        "marker": {
                          "colorbar": {
                            "outlinewidth": 0,
                            "ticks": ""
                          }
                        },
                        "type": "scatterternary"
                      }
                    ],
                    "surface": [
                      {
                        "colorbar": {
                          "outlinewidth": 0,
                          "ticks": ""
                        },
                        "colorscale": [
                          [
                            0,
                            "#0d0887"
                          ],
                          [
                            0.1111111111111111,
                            "#46039f"
                          ],
                          [
                            0.2222222222222222,
                            "#7201a8"
                          ],
                          [
                            0.3333333333333333,
                            "#9c179e"
                          ],
                          [
                            0.4444444444444444,
                            "#bd3786"
                          ],
                          [
                            0.5555555555555556,
                            "#d8576b"
                          ],
                          [
                            0.6666666666666666,
                            "#ed7953"
                          ],
                          [
                            0.7777777777777778,
                            "#fb9f3a"
                          ],
                          [
                            0.8888888888888888,
                            "#fdca26"
                          ],
                          [
                            1,
                            "#f0f921"
                          ]
                        ],
                        "type": "surface"
                      }
                    ],
                    "table": [
                      {
                        "cells": {
                          "fill": {
                            "color": "#EBF0F8"
                          },
                          "line": {
                            "color": "white"
                          }
                        },
                        "header": {
                          "fill": {
                            "color": "#C8D4E3"
                          },
                          "line": {
                            "color": "white"
                          }
                        },
                        "type": "table"
                      }
                    ]
                  },
                  "layout": {
                    "annotationdefaults": {
                      "arrowcolor": "#2a3f5f",
                      "arrowhead": 0,
                      "arrowwidth": 1
                    },
                    "autotypenumbers": "strict",
                    "coloraxis": {
                      "colorbar": {
                        "outlinewidth": 0,
                        "ticks": ""
                      }
                    },
                    "colorscale": {
                      "diverging": [
                        [
                          0,
                          "#8e0152"
                        ],
                        [
                          0.1,
                          "#c51b7d"
                        ],
                        [
                          0.2,
                          "#de77ae"
                        ],
                        [
                          0.3,
                          "#f1b6da"
                        ],
                        [
                          0.4,
                          "#fde0ef"
                        ],
                        [
                          0.5,
                          "#f7f7f7"
                        ],
                        [
                          0.6,
                          "#e6f5d0"
                        ],
                        [
                          0.7,
                          "#b8e186"
                        ],
                        [
                          0.8,
                          "#7fbc41"
                        ],
                        [
                          0.9,
                          "#4d9221"
                        ],
                        [
                          1,
                          "#276419"
                        ]
                      ],
                      "sequential": [
                        [
                          0,
                          "#0d0887"
                        ],
                        [
                          0.1111111111111111,
                          "#46039f"
                        ],
                        [
                          0.2222222222222222,
                          "#7201a8"
                        ],
                        [
                          0.3333333333333333,
                          "#9c179e"
                        ],
                        [
                          0.4444444444444444,
                          "#bd3786"
                        ],
                        [
                          0.5555555555555556,
                          "#d8576b"
                        ],
                        [
                          0.6666666666666666,
                          "#ed7953"
                        ],
                        [
                          0.7777777777777778,
                          "#fb9f3a"
                        ],
                        [
                          0.8888888888888888,
                          "#fdca26"
                        ],
                        [
                          1,
                          "#f0f921"
                        ]
                      ],
                      "sequentialminus": [
                        [
                          0,
                          "#0d0887"
                        ],
                        [
                          0.1111111111111111,
                          "#46039f"
                        ],
                        [
                          0.2222222222222222,
                          "#7201a8"
                        ],
                        [
                          0.3333333333333333,
                          "#9c179e"
                        ],
                        [
                          0.4444444444444444,
                          "#bd3786"
                        ],
                        [
                          0.5555555555555556,
                          "#d8576b"
                        ],
                        [
                          0.6666666666666666,
                          "#ed7953"
                        ],
                        [
                          0.7777777777777778,
                          "#fb9f3a"
                        ],
                        [
                          0.8888888888888888,
                          "#fdca26"
                        ],
                        [
                          1,
                          "#f0f921"
                        ]
                      ]
                    },
                    "colorway": [
                      "#636efa",
                      "#EF553B",
                      "#00cc96",
                      "#ab63fa",
                      "#FFA15A",
                      "#19d3f3",
                      "#FF6692",
                      "#B6E880",
                      "#FF97FF",
                      "#FECB52"
                    ],
                    "font": {
                      "color": "#2a3f5f"
                    },
                    "geo": {
                      "bgcolor": "white",
                      "lakecolor": "white",
                      "landcolor": "#E5ECF6",
                      "showlakes": true,
                      "showland": true,
                      "subunitcolor": "white"
                    },
                    "hoverlabel": {
                      "align": "left"
                    },
                    "hovermode": "closest",
                    "mapbox": {
                      "style": "light"
                    },
                    "paper_bgcolor": "white",
                    "plot_bgcolor": "#E5ECF6",
                    "polar": {
                      "angularaxis": {
                        "gridcolor": "white",
                        "linecolor": "white",
                        "ticks": ""
                      },
                      "bgcolor": "#E5ECF6",
                      "radialaxis": {
                        "gridcolor": "white",
                        "linecolor": "white",
                        "ticks": ""
                      }
                    },
                    "scene": {
                      "xaxis": {
                        "backgroundcolor": "#E5ECF6",
                        "gridcolor": "white",
                        "gridwidth": 2,
                        "linecolor": "white",
                        "showbackground": true,
                        "ticks": "",
                        "zerolinecolor": "white"
                      },
                      "yaxis": {
                        "backgroundcolor": "#E5ECF6",
                        "gridcolor": "white",
                        "gridwidth": 2,
                        "linecolor": "white",
                        "showbackground": true,
                        "ticks": "",
                        "zerolinecolor": "white"
                      },
                      "zaxis": {
                        "backgroundcolor": "#E5ECF6",
                        "gridcolor": "white",
                        "gridwidth": 2,
                        "linecolor": "white",
                        "showbackground": true,
                        "ticks": "",
                        "zerolinecolor": "white"
                      }
                    },
                    "shapedefaults": {
                      "line": {
                        "color": "#2a3f5f"
                      }
                    },
                    "ternary": {
                      "aaxis": {
                        "gridcolor": "white",
                        "linecolor": "white",
                        "ticks": ""
                      },
                      "baxis": {
                        "gridcolor": "white",
                        "linecolor": "white",
                        "ticks": ""
                      },
                      "bgcolor": "#E5ECF6",
                      "caxis": {
                        "gridcolor": "white",
                        "linecolor": "white",
                        "ticks": ""
                      }
                    },
                    "title": {
                      "x": 0.05
                    },
                    "xaxis": {
                      "automargin": true,
                      "gridcolor": "white",
                      "linecolor": "white",
                      "ticks": "",
                      "title": {
                        "standoff": 15
                      },
                      "zerolinecolor": "white",
                      "zerolinewidth": 2
                    },
                    "yaxis": {
                      "automargin": true,
                      "gridcolor": "white",
                      "linecolor": "white",
                      "ticks": "",
                      "title": {
                        "standoff": 15
                      },
                      "zerolinecolor": "white",
                      "zerolinewidth": 2
                    }
                  }
                },
                "title": {
                  "text": "Frekuensi per Lokasi"
                },
                "xaxis": {
                  "anchor": "y",
                  "domain": [
                    0,
                    1
                  ],
                  "title": {
                    "text": "Tempat"
                  }
                },
                "yaxis": {
                  "anchor": "x",
                  "domain": [
                    0,
                    1
                  ],
                  "title": {
                    "text": "Frekeunsi"
                  }
                }
              }
            }
          },
          "metadata": {},
          "output_type": "display_data"
        }
      ],
      "source": [
        "px.bar(df_remark_sorted, y = 'mag', x = 'remark',\n",
        "       color= 'mag', height=600,\n",
        "       labels={'mag': 'Frekeunsi', 'remark': 'Tempat'},\n",
        "       title='Frekuensi per Lokasi',\n",
        "       barmode='group',\n",
        "       text_auto='.2s'\n",
        ")"
      ]
    },
    {
      "cell_type": "markdown",
      "id": "41aeb1de",
      "metadata": {
        "id": "41aeb1de",
        "papermill": {
          "duration": 0.015749,
          "end_time": "2023-08-01T06:56:42.553086",
          "exception": false,
          "start_time": "2023-08-01T06:56:42.537337",
          "status": "completed"
        },
        "tags": []
      },
      "source": [
        "##### Characteristics of all the earthquakes"
      ]
    },
    {
      "cell_type": "code",
      "execution_count": null,
      "id": "85595537",
      "metadata": {
        "colab": {
          "base_uri": "https://localhost:8080/",
          "height": 345
        },
        "execution": {
          "iopub.execute_input": "2023-08-01T06:56:42.589447Z",
          "iopub.status.busy": "2023-08-01T06:56:42.589027Z",
          "iopub.status.idle": "2023-08-01T06:56:42.652876Z",
          "shell.execute_reply": "2023-08-01T06:56:42.651733Z"
        },
        "id": "85595537",
        "outputId": "9dbb040e-d8f9-453a-b242-f3f94cfcb636",
        "papermill": {
          "duration": 0.085242,
          "end_time": "2023-08-01T06:56:42.655443",
          "exception": false,
          "start_time": "2023-08-01T06:56:42.570201",
          "status": "completed"
        },
        "tags": []
      },
      "outputs": [
        {
          "data": {
            "text/html": [
              "<div>\n",
              "<style scoped>\n",
              "    .dataframe tbody tr th:only-of-type {\n",
              "        vertical-align: middle;\n",
              "    }\n",
              "\n",
              "    .dataframe tbody tr th {\n",
              "        vertical-align: top;\n",
              "    }\n",
              "\n",
              "    .dataframe thead th {\n",
              "        text-align: right;\n",
              "    }\n",
              "</style>\n",
              "<table border=\"1\" class=\"dataframe\">\n",
              "  <thead>\n",
              "    <tr style=\"text-align: right;\">\n",
              "      <th></th>\n",
              "      <th>tgl</th>\n",
              "      <th>ot</th>\n",
              "      <th>lat</th>\n",
              "      <th>lon</th>\n",
              "      <th>depth</th>\n",
              "      <th>mag</th>\n",
              "      <th>remark</th>\n",
              "      <th>month</th>\n",
              "      <th>year</th>\n",
              "      <th>day</th>\n",
              "      <th>hour</th>\n",
              "      <th>DepthCategory</th>\n",
              "    </tr>\n",
              "  </thead>\n",
              "  <tbody>\n",
              "    <tr>\n",
              "      <th>0</th>\n",
              "      <td>2009-01-01</td>\n",
              "      <td>19:00:00</td>\n",
              "      <td>-4.37</td>\n",
              "      <td>101.12</td>\n",
              "      <td>10</td>\n",
              "      <td>5.1</td>\n",
              "      <td>Southern Sumatra - Indonesia</td>\n",
              "      <td>NaN</td>\n",
              "      <td>2009</td>\n",
              "      <td>Thursday</td>\n",
              "      <td>19</td>\n",
              "      <td>dangkal</td>\n",
              "    </tr>\n",
              "    <tr>\n",
              "      <th>1</th>\n",
              "      <td>2009-01-01</td>\n",
              "      <td>17:00:00</td>\n",
              "      <td>-4.42</td>\n",
              "      <td>101.07</td>\n",
              "      <td>10</td>\n",
              "      <td>5.3</td>\n",
              "      <td>Southern Sumatra - Indonesia</td>\n",
              "      <td>NaN</td>\n",
              "      <td>2009</td>\n",
              "      <td>Thursday</td>\n",
              "      <td>17</td>\n",
              "      <td>dangkal</td>\n",
              "    </tr>\n",
              "    <tr>\n",
              "      <th>2</th>\n",
              "      <td>2009-01-01</td>\n",
              "      <td>11:00:00</td>\n",
              "      <td>1.42</td>\n",
              "      <td>121.99</td>\n",
              "      <td>10</td>\n",
              "      <td>5.0</td>\n",
              "      <td>Minahassa Peninsula - Sulawesi</td>\n",
              "      <td>NaN</td>\n",
              "      <td>2009</td>\n",
              "      <td>Thursday</td>\n",
              "      <td>11</td>\n",
              "      <td>dangkal</td>\n",
              "    </tr>\n",
              "    <tr>\n",
              "      <th>3</th>\n",
              "      <td>2009-01-01</td>\n",
              "      <td>09:00:00</td>\n",
              "      <td>1.47</td>\n",
              "      <td>122.12</td>\n",
              "      <td>10</td>\n",
              "      <td>4.5</td>\n",
              "      <td>Minahassa Peninsula - Sulawesi</td>\n",
              "      <td>NaN</td>\n",
              "      <td>2009</td>\n",
              "      <td>Thursday</td>\n",
              "      <td>9</td>\n",
              "      <td>dangkal</td>\n",
              "    </tr>\n",
              "    <tr>\n",
              "      <th>4</th>\n",
              "      <td>2009-01-01</td>\n",
              "      <td>05:00:00</td>\n",
              "      <td>0.77</td>\n",
              "      <td>121.22</td>\n",
              "      <td>10</td>\n",
              "      <td>4.9</td>\n",
              "      <td>Minahassa Peninsula - Sulawesi</td>\n",
              "      <td>NaN</td>\n",
              "      <td>2009</td>\n",
              "      <td>Thursday</td>\n",
              "      <td>5</td>\n",
              "      <td>dangkal</td>\n",
              "    </tr>\n",
              "  </tbody>\n",
              "</table>\n",
              "</div>"
            ],
            "text/plain": [
              "         tgl        ot   lat     lon  depth  mag  \\\n",
              "0 2009-01-01  19:00:00 -4.37  101.12     10  5.1   \n",
              "1 2009-01-01  17:00:00 -4.42  101.07     10  5.3   \n",
              "2 2009-01-01  11:00:00  1.42  121.99     10  5.0   \n",
              "3 2009-01-01  09:00:00  1.47  122.12     10  4.5   \n",
              "4 2009-01-01  05:00:00  0.77  121.22     10  4.9   \n",
              "\n",
              "                           remark month  year       day  hour DepthCategory  \n",
              "0    Southern Sumatra - Indonesia   NaN  2009  Thursday    19       dangkal  \n",
              "1    Southern Sumatra - Indonesia   NaN  2009  Thursday    17       dangkal  \n",
              "2  Minahassa Peninsula - Sulawesi   NaN  2009  Thursday    11       dangkal  \n",
              "3  Minahassa Peninsula - Sulawesi   NaN  2009  Thursday     9       dangkal  \n",
              "4  Minahassa Peninsula - Sulawesi   NaN  2009  Thursday     5       dangkal  "
            ]
          },
          "execution_count": 18,
          "metadata": {},
          "output_type": "execute_result"
        }
      ],
      "source": [
        "# kedalaman gempa buminya\n",
        "Templist = []\n",
        "for i in df['depth'].tolist():\n",
        "    tempVar = ''\n",
        "    if (i < 60) :\n",
        "        tempVar = 'dangkal'\n",
        "    elif (60 < i < 300) :\n",
        "        tempVar = 'sedang'\n",
        "    else:\n",
        "        tempVar = 'dalam'\n",
        "    Templist.append(tempVar)\n",
        "df['DepthCategory'] = Templist\n",
        "df.head()"
      ]
    },
    {
      "cell_type": "code",
      "execution_count": null,
      "id": "11bb085d",
      "metadata": {
        "colab": {
          "base_uri": "https://localhost:8080/",
          "height": 399
        },
        "execution": {
          "iopub.execute_input": "2023-08-01T06:56:42.690791Z",
          "iopub.status.busy": "2023-08-01T06:56:42.689858Z",
          "iopub.status.idle": "2023-08-01T06:56:42.760386Z",
          "shell.execute_reply": "2023-08-01T06:56:42.759016Z"
        },
        "id": "11bb085d",
        "outputId": "5a4f9602-ee7f-4fd7-ca64-f0c50feec6d6",
        "papermill": {
          "duration": 0.091184,
          "end_time": "2023-08-01T06:56:42.762980",
          "exception": false,
          "start_time": "2023-08-01T06:56:42.671796",
          "status": "completed"
        },
        "tags": []
      },
      "outputs": [
        {
          "data": {
            "text/html": [
              "<div>\n",
              "<style scoped>\n",
              "    .dataframe tbody tr th:only-of-type {\n",
              "        vertical-align: middle;\n",
              "    }\n",
              "\n",
              "    .dataframe tbody tr th {\n",
              "        vertical-align: top;\n",
              "    }\n",
              "\n",
              "    .dataframe thead th {\n",
              "        text-align: right;\n",
              "    }\n",
              "</style>\n",
              "<table border=\"1\" class=\"dataframe\">\n",
              "  <thead>\n",
              "    <tr style=\"text-align: right;\">\n",
              "      <th></th>\n",
              "      <th>tgl</th>\n",
              "      <th>ot</th>\n",
              "      <th>lat</th>\n",
              "      <th>lon</th>\n",
              "      <th>depth</th>\n",
              "      <th>mag</th>\n",
              "      <th>remark</th>\n",
              "      <th>month</th>\n",
              "      <th>year</th>\n",
              "      <th>day</th>\n",
              "      <th>hour</th>\n",
              "      <th>DepthCategory</th>\n",
              "      <th>MagCategory</th>\n",
              "    </tr>\n",
              "  </thead>\n",
              "  <tbody>\n",
              "    <tr>\n",
              "      <th>0</th>\n",
              "      <td>2009-01-01</td>\n",
              "      <td>19:00:00</td>\n",
              "      <td>-4.37</td>\n",
              "      <td>101.12</td>\n",
              "      <td>10</td>\n",
              "      <td>5.1</td>\n",
              "      <td>Southern Sumatra - Indonesia</td>\n",
              "      <td>NaN</td>\n",
              "      <td>2009</td>\n",
              "      <td>Thursday</td>\n",
              "      <td>19</td>\n",
              "      <td>dangkal</td>\n",
              "      <td>sedang</td>\n",
              "    </tr>\n",
              "    <tr>\n",
              "      <th>1</th>\n",
              "      <td>2009-01-01</td>\n",
              "      <td>17:00:00</td>\n",
              "      <td>-4.42</td>\n",
              "      <td>101.07</td>\n",
              "      <td>10</td>\n",
              "      <td>5.3</td>\n",
              "      <td>Southern Sumatra - Indonesia</td>\n",
              "      <td>NaN</td>\n",
              "      <td>2009</td>\n",
              "      <td>Thursday</td>\n",
              "      <td>17</td>\n",
              "      <td>dangkal</td>\n",
              "      <td>sedang</td>\n",
              "    </tr>\n",
              "    <tr>\n",
              "      <th>2</th>\n",
              "      <td>2009-01-01</td>\n",
              "      <td>11:00:00</td>\n",
              "      <td>1.42</td>\n",
              "      <td>121.99</td>\n",
              "      <td>10</td>\n",
              "      <td>5.0</td>\n",
              "      <td>Minahassa Peninsula - Sulawesi</td>\n",
              "      <td>NaN</td>\n",
              "      <td>2009</td>\n",
              "      <td>Thursday</td>\n",
              "      <td>11</td>\n",
              "      <td>dangkal</td>\n",
              "      <td>sedang</td>\n",
              "    </tr>\n",
              "    <tr>\n",
              "      <th>3</th>\n",
              "      <td>2009-01-01</td>\n",
              "      <td>09:00:00</td>\n",
              "      <td>1.47</td>\n",
              "      <td>122.12</td>\n",
              "      <td>10</td>\n",
              "      <td>4.5</td>\n",
              "      <td>Minahassa Peninsula - Sulawesi</td>\n",
              "      <td>NaN</td>\n",
              "      <td>2009</td>\n",
              "      <td>Thursday</td>\n",
              "      <td>9</td>\n",
              "      <td>dangkal</td>\n",
              "      <td>ringan</td>\n",
              "    </tr>\n",
              "    <tr>\n",
              "      <th>4</th>\n",
              "      <td>2009-01-01</td>\n",
              "      <td>05:00:00</td>\n",
              "      <td>0.77</td>\n",
              "      <td>121.22</td>\n",
              "      <td>10</td>\n",
              "      <td>4.9</td>\n",
              "      <td>Minahassa Peninsula - Sulawesi</td>\n",
              "      <td>NaN</td>\n",
              "      <td>2009</td>\n",
              "      <td>Thursday</td>\n",
              "      <td>5</td>\n",
              "      <td>dangkal</td>\n",
              "      <td>ringan</td>\n",
              "    </tr>\n",
              "  </tbody>\n",
              "</table>\n",
              "</div>"
            ],
            "text/plain": [
              "         tgl        ot   lat     lon  depth  mag  \\\n",
              "0 2009-01-01  19:00:00 -4.37  101.12     10  5.1   \n",
              "1 2009-01-01  17:00:00 -4.42  101.07     10  5.3   \n",
              "2 2009-01-01  11:00:00  1.42  121.99     10  5.0   \n",
              "3 2009-01-01  09:00:00  1.47  122.12     10  4.5   \n",
              "4 2009-01-01  05:00:00  0.77  121.22     10  4.9   \n",
              "\n",
              "                           remark month  year       day  hour DepthCategory  \\\n",
              "0    Southern Sumatra - Indonesia   NaN  2009  Thursday    19       dangkal   \n",
              "1    Southern Sumatra - Indonesia   NaN  2009  Thursday    17       dangkal   \n",
              "2  Minahassa Peninsula - Sulawesi   NaN  2009  Thursday    11       dangkal   \n",
              "3  Minahassa Peninsula - Sulawesi   NaN  2009  Thursday     9       dangkal   \n",
              "4  Minahassa Peninsula - Sulawesi   NaN  2009  Thursday     5       dangkal   \n",
              "\n",
              "  MagCategory  \n",
              "0      sedang  \n",
              "1      sedang  \n",
              "2      sedang  \n",
              "3      ringan  \n",
              "4      ringan  "
            ]
          },
          "execution_count": 19,
          "metadata": {},
          "output_type": "execute_result"
        }
      ],
      "source": [
        "# the strength of the earthquake\n",
        "Templist = []\n",
        "for i in df['mag'].tolist():\n",
        "    tempVar = ''\n",
        "    if (i < 3.0) :\n",
        "        tempVar = 'mikro'\n",
        "    elif (i < 4.0) :\n",
        "        tempVar = 'kecil'\n",
        "    elif (i < 5.0):\n",
        "        tempVar = 'ringan'\n",
        "    elif (i < 6.0):\n",
        "        tempVar = 'sedang'\n",
        "    elif (i < 7.0):\n",
        "        tempVar = 'kuat'\n",
        "    else:\n",
        "        tempVar = 'mayor'\n",
        "    Templist.append(tempVar)\n",
        "df['MagCategory'] = Templist\n",
        "df.head()"
      ]
    },
    {
      "cell_type": "code",
      "execution_count": null,
      "id": "fb8168bc",
      "metadata": {
        "colab": {
          "base_uri": "https://localhost:8080/",
          "height": 617
        },
        "execution": {
          "iopub.execute_input": "2023-08-01T06:56:42.798001Z",
          "iopub.status.busy": "2023-08-01T06:56:42.797613Z",
          "iopub.status.idle": "2023-08-01T06:56:43.031870Z",
          "shell.execute_reply": "2023-08-01T06:56:43.030434Z"
        },
        "id": "fb8168bc",
        "outputId": "ec1fdf50-9b3c-47fe-eda5-09b1edd1c728",
        "papermill": {
          "duration": 0.254734,
          "end_time": "2023-08-01T06:56:43.034308",
          "exception": false,
          "start_time": "2023-08-01T06:56:42.779574",
          "status": "completed"
        },
        "tags": []
      },
      "outputs": [
        {
          "data": {
            "application/vnd.plotly.v1+json": {
              "config": {
                "plotlyServerURL": "https://plot.ly"
              },
              "data": [
                {
                  "alignmentgroup": "True",
                  "hovertemplate": "Kategori Kedalaman=%{x}<br>Frekuensi=%{y}<extra></extra>",
                  "legendgroup": "dalam",
                  "marker": {
                    "color": "#636efa",
                    "pattern": {
                      "shape": ""
                    }
                  },
                  "name": "dalam",
                  "offsetgroup": "dalam",
                  "orientation": "v",
                  "showlegend": true,
                  "textposition": "auto",
                  "type": "bar",
                  "x": [
                    "dalam"
                  ],
                  "xaxis": "x",
                  "y": [
                    1801
                  ],
                  "yaxis": "y"
                },
                {
                  "alignmentgroup": "True",
                  "hovertemplate": "Kategori Kedalaman=%{x}<br>Frekuensi=%{y}<extra></extra>",
                  "legendgroup": "dangkal",
                  "marker": {
                    "color": "#EF553B",
                    "pattern": {
                      "shape": ""
                    }
                  },
                  "name": "dangkal",
                  "offsetgroup": "dangkal",
                  "orientation": "v",
                  "showlegend": true,
                  "textposition": "auto",
                  "type": "bar",
                  "x": [
                    "dangkal"
                  ],
                  "xaxis": "x",
                  "y": [
                    70067
                  ],
                  "yaxis": "y"
                },
                {
                  "alignmentgroup": "True",
                  "hovertemplate": "Kategori Kedalaman=%{x}<br>Frekuensi=%{y}<extra></extra>",
                  "legendgroup": "sedang",
                  "marker": {
                    "color": "#00cc96",
                    "pattern": {
                      "shape": ""
                    }
                  },
                  "name": "sedang",
                  "offsetgroup": "sedang",
                  "orientation": "v",
                  "showlegend": true,
                  "textposition": "auto",
                  "type": "bar",
                  "x": [
                    "sedang"
                  ],
                  "xaxis": "x",
                  "y": [
                    19527
                  ],
                  "yaxis": "y"
                }
              ],
              "layout": {
                "barmode": "relative",
                "height": 600,
                "legend": {
                  "title": {
                    "text": "Kategori Kedalaman"
                  },
                  "tracegroupgap": 0
                },
                "template": {
                  "data": {
                    "bar": [
                      {
                        "error_x": {
                          "color": "#2a3f5f"
                        },
                        "error_y": {
                          "color": "#2a3f5f"
                        },
                        "marker": {
                          "line": {
                            "color": "#E5ECF6",
                            "width": 0.5
                          },
                          "pattern": {
                            "fillmode": "overlay",
                            "size": 10,
                            "solidity": 0.2
                          }
                        },
                        "type": "bar"
                      }
                    ],
                    "barpolar": [
                      {
                        "marker": {
                          "line": {
                            "color": "#E5ECF6",
                            "width": 0.5
                          },
                          "pattern": {
                            "fillmode": "overlay",
                            "size": 10,
                            "solidity": 0.2
                          }
                        },
                        "type": "barpolar"
                      }
                    ],
                    "carpet": [
                      {
                        "aaxis": {
                          "endlinecolor": "#2a3f5f",
                          "gridcolor": "white",
                          "linecolor": "white",
                          "minorgridcolor": "white",
                          "startlinecolor": "#2a3f5f"
                        },
                        "baxis": {
                          "endlinecolor": "#2a3f5f",
                          "gridcolor": "white",
                          "linecolor": "white",
                          "minorgridcolor": "white",
                          "startlinecolor": "#2a3f5f"
                        },
                        "type": "carpet"
                      }
                    ],
                    "choropleth": [
                      {
                        "colorbar": {
                          "outlinewidth": 0,
                          "ticks": ""
                        },
                        "type": "choropleth"
                      }
                    ],
                    "contour": [
                      {
                        "colorbar": {
                          "outlinewidth": 0,
                          "ticks": ""
                        },
                        "colorscale": [
                          [
                            0,
                            "#0d0887"
                          ],
                          [
                            0.1111111111111111,
                            "#46039f"
                          ],
                          [
                            0.2222222222222222,
                            "#7201a8"
                          ],
                          [
                            0.3333333333333333,
                            "#9c179e"
                          ],
                          [
                            0.4444444444444444,
                            "#bd3786"
                          ],
                          [
                            0.5555555555555556,
                            "#d8576b"
                          ],
                          [
                            0.6666666666666666,
                            "#ed7953"
                          ],
                          [
                            0.7777777777777778,
                            "#fb9f3a"
                          ],
                          [
                            0.8888888888888888,
                            "#fdca26"
                          ],
                          [
                            1,
                            "#f0f921"
                          ]
                        ],
                        "type": "contour"
                      }
                    ],
                    "contourcarpet": [
                      {
                        "colorbar": {
                          "outlinewidth": 0,
                          "ticks": ""
                        },
                        "type": "contourcarpet"
                      }
                    ],
                    "heatmap": [
                      {
                        "colorbar": {
                          "outlinewidth": 0,
                          "ticks": ""
                        },
                        "colorscale": [
                          [
                            0,
                            "#0d0887"
                          ],
                          [
                            0.1111111111111111,
                            "#46039f"
                          ],
                          [
                            0.2222222222222222,
                            "#7201a8"
                          ],
                          [
                            0.3333333333333333,
                            "#9c179e"
                          ],
                          [
                            0.4444444444444444,
                            "#bd3786"
                          ],
                          [
                            0.5555555555555556,
                            "#d8576b"
                          ],
                          [
                            0.6666666666666666,
                            "#ed7953"
                          ],
                          [
                            0.7777777777777778,
                            "#fb9f3a"
                          ],
                          [
                            0.8888888888888888,
                            "#fdca26"
                          ],
                          [
                            1,
                            "#f0f921"
                          ]
                        ],
                        "type": "heatmap"
                      }
                    ],
                    "heatmapgl": [
                      {
                        "colorbar": {
                          "outlinewidth": 0,
                          "ticks": ""
                        },
                        "colorscale": [
                          [
                            0,
                            "#0d0887"
                          ],
                          [
                            0.1111111111111111,
                            "#46039f"
                          ],
                          [
                            0.2222222222222222,
                            "#7201a8"
                          ],
                          [
                            0.3333333333333333,
                            "#9c179e"
                          ],
                          [
                            0.4444444444444444,
                            "#bd3786"
                          ],
                          [
                            0.5555555555555556,
                            "#d8576b"
                          ],
                          [
                            0.6666666666666666,
                            "#ed7953"
                          ],
                          [
                            0.7777777777777778,
                            "#fb9f3a"
                          ],
                          [
                            0.8888888888888888,
                            "#fdca26"
                          ],
                          [
                            1,
                            "#f0f921"
                          ]
                        ],
                        "type": "heatmapgl"
                      }
                    ],
                    "histogram": [
                      {
                        "marker": {
                          "pattern": {
                            "fillmode": "overlay",
                            "size": 10,
                            "solidity": 0.2
                          }
                        },
                        "type": "histogram"
                      }
                    ],
                    "histogram2d": [
                      {
                        "colorbar": {
                          "outlinewidth": 0,
                          "ticks": ""
                        },
                        "colorscale": [
                          [
                            0,
                            "#0d0887"
                          ],
                          [
                            0.1111111111111111,
                            "#46039f"
                          ],
                          [
                            0.2222222222222222,
                            "#7201a8"
                          ],
                          [
                            0.3333333333333333,
                            "#9c179e"
                          ],
                          [
                            0.4444444444444444,
                            "#bd3786"
                          ],
                          [
                            0.5555555555555556,
                            "#d8576b"
                          ],
                          [
                            0.6666666666666666,
                            "#ed7953"
                          ],
                          [
                            0.7777777777777778,
                            "#fb9f3a"
                          ],
                          [
                            0.8888888888888888,
                            "#fdca26"
                          ],
                          [
                            1,
                            "#f0f921"
                          ]
                        ],
                        "type": "histogram2d"
                      }
                    ],
                    "histogram2dcontour": [
                      {
                        "colorbar": {
                          "outlinewidth": 0,
                          "ticks": ""
                        },
                        "colorscale": [
                          [
                            0,
                            "#0d0887"
                          ],
                          [
                            0.1111111111111111,
                            "#46039f"
                          ],
                          [
                            0.2222222222222222,
                            "#7201a8"
                          ],
                          [
                            0.3333333333333333,
                            "#9c179e"
                          ],
                          [
                            0.4444444444444444,
                            "#bd3786"
                          ],
                          [
                            0.5555555555555556,
                            "#d8576b"
                          ],
                          [
                            0.6666666666666666,
                            "#ed7953"
                          ],
                          [
                            0.7777777777777778,
                            "#fb9f3a"
                          ],
                          [
                            0.8888888888888888,
                            "#fdca26"
                          ],
                          [
                            1,
                            "#f0f921"
                          ]
                        ],
                        "type": "histogram2dcontour"
                      }
                    ],
                    "mesh3d": [
                      {
                        "colorbar": {
                          "outlinewidth": 0,
                          "ticks": ""
                        },
                        "type": "mesh3d"
                      }
                    ],
                    "parcoords": [
                      {
                        "line": {
                          "colorbar": {
                            "outlinewidth": 0,
                            "ticks": ""
                          }
                        },
                        "type": "parcoords"
                      }
                    ],
                    "pie": [
                      {
                        "automargin": true,
                        "type": "pie"
                      }
                    ],
                    "scatter": [
                      {
                        "fillpattern": {
                          "fillmode": "overlay",
                          "size": 10,
                          "solidity": 0.2
                        },
                        "type": "scatter"
                      }
                    ],
                    "scatter3d": [
                      {
                        "line": {
                          "colorbar": {
                            "outlinewidth": 0,
                            "ticks": ""
                          }
                        },
                        "marker": {
                          "colorbar": {
                            "outlinewidth": 0,
                            "ticks": ""
                          }
                        },
                        "type": "scatter3d"
                      }
                    ],
                    "scattercarpet": [
                      {
                        "marker": {
                          "colorbar": {
                            "outlinewidth": 0,
                            "ticks": ""
                          }
                        },
                        "type": "scattercarpet"
                      }
                    ],
                    "scattergeo": [
                      {
                        "marker": {
                          "colorbar": {
                            "outlinewidth": 0,
                            "ticks": ""
                          }
                        },
                        "type": "scattergeo"
                      }
                    ],
                    "scattergl": [
                      {
                        "marker": {
                          "colorbar": {
                            "outlinewidth": 0,
                            "ticks": ""
                          }
                        },
                        "type": "scattergl"
                      }
                    ],
                    "scattermapbox": [
                      {
                        "marker": {
                          "colorbar": {
                            "outlinewidth": 0,
                            "ticks": ""
                          }
                        },
                        "type": "scattermapbox"
                      }
                    ],
                    "scatterpolar": [
                      {
                        "marker": {
                          "colorbar": {
                            "outlinewidth": 0,
                            "ticks": ""
                          }
                        },
                        "type": "scatterpolar"
                      }
                    ],
                    "scatterpolargl": [
                      {
                        "marker": {
                          "colorbar": {
                            "outlinewidth": 0,
                            "ticks": ""
                          }
                        },
                        "type": "scatterpolargl"
                      }
                    ],
                    "scatterternary": [
                      {
                        "marker": {
                          "colorbar": {
                            "outlinewidth": 0,
                            "ticks": ""
                          }
                        },
                        "type": "scatterternary"
                      }
                    ],
                    "surface": [
                      {
                        "colorbar": {
                          "outlinewidth": 0,
                          "ticks": ""
                        },
                        "colorscale": [
                          [
                            0,
                            "#0d0887"
                          ],
                          [
                            0.1111111111111111,
                            "#46039f"
                          ],
                          [
                            0.2222222222222222,
                            "#7201a8"
                          ],
                          [
                            0.3333333333333333,
                            "#9c179e"
                          ],
                          [
                            0.4444444444444444,
                            "#bd3786"
                          ],
                          [
                            0.5555555555555556,
                            "#d8576b"
                          ],
                          [
                            0.6666666666666666,
                            "#ed7953"
                          ],
                          [
                            0.7777777777777778,
                            "#fb9f3a"
                          ],
                          [
                            0.8888888888888888,
                            "#fdca26"
                          ],
                          [
                            1,
                            "#f0f921"
                          ]
                        ],
                        "type": "surface"
                      }
                    ],
                    "table": [
                      {
                        "cells": {
                          "fill": {
                            "color": "#EBF0F8"
                          },
                          "line": {
                            "color": "white"
                          }
                        },
                        "header": {
                          "fill": {
                            "color": "#C8D4E3"
                          },
                          "line": {
                            "color": "white"
                          }
                        },
                        "type": "table"
                      }
                    ]
                  },
                  "layout": {
                    "annotationdefaults": {
                      "arrowcolor": "#2a3f5f",
                      "arrowhead": 0,
                      "arrowwidth": 1
                    },
                    "autotypenumbers": "strict",
                    "coloraxis": {
                      "colorbar": {
                        "outlinewidth": 0,
                        "ticks": ""
                      }
                    },
                    "colorscale": {
                      "diverging": [
                        [
                          0,
                          "#8e0152"
                        ],
                        [
                          0.1,
                          "#c51b7d"
                        ],
                        [
                          0.2,
                          "#de77ae"
                        ],
                        [
                          0.3,
                          "#f1b6da"
                        ],
                        [
                          0.4,
                          "#fde0ef"
                        ],
                        [
                          0.5,
                          "#f7f7f7"
                        ],
                        [
                          0.6,
                          "#e6f5d0"
                        ],
                        [
                          0.7,
                          "#b8e186"
                        ],
                        [
                          0.8,
                          "#7fbc41"
                        ],
                        [
                          0.9,
                          "#4d9221"
                        ],
                        [
                          1,
                          "#276419"
                        ]
                      ],
                      "sequential": [
                        [
                          0,
                          "#0d0887"
                        ],
                        [
                          0.1111111111111111,
                          "#46039f"
                        ],
                        [
                          0.2222222222222222,
                          "#7201a8"
                        ],
                        [
                          0.3333333333333333,
                          "#9c179e"
                        ],
                        [
                          0.4444444444444444,
                          "#bd3786"
                        ],
                        [
                          0.5555555555555556,
                          "#d8576b"
                        ],
                        [
                          0.6666666666666666,
                          "#ed7953"
                        ],
                        [
                          0.7777777777777778,
                          "#fb9f3a"
                        ],
                        [
                          0.8888888888888888,
                          "#fdca26"
                        ],
                        [
                          1,
                          "#f0f921"
                        ]
                      ],
                      "sequentialminus": [
                        [
                          0,
                          "#0d0887"
                        ],
                        [
                          0.1111111111111111,
                          "#46039f"
                        ],
                        [
                          0.2222222222222222,
                          "#7201a8"
                        ],
                        [
                          0.3333333333333333,
                          "#9c179e"
                        ],
                        [
                          0.4444444444444444,
                          "#bd3786"
                        ],
                        [
                          0.5555555555555556,
                          "#d8576b"
                        ],
                        [
                          0.6666666666666666,
                          "#ed7953"
                        ],
                        [
                          0.7777777777777778,
                          "#fb9f3a"
                        ],
                        [
                          0.8888888888888888,
                          "#fdca26"
                        ],
                        [
                          1,
                          "#f0f921"
                        ]
                      ]
                    },
                    "colorway": [
                      "#636efa",
                      "#EF553B",
                      "#00cc96",
                      "#ab63fa",
                      "#FFA15A",
                      "#19d3f3",
                      "#FF6692",
                      "#B6E880",
                      "#FF97FF",
                      "#FECB52"
                    ],
                    "font": {
                      "color": "#2a3f5f"
                    },
                    "geo": {
                      "bgcolor": "white",
                      "lakecolor": "white",
                      "landcolor": "#E5ECF6",
                      "showlakes": true,
                      "showland": true,
                      "subunitcolor": "white"
                    },
                    "hoverlabel": {
                      "align": "left"
                    },
                    "hovermode": "closest",
                    "mapbox": {
                      "style": "light"
                    },
                    "paper_bgcolor": "white",
                    "plot_bgcolor": "#E5ECF6",
                    "polar": {
                      "angularaxis": {
                        "gridcolor": "white",
                        "linecolor": "white",
                        "ticks": ""
                      },
                      "bgcolor": "#E5ECF6",
                      "radialaxis": {
                        "gridcolor": "white",
                        "linecolor": "white",
                        "ticks": ""
                      }
                    },
                    "scene": {
                      "xaxis": {
                        "backgroundcolor": "#E5ECF6",
                        "gridcolor": "white",
                        "gridwidth": 2,
                        "linecolor": "white",
                        "showbackground": true,
                        "ticks": "",
                        "zerolinecolor": "white"
                      },
                      "yaxis": {
                        "backgroundcolor": "#E5ECF6",
                        "gridcolor": "white",
                        "gridwidth": 2,
                        "linecolor": "white",
                        "showbackground": true,
                        "ticks": "",
                        "zerolinecolor": "white"
                      },
                      "zaxis": {
                        "backgroundcolor": "#E5ECF6",
                        "gridcolor": "white",
                        "gridwidth": 2,
                        "linecolor": "white",
                        "showbackground": true,
                        "ticks": "",
                        "zerolinecolor": "white"
                      }
                    },
                    "shapedefaults": {
                      "line": {
                        "color": "#2a3f5f"
                      }
                    },
                    "ternary": {
                      "aaxis": {
                        "gridcolor": "white",
                        "linecolor": "white",
                        "ticks": ""
                      },
                      "baxis": {
                        "gridcolor": "white",
                        "linecolor": "white",
                        "ticks": ""
                      },
                      "bgcolor": "#E5ECF6",
                      "caxis": {
                        "gridcolor": "white",
                        "linecolor": "white",
                        "ticks": ""
                      }
                    },
                    "title": {
                      "x": 0.05
                    },
                    "xaxis": {
                      "automargin": true,
                      "gridcolor": "white",
                      "linecolor": "white",
                      "ticks": "",
                      "title": {
                        "standoff": 15
                      },
                      "zerolinecolor": "white",
                      "zerolinewidth": 2
                    },
                    "yaxis": {
                      "automargin": true,
                      "gridcolor": "white",
                      "linecolor": "white",
                      "ticks": "",
                      "title": {
                        "standoff": 15
                      },
                      "zerolinecolor": "white",
                      "zerolinewidth": 2
                    }
                  }
                },
                "title": {
                  "text": "Frekuensi berdasarkan Kategori Kedalaman"
                },
                "xaxis": {
                  "anchor": "y",
                  "categoryarray": [
                    "dalam",
                    "dangkal",
                    "sedang"
                  ],
                  "categoryorder": "array",
                  "domain": [
                    0,
                    1
                  ],
                  "title": {
                    "text": "Kategori Kedalaman"
                  }
                },
                "yaxis": {
                  "anchor": "x",
                  "domain": [
                    0,
                    1
                  ],
                  "title": {
                    "text": "Frekuensi"
                  }
                }
              }
            }
          },
          "metadata": {},
          "output_type": "display_data"
        }
      ],
      "source": [
        "fig_5 = df.groupby(['DepthCategory'], as_index=False, sort=True).count()\n",
        "px.bar(fig_5, y = 'tgl', x = 'DepthCategory',\n",
        "       color= 'DepthCategory', height=600,\n",
        "       labels={'tgl': 'Frekuensi', 'DepthCategory': 'Kategori Kedalaman'},\n",
        "       title='Frekuensi berdasarkan Kategori Kedalaman'\n",
        ")"
      ]
    },
    {
      "cell_type": "code",
      "execution_count": null,
      "id": "294aae6d",
      "metadata": {
        "colab": {
          "base_uri": "https://localhost:8080/",
          "height": 617
        },
        "execution": {
          "iopub.execute_input": "2023-08-01T06:56:43.070588Z",
          "iopub.status.busy": "2023-08-01T06:56:43.070144Z",
          "iopub.status.idle": "2023-08-01T06:56:43.305902Z",
          "shell.execute_reply": "2023-08-01T06:56:43.304838Z"
        },
        "id": "294aae6d",
        "outputId": "bb97d9c5-0a60-41a7-e0ee-134fd9dcdb22",
        "papermill": {
          "duration": 0.256733,
          "end_time": "2023-08-01T06:56:43.308324",
          "exception": false,
          "start_time": "2023-08-01T06:56:43.051591",
          "status": "completed"
        },
        "tags": []
      },
      "outputs": [
        {
          "data": {
            "application/vnd.plotly.v1+json": {
              "config": {
                "plotlyServerURL": "https://plot.ly"
              },
              "data": [
                {
                  "alignmentgroup": "True",
                  "hovertemplate": "Kategori Magnitudo=%{x}<br>Frekuensi=%{y}<extra></extra>",
                  "legendgroup": "kecil",
                  "marker": {
                    "color": "#636efa",
                    "pattern": {
                      "shape": ""
                    }
                  },
                  "name": "kecil",
                  "offsetgroup": "kecil",
                  "orientation": "v",
                  "showlegend": true,
                  "textposition": "auto",
                  "type": "bar",
                  "x": [
                    "kecil"
                  ],
                  "xaxis": "x",
                  "y": [
                    40249
                  ],
                  "yaxis": "y"
                },
                {
                  "alignmentgroup": "True",
                  "hovertemplate": "Kategori Magnitudo=%{x}<br>Frekuensi=%{y}<extra></extra>",
                  "legendgroup": "kuat",
                  "marker": {
                    "color": "#EF553B",
                    "pattern": {
                      "shape": ""
                    }
                  },
                  "name": "kuat",
                  "offsetgroup": "kuat",
                  "orientation": "v",
                  "showlegend": true,
                  "textposition": "auto",
                  "type": "bar",
                  "x": [
                    "kuat"
                  ],
                  "xaxis": "x",
                  "y": [
                    353
                  ],
                  "yaxis": "y"
                },
                {
                  "alignmentgroup": "True",
                  "hovertemplate": "Kategori Magnitudo=%{x}<br>Frekuensi=%{y}<extra></extra>",
                  "legendgroup": "mayor",
                  "marker": {
                    "color": "#00cc96",
                    "pattern": {
                      "shape": ""
                    }
                  },
                  "name": "mayor",
                  "offsetgroup": "mayor",
                  "orientation": "v",
                  "showlegend": true,
                  "textposition": "auto",
                  "type": "bar",
                  "x": [
                    "mayor"
                  ],
                  "xaxis": "x",
                  "y": [
                    35
                  ],
                  "yaxis": "y"
                },
                {
                  "alignmentgroup": "True",
                  "hovertemplate": "Kategori Magnitudo=%{x}<br>Frekuensi=%{y}<extra></extra>",
                  "legendgroup": "mikro",
                  "marker": {
                    "color": "#ab63fa",
                    "pattern": {
                      "shape": ""
                    }
                  },
                  "name": "mikro",
                  "offsetgroup": "mikro",
                  "orientation": "v",
                  "showlegend": true,
                  "textposition": "auto",
                  "type": "bar",
                  "x": [
                    "mikro"
                  ],
                  "xaxis": "x",
                  "y": [
                    21376
                  ],
                  "yaxis": "y"
                },
                {
                  "alignmentgroup": "True",
                  "hovertemplate": "Kategori Magnitudo=%{x}<br>Frekuensi=%{y}<extra></extra>",
                  "legendgroup": "ringan",
                  "marker": {
                    "color": "#FFA15A",
                    "pattern": {
                      "shape": ""
                    }
                  },
                  "name": "ringan",
                  "offsetgroup": "ringan",
                  "orientation": "v",
                  "showlegend": true,
                  "textposition": "auto",
                  "type": "bar",
                  "x": [
                    "ringan"
                  ],
                  "xaxis": "x",
                  "y": [
                    24815
                  ],
                  "yaxis": "y"
                },
                {
                  "alignmentgroup": "True",
                  "hovertemplate": "Kategori Magnitudo=%{x}<br>Frekuensi=%{y}<extra></extra>",
                  "legendgroup": "sedang",
                  "marker": {
                    "color": "#19d3f3",
                    "pattern": {
                      "shape": ""
                    }
                  },
                  "name": "sedang",
                  "offsetgroup": "sedang",
                  "orientation": "v",
                  "showlegend": true,
                  "textposition": "auto",
                  "type": "bar",
                  "x": [
                    "sedang"
                  ],
                  "xaxis": "x",
                  "y": [
                    4567
                  ],
                  "yaxis": "y"
                }
              ],
              "layout": {
                "barmode": "relative",
                "height": 600,
                "legend": {
                  "title": {
                    "text": "Kategori Magnitudo"
                  },
                  "tracegroupgap": 0
                },
                "template": {
                  "data": {
                    "bar": [
                      {
                        "error_x": {
                          "color": "#2a3f5f"
                        },
                        "error_y": {
                          "color": "#2a3f5f"
                        },
                        "marker": {
                          "line": {
                            "color": "#E5ECF6",
                            "width": 0.5
                          },
                          "pattern": {
                            "fillmode": "overlay",
                            "size": 10,
                            "solidity": 0.2
                          }
                        },
                        "type": "bar"
                      }
                    ],
                    "barpolar": [
                      {
                        "marker": {
                          "line": {
                            "color": "#E5ECF6",
                            "width": 0.5
                          },
                          "pattern": {
                            "fillmode": "overlay",
                            "size": 10,
                            "solidity": 0.2
                          }
                        },
                        "type": "barpolar"
                      }
                    ],
                    "carpet": [
                      {
                        "aaxis": {
                          "endlinecolor": "#2a3f5f",
                          "gridcolor": "white",
                          "linecolor": "white",
                          "minorgridcolor": "white",
                          "startlinecolor": "#2a3f5f"
                        },
                        "baxis": {
                          "endlinecolor": "#2a3f5f",
                          "gridcolor": "white",
                          "linecolor": "white",
                          "minorgridcolor": "white",
                          "startlinecolor": "#2a3f5f"
                        },
                        "type": "carpet"
                      }
                    ],
                    "choropleth": [
                      {
                        "colorbar": {
                          "outlinewidth": 0,
                          "ticks": ""
                        },
                        "type": "choropleth"
                      }
                    ],
                    "contour": [
                      {
                        "colorbar": {
                          "outlinewidth": 0,
                          "ticks": ""
                        },
                        "colorscale": [
                          [
                            0,
                            "#0d0887"
                          ],
                          [
                            0.1111111111111111,
                            "#46039f"
                          ],
                          [
                            0.2222222222222222,
                            "#7201a8"
                          ],
                          [
                            0.3333333333333333,
                            "#9c179e"
                          ],
                          [
                            0.4444444444444444,
                            "#bd3786"
                          ],
                          [
                            0.5555555555555556,
                            "#d8576b"
                          ],
                          [
                            0.6666666666666666,
                            "#ed7953"
                          ],
                          [
                            0.7777777777777778,
                            "#fb9f3a"
                          ],
                          [
                            0.8888888888888888,
                            "#fdca26"
                          ],
                          [
                            1,
                            "#f0f921"
                          ]
                        ],
                        "type": "contour"
                      }
                    ],
                    "contourcarpet": [
                      {
                        "colorbar": {
                          "outlinewidth": 0,
                          "ticks": ""
                        },
                        "type": "contourcarpet"
                      }
                    ],
                    "heatmap": [
                      {
                        "colorbar": {
                          "outlinewidth": 0,
                          "ticks": ""
                        },
                        "colorscale": [
                          [
                            0,
                            "#0d0887"
                          ],
                          [
                            0.1111111111111111,
                            "#46039f"
                          ],
                          [
                            0.2222222222222222,
                            "#7201a8"
                          ],
                          [
                            0.3333333333333333,
                            "#9c179e"
                          ],
                          [
                            0.4444444444444444,
                            "#bd3786"
                          ],
                          [
                            0.5555555555555556,
                            "#d8576b"
                          ],
                          [
                            0.6666666666666666,
                            "#ed7953"
                          ],
                          [
                            0.7777777777777778,
                            "#fb9f3a"
                          ],
                          [
                            0.8888888888888888,
                            "#fdca26"
                          ],
                          [
                            1,
                            "#f0f921"
                          ]
                        ],
                        "type": "heatmap"
                      }
                    ],
                    "heatmapgl": [
                      {
                        "colorbar": {
                          "outlinewidth": 0,
                          "ticks": ""
                        },
                        "colorscale": [
                          [
                            0,
                            "#0d0887"
                          ],
                          [
                            0.1111111111111111,
                            "#46039f"
                          ],
                          [
                            0.2222222222222222,
                            "#7201a8"
                          ],
                          [
                            0.3333333333333333,
                            "#9c179e"
                          ],
                          [
                            0.4444444444444444,
                            "#bd3786"
                          ],
                          [
                            0.5555555555555556,
                            "#d8576b"
                          ],
                          [
                            0.6666666666666666,
                            "#ed7953"
                          ],
                          [
                            0.7777777777777778,
                            "#fb9f3a"
                          ],
                          [
                            0.8888888888888888,
                            "#fdca26"
                          ],
                          [
                            1,
                            "#f0f921"
                          ]
                        ],
                        "type": "heatmapgl"
                      }
                    ],
                    "histogram": [
                      {
                        "marker": {
                          "pattern": {
                            "fillmode": "overlay",
                            "size": 10,
                            "solidity": 0.2
                          }
                        },
                        "type": "histogram"
                      }
                    ],
                    "histogram2d": [
                      {
                        "colorbar": {
                          "outlinewidth": 0,
                          "ticks": ""
                        },
                        "colorscale": [
                          [
                            0,
                            "#0d0887"
                          ],
                          [
                            0.1111111111111111,
                            "#46039f"
                          ],
                          [
                            0.2222222222222222,
                            "#7201a8"
                          ],
                          [
                            0.3333333333333333,
                            "#9c179e"
                          ],
                          [
                            0.4444444444444444,
                            "#bd3786"
                          ],
                          [
                            0.5555555555555556,
                            "#d8576b"
                          ],
                          [
                            0.6666666666666666,
                            "#ed7953"
                          ],
                          [
                            0.7777777777777778,
                            "#fb9f3a"
                          ],
                          [
                            0.8888888888888888,
                            "#fdca26"
                          ],
                          [
                            1,
                            "#f0f921"
                          ]
                        ],
                        "type": "histogram2d"
                      }
                    ],
                    "histogram2dcontour": [
                      {
                        "colorbar": {
                          "outlinewidth": 0,
                          "ticks": ""
                        },
                        "colorscale": [
                          [
                            0,
                            "#0d0887"
                          ],
                          [
                            0.1111111111111111,
                            "#46039f"
                          ],
                          [
                            0.2222222222222222,
                            "#7201a8"
                          ],
                          [
                            0.3333333333333333,
                            "#9c179e"
                          ],
                          [
                            0.4444444444444444,
                            "#bd3786"
                          ],
                          [
                            0.5555555555555556,
                            "#d8576b"
                          ],
                          [
                            0.6666666666666666,
                            "#ed7953"
                          ],
                          [
                            0.7777777777777778,
                            "#fb9f3a"
                          ],
                          [
                            0.8888888888888888,
                            "#fdca26"
                          ],
                          [
                            1,
                            "#f0f921"
                          ]
                        ],
                        "type": "histogram2dcontour"
                      }
                    ],
                    "mesh3d": [
                      {
                        "colorbar": {
                          "outlinewidth": 0,
                          "ticks": ""
                        },
                        "type": "mesh3d"
                      }
                    ],
                    "parcoords": [
                      {
                        "line": {
                          "colorbar": {
                            "outlinewidth": 0,
                            "ticks": ""
                          }
                        },
                        "type": "parcoords"
                      }
                    ],
                    "pie": [
                      {
                        "automargin": true,
                        "type": "pie"
                      }
                    ],
                    "scatter": [
                      {
                        "fillpattern": {
                          "fillmode": "overlay",
                          "size": 10,
                          "solidity": 0.2
                        },
                        "type": "scatter"
                      }
                    ],
                    "scatter3d": [
                      {
                        "line": {
                          "colorbar": {
                            "outlinewidth": 0,
                            "ticks": ""
                          }
                        },
                        "marker": {
                          "colorbar": {
                            "outlinewidth": 0,
                            "ticks": ""
                          }
                        },
                        "type": "scatter3d"
                      }
                    ],
                    "scattercarpet": [
                      {
                        "marker": {
                          "colorbar": {
                            "outlinewidth": 0,
                            "ticks": ""
                          }
                        },
                        "type": "scattercarpet"
                      }
                    ],
                    "scattergeo": [
                      {
                        "marker": {
                          "colorbar": {
                            "outlinewidth": 0,
                            "ticks": ""
                          }
                        },
                        "type": "scattergeo"
                      }
                    ],
                    "scattergl": [
                      {
                        "marker": {
                          "colorbar": {
                            "outlinewidth": 0,
                            "ticks": ""
                          }
                        },
                        "type": "scattergl"
                      }
                    ],
                    "scattermapbox": [
                      {
                        "marker": {
                          "colorbar": {
                            "outlinewidth": 0,
                            "ticks": ""
                          }
                        },
                        "type": "scattermapbox"
                      }
                    ],
                    "scatterpolar": [
                      {
                        "marker": {
                          "colorbar": {
                            "outlinewidth": 0,
                            "ticks": ""
                          }
                        },
                        "type": "scatterpolar"
                      }
                    ],
                    "scatterpolargl": [
                      {
                        "marker": {
                          "colorbar": {
                            "outlinewidth": 0,
                            "ticks": ""
                          }
                        },
                        "type": "scatterpolargl"
                      }
                    ],
                    "scatterternary": [
                      {
                        "marker": {
                          "colorbar": {
                            "outlinewidth": 0,
                            "ticks": ""
                          }
                        },
                        "type": "scatterternary"
                      }
                    ],
                    "surface": [
                      {
                        "colorbar": {
                          "outlinewidth": 0,
                          "ticks": ""
                        },
                        "colorscale": [
                          [
                            0,
                            "#0d0887"
                          ],
                          [
                            0.1111111111111111,
                            "#46039f"
                          ],
                          [
                            0.2222222222222222,
                            "#7201a8"
                          ],
                          [
                            0.3333333333333333,
                            "#9c179e"
                          ],
                          [
                            0.4444444444444444,
                            "#bd3786"
                          ],
                          [
                            0.5555555555555556,
                            "#d8576b"
                          ],
                          [
                            0.6666666666666666,
                            "#ed7953"
                          ],
                          [
                            0.7777777777777778,
                            "#fb9f3a"
                          ],
                          [
                            0.8888888888888888,
                            "#fdca26"
                          ],
                          [
                            1,
                            "#f0f921"
                          ]
                        ],
                        "type": "surface"
                      }
                    ],
                    "table": [
                      {
                        "cells": {
                          "fill": {
                            "color": "#EBF0F8"
                          },
                          "line": {
                            "color": "white"
                          }
                        },
                        "header": {
                          "fill": {
                            "color": "#C8D4E3"
                          },
                          "line": {
                            "color": "white"
                          }
                        },
                        "type": "table"
                      }
                    ]
                  },
                  "layout": {
                    "annotationdefaults": {
                      "arrowcolor": "#2a3f5f",
                      "arrowhead": 0,
                      "arrowwidth": 1
                    },
                    "autotypenumbers": "strict",
                    "coloraxis": {
                      "colorbar": {
                        "outlinewidth": 0,
                        "ticks": ""
                      }
                    },
                    "colorscale": {
                      "diverging": [
                        [
                          0,
                          "#8e0152"
                        ],
                        [
                          0.1,
                          "#c51b7d"
                        ],
                        [
                          0.2,
                          "#de77ae"
                        ],
                        [
                          0.3,
                          "#f1b6da"
                        ],
                        [
                          0.4,
                          "#fde0ef"
                        ],
                        [
                          0.5,
                          "#f7f7f7"
                        ],
                        [
                          0.6,
                          "#e6f5d0"
                        ],
                        [
                          0.7,
                          "#b8e186"
                        ],
                        [
                          0.8,
                          "#7fbc41"
                        ],
                        [
                          0.9,
                          "#4d9221"
                        ],
                        [
                          1,
                          "#276419"
                        ]
                      ],
                      "sequential": [
                        [
                          0,
                          "#0d0887"
                        ],
                        [
                          0.1111111111111111,
                          "#46039f"
                        ],
                        [
                          0.2222222222222222,
                          "#7201a8"
                        ],
                        [
                          0.3333333333333333,
                          "#9c179e"
                        ],
                        [
                          0.4444444444444444,
                          "#bd3786"
                        ],
                        [
                          0.5555555555555556,
                          "#d8576b"
                        ],
                        [
                          0.6666666666666666,
                          "#ed7953"
                        ],
                        [
                          0.7777777777777778,
                          "#fb9f3a"
                        ],
                        [
                          0.8888888888888888,
                          "#fdca26"
                        ],
                        [
                          1,
                          "#f0f921"
                        ]
                      ],
                      "sequentialminus": [
                        [
                          0,
                          "#0d0887"
                        ],
                        [
                          0.1111111111111111,
                          "#46039f"
                        ],
                        [
                          0.2222222222222222,
                          "#7201a8"
                        ],
                        [
                          0.3333333333333333,
                          "#9c179e"
                        ],
                        [
                          0.4444444444444444,
                          "#bd3786"
                        ],
                        [
                          0.5555555555555556,
                          "#d8576b"
                        ],
                        [
                          0.6666666666666666,
                          "#ed7953"
                        ],
                        [
                          0.7777777777777778,
                          "#fb9f3a"
                        ],
                        [
                          0.8888888888888888,
                          "#fdca26"
                        ],
                        [
                          1,
                          "#f0f921"
                        ]
                      ]
                    },
                    "colorway": [
                      "#636efa",
                      "#EF553B",
                      "#00cc96",
                      "#ab63fa",
                      "#FFA15A",
                      "#19d3f3",
                      "#FF6692",
                      "#B6E880",
                      "#FF97FF",
                      "#FECB52"
                    ],
                    "font": {
                      "color": "#2a3f5f"
                    },
                    "geo": {
                      "bgcolor": "white",
                      "lakecolor": "white",
                      "landcolor": "#E5ECF6",
                      "showlakes": true,
                      "showland": true,
                      "subunitcolor": "white"
                    },
                    "hoverlabel": {
                      "align": "left"
                    },
                    "hovermode": "closest",
                    "mapbox": {
                      "style": "light"
                    },
                    "paper_bgcolor": "white",
                    "plot_bgcolor": "#E5ECF6",
                    "polar": {
                      "angularaxis": {
                        "gridcolor": "white",
                        "linecolor": "white",
                        "ticks": ""
                      },
                      "bgcolor": "#E5ECF6",
                      "radialaxis": {
                        "gridcolor": "white",
                        "linecolor": "white",
                        "ticks": ""
                      }
                    },
                    "scene": {
                      "xaxis": {
                        "backgroundcolor": "#E5ECF6",
                        "gridcolor": "white",
                        "gridwidth": 2,
                        "linecolor": "white",
                        "showbackground": true,
                        "ticks": "",
                        "zerolinecolor": "white"
                      },
                      "yaxis": {
                        "backgroundcolor": "#E5ECF6",
                        "gridcolor": "white",
                        "gridwidth": 2,
                        "linecolor": "white",
                        "showbackground": true,
                        "ticks": "",
                        "zerolinecolor": "white"
                      },
                      "zaxis": {
                        "backgroundcolor": "#E5ECF6",
                        "gridcolor": "white",
                        "gridwidth": 2,
                        "linecolor": "white",
                        "showbackground": true,
                        "ticks": "",
                        "zerolinecolor": "white"
                      }
                    },
                    "shapedefaults": {
                      "line": {
                        "color": "#2a3f5f"
                      }
                    },
                    "ternary": {
                      "aaxis": {
                        "gridcolor": "white",
                        "linecolor": "white",
                        "ticks": ""
                      },
                      "baxis": {
                        "gridcolor": "white",
                        "linecolor": "white",
                        "ticks": ""
                      },
                      "bgcolor": "#E5ECF6",
                      "caxis": {
                        "gridcolor": "white",
                        "linecolor": "white",
                        "ticks": ""
                      }
                    },
                    "title": {
                      "x": 0.05
                    },
                    "xaxis": {
                      "automargin": true,
                      "gridcolor": "white",
                      "linecolor": "white",
                      "ticks": "",
                      "title": {
                        "standoff": 15
                      },
                      "zerolinecolor": "white",
                      "zerolinewidth": 2
                    },
                    "yaxis": {
                      "automargin": true,
                      "gridcolor": "white",
                      "linecolor": "white",
                      "ticks": "",
                      "title": {
                        "standoff": 15
                      },
                      "zerolinecolor": "white",
                      "zerolinewidth": 2
                    }
                  }
                },
                "title": {
                  "text": "Frekuensi berdasarkan Kekuatan Gempa"
                },
                "xaxis": {
                  "anchor": "y",
                  "categoryarray": [
                    "kecil",
                    "kuat",
                    "mayor",
                    "mikro",
                    "ringan",
                    "sedang"
                  ],
                  "categoryorder": "array",
                  "domain": [
                    0,
                    1
                  ],
                  "title": {
                    "text": "Kategori Magnitudo"
                  }
                },
                "yaxis": {
                  "anchor": "x",
                  "domain": [
                    0,
                    1
                  ],
                  "title": {
                    "text": "Frekuensi"
                  }
                }
              }
            }
          },
          "metadata": {},
          "output_type": "display_data"
        }
      ],
      "source": [
        "fig_6 = df.groupby(['MagCategory'], as_index=False, sort=True).count()\n",
        "px.bar(fig_6, y = 'tgl', x = 'MagCategory',\n",
        "       color= 'MagCategory', height=600,\n",
        "       labels={'tgl': 'Frekuensi', 'MagCategory': 'Kategori Magnitudo'},\n",
        "       title='Frekuensi berdasarkan Kekuatan Gempa'\n",
        ")"
      ]
    },
    {
      "cell_type": "code",
      "execution_count": null,
      "id": "bd32dfc5",
      "metadata": {
        "colab": {
          "base_uri": "https://localhost:8080/",
          "height": 790
        },
        "execution": {
          "iopub.execute_input": "2023-08-01T06:56:43.344756Z",
          "iopub.status.busy": "2023-08-01T06:56:43.344332Z",
          "iopub.status.idle": "2023-08-01T06:56:43.374717Z",
          "shell.execute_reply": "2023-08-01T06:56:43.373290Z"
        },
        "id": "bd32dfc5",
        "outputId": "8eed72df-c2f2-48e6-c1a7-96e35a1a1c43",
        "papermill": {
          "duration": 0.051572,
          "end_time": "2023-08-01T06:56:43.377056",
          "exception": false,
          "start_time": "2023-08-01T06:56:43.325484",
          "status": "completed"
        },
        "tags": []
      },
      "outputs": [
        {
          "data": {
            "text/html": [
              "<div>\n",
              "<style scoped>\n",
              "    .dataframe tbody tr th:only-of-type {\n",
              "        vertical-align: middle;\n",
              "    }\n",
              "\n",
              "    .dataframe tbody tr th {\n",
              "        vertical-align: top;\n",
              "    }\n",
              "\n",
              "    .dataframe thead th {\n",
              "        text-align: right;\n",
              "    }\n",
              "</style>\n",
              "<table border=\"1\" class=\"dataframe\">\n",
              "  <thead>\n",
              "    <tr style=\"text-align: right;\">\n",
              "      <th></th>\n",
              "      <th>tgl</th>\n",
              "      <th>ot</th>\n",
              "      <th>lat</th>\n",
              "      <th>lon</th>\n",
              "      <th>depth</th>\n",
              "      <th>mag</th>\n",
              "      <th>remark</th>\n",
              "      <th>month</th>\n",
              "      <th>year</th>\n",
              "      <th>day</th>\n",
              "      <th>hour</th>\n",
              "      <th>DepthCategory</th>\n",
              "      <th>MagCategory</th>\n",
              "    </tr>\n",
              "  </thead>\n",
              "  <tbody>\n",
              "    <tr>\n",
              "      <th>0</th>\n",
              "      <td>2009-01-01</td>\n",
              "      <td>19:00:00</td>\n",
              "      <td>-4.37</td>\n",
              "      <td>101.12</td>\n",
              "      <td>10</td>\n",
              "      <td>5.1</td>\n",
              "      <td>Southern Sumatra - Indonesia</td>\n",
              "      <td>NaN</td>\n",
              "      <td>2009</td>\n",
              "      <td>Thursday</td>\n",
              "      <td>19</td>\n",
              "      <td>dangkal</td>\n",
              "      <td>sedang</td>\n",
              "    </tr>\n",
              "    <tr>\n",
              "      <th>1</th>\n",
              "      <td>2009-01-01</td>\n",
              "      <td>17:00:00</td>\n",
              "      <td>-4.42</td>\n",
              "      <td>101.07</td>\n",
              "      <td>10</td>\n",
              "      <td>5.3</td>\n",
              "      <td>Southern Sumatra - Indonesia</td>\n",
              "      <td>NaN</td>\n",
              "      <td>2009</td>\n",
              "      <td>Thursday</td>\n",
              "      <td>17</td>\n",
              "      <td>dangkal</td>\n",
              "      <td>sedang</td>\n",
              "    </tr>\n",
              "    <tr>\n",
              "      <th>2</th>\n",
              "      <td>2009-01-01</td>\n",
              "      <td>11:00:00</td>\n",
              "      <td>1.42</td>\n",
              "      <td>121.99</td>\n",
              "      <td>10</td>\n",
              "      <td>5.0</td>\n",
              "      <td>Minahassa Peninsula - Sulawesi</td>\n",
              "      <td>NaN</td>\n",
              "      <td>2009</td>\n",
              "      <td>Thursday</td>\n",
              "      <td>11</td>\n",
              "      <td>dangkal</td>\n",
              "      <td>sedang</td>\n",
              "    </tr>\n",
              "    <tr>\n",
              "      <th>3</th>\n",
              "      <td>2009-01-01</td>\n",
              "      <td>09:00:00</td>\n",
              "      <td>1.47</td>\n",
              "      <td>122.12</td>\n",
              "      <td>10</td>\n",
              "      <td>4.5</td>\n",
              "      <td>Minahassa Peninsula - Sulawesi</td>\n",
              "      <td>NaN</td>\n",
              "      <td>2009</td>\n",
              "      <td>Thursday</td>\n",
              "      <td>9</td>\n",
              "      <td>dangkal</td>\n",
              "      <td>ringan</td>\n",
              "    </tr>\n",
              "    <tr>\n",
              "      <th>4</th>\n",
              "      <td>2009-01-01</td>\n",
              "      <td>05:00:00</td>\n",
              "      <td>0.77</td>\n",
              "      <td>121.22</td>\n",
              "      <td>10</td>\n",
              "      <td>4.9</td>\n",
              "      <td>Minahassa Peninsula - Sulawesi</td>\n",
              "      <td>NaN</td>\n",
              "      <td>2009</td>\n",
              "      <td>Thursday</td>\n",
              "      <td>5</td>\n",
              "      <td>dangkal</td>\n",
              "      <td>ringan</td>\n",
              "    </tr>\n",
              "    <tr>\n",
              "      <th>...</th>\n",
              "      <td>...</td>\n",
              "      <td>...</td>\n",
              "      <td>...</td>\n",
              "      <td>...</td>\n",
              "      <td>...</td>\n",
              "      <td>...</td>\n",
              "      <td>...</td>\n",
              "      <td>...</td>\n",
              "      <td>...</td>\n",
              "      <td>...</td>\n",
              "      <td>...</td>\n",
              "      <td>...</td>\n",
              "      <td>...</td>\n",
              "    </tr>\n",
              "    <tr>\n",
              "      <th>91390</th>\n",
              "      <td>2022-12-31</td>\n",
              "      <td>09:00:00</td>\n",
              "      <td>1.56</td>\n",
              "      <td>124.36</td>\n",
              "      <td>230</td>\n",
              "      <td>4.1</td>\n",
              "      <td>Minahassa Peninsula - Sulawesi</td>\n",
              "      <td>NaN</td>\n",
              "      <td>2022</td>\n",
              "      <td>Saturday</td>\n",
              "      <td>9</td>\n",
              "      <td>sedang</td>\n",
              "      <td>ringan</td>\n",
              "    </tr>\n",
              "    <tr>\n",
              "      <th>91391</th>\n",
              "      <td>2022-12-31</td>\n",
              "      <td>09:00:00</td>\n",
              "      <td>3.71</td>\n",
              "      <td>97.66</td>\n",
              "      <td>10</td>\n",
              "      <td>3.4</td>\n",
              "      <td>Northern Sumatra - Indonesia</td>\n",
              "      <td>NaN</td>\n",
              "      <td>2022</td>\n",
              "      <td>Saturday</td>\n",
              "      <td>9</td>\n",
              "      <td>dangkal</td>\n",
              "      <td>kecil</td>\n",
              "    </tr>\n",
              "    <tr>\n",
              "      <th>91392</th>\n",
              "      <td>2022-12-31</td>\n",
              "      <td>05:00:00</td>\n",
              "      <td>0.35</td>\n",
              "      <td>122.01</td>\n",
              "      <td>167</td>\n",
              "      <td>2.7</td>\n",
              "      <td>Minahassa Peninsula - Sulawesi</td>\n",
              "      <td>NaN</td>\n",
              "      <td>2022</td>\n",
              "      <td>Saturday</td>\n",
              "      <td>5</td>\n",
              "      <td>sedang</td>\n",
              "      <td>mikro</td>\n",
              "    </tr>\n",
              "    <tr>\n",
              "      <th>91393</th>\n",
              "      <td>2022-12-31</td>\n",
              "      <td>05:00:00</td>\n",
              "      <td>-8.98</td>\n",
              "      <td>116.80</td>\n",
              "      <td>13</td>\n",
              "      <td>2.6</td>\n",
              "      <td>Sumbawa Region - Indonesia</td>\n",
              "      <td>NaN</td>\n",
              "      <td>2022</td>\n",
              "      <td>Saturday</td>\n",
              "      <td>5</td>\n",
              "      <td>dangkal</td>\n",
              "      <td>mikro</td>\n",
              "    </tr>\n",
              "    <tr>\n",
              "      <th>91394</th>\n",
              "      <td>2022-12-31</td>\n",
              "      <td>04:00:00</td>\n",
              "      <td>5.17</td>\n",
              "      <td>94.91</td>\n",
              "      <td>22</td>\n",
              "      <td>3.5</td>\n",
              "      <td>Northern Sumatra - Indonesia</td>\n",
              "      <td>NaN</td>\n",
              "      <td>2022</td>\n",
              "      <td>Saturday</td>\n",
              "      <td>4</td>\n",
              "      <td>dangkal</td>\n",
              "      <td>kecil</td>\n",
              "    </tr>\n",
              "  </tbody>\n",
              "</table>\n",
              "<p>91395 rows × 13 columns</p>\n",
              "</div>"
            ],
            "text/plain": [
              "             tgl        ot   lat     lon  depth  mag  \\\n",
              "0     2009-01-01  19:00:00 -4.37  101.12     10  5.1   \n",
              "1     2009-01-01  17:00:00 -4.42  101.07     10  5.3   \n",
              "2     2009-01-01  11:00:00  1.42  121.99     10  5.0   \n",
              "3     2009-01-01  09:00:00  1.47  122.12     10  4.5   \n",
              "4     2009-01-01  05:00:00  0.77  121.22     10  4.9   \n",
              "...          ...       ...   ...     ...    ...  ...   \n",
              "91390 2022-12-31  09:00:00  1.56  124.36    230  4.1   \n",
              "91391 2022-12-31  09:00:00  3.71   97.66     10  3.4   \n",
              "91392 2022-12-31  05:00:00  0.35  122.01    167  2.7   \n",
              "91393 2022-12-31  05:00:00 -8.98  116.80     13  2.6   \n",
              "91394 2022-12-31  04:00:00  5.17   94.91     22  3.5   \n",
              "\n",
              "                               remark month  year       day  hour  \\\n",
              "0        Southern Sumatra - Indonesia   NaN  2009  Thursday    19   \n",
              "1        Southern Sumatra - Indonesia   NaN  2009  Thursday    17   \n",
              "2      Minahassa Peninsula - Sulawesi   NaN  2009  Thursday    11   \n",
              "3      Minahassa Peninsula - Sulawesi   NaN  2009  Thursday     9   \n",
              "4      Minahassa Peninsula - Sulawesi   NaN  2009  Thursday     5   \n",
              "...                               ...   ...   ...       ...   ...   \n",
              "91390  Minahassa Peninsula - Sulawesi   NaN  2022  Saturday     9   \n",
              "91391    Northern Sumatra - Indonesia   NaN  2022  Saturday     9   \n",
              "91392  Minahassa Peninsula - Sulawesi   NaN  2022  Saturday     5   \n",
              "91393      Sumbawa Region - Indonesia   NaN  2022  Saturday     5   \n",
              "91394    Northern Sumatra - Indonesia   NaN  2022  Saturday     4   \n",
              "\n",
              "      DepthCategory MagCategory  \n",
              "0           dangkal      sedang  \n",
              "1           dangkal      sedang  \n",
              "2           dangkal      sedang  \n",
              "3           dangkal      ringan  \n",
              "4           dangkal      ringan  \n",
              "...             ...         ...  \n",
              "91390        sedang      ringan  \n",
              "91391       dangkal       kecil  \n",
              "91392        sedang       mikro  \n",
              "91393       dangkal       mikro  \n",
              "91394       dangkal       kecil  \n",
              "\n",
              "[91395 rows x 13 columns]"
            ]
          },
          "execution_count": 22,
          "metadata": {},
          "output_type": "execute_result"
        }
      ],
      "source": [
        "df"
      ]
    },
    {
      "cell_type": "code",
      "execution_count": null,
      "id": "6d3824f8",
      "metadata": {
        "colab": {
          "base_uri": "https://localhost:8080/",
          "height": 206
        },
        "execution": {
          "iopub.execute_input": "2023-08-01T06:56:43.414988Z",
          "iopub.status.busy": "2023-08-01T06:56:43.414605Z",
          "iopub.status.idle": "2023-08-01T06:56:43.468466Z",
          "shell.execute_reply": "2023-08-01T06:56:43.467279Z"
        },
        "id": "6d3824f8",
        "outputId": "d56f2148-085d-46a0-9ad1-2d9659bf943f",
        "papermill": {
          "duration": 0.076434,
          "end_time": "2023-08-01T06:56:43.471313",
          "exception": false,
          "start_time": "2023-08-01T06:56:43.394879",
          "status": "completed"
        },
        "tags": []
      },
      "outputs": [
        {
          "data": {
            "text/html": [
              "<div>\n",
              "<style scoped>\n",
              "    .dataframe tbody tr th:only-of-type {\n",
              "        vertical-align: middle;\n",
              "    }\n",
              "\n",
              "    .dataframe tbody tr th {\n",
              "        vertical-align: top;\n",
              "    }\n",
              "\n",
              "    .dataframe thead th {\n",
              "        text-align: right;\n",
              "    }\n",
              "</style>\n",
              "<table border=\"1\" class=\"dataframe\">\n",
              "  <thead>\n",
              "    <tr style=\"text-align: right;\">\n",
              "      <th></th>\n",
              "      <th>remark</th>\n",
              "      <th>MagCategory</th>\n",
              "      <th>mag</th>\n",
              "    </tr>\n",
              "  </thead>\n",
              "  <tbody>\n",
              "    <tr>\n",
              "      <th>0</th>\n",
              "      <td>Arafura Sea</td>\n",
              "      <td>kuat</td>\n",
              "      <td>6.1</td>\n",
              "    </tr>\n",
              "    <tr>\n",
              "      <th>1</th>\n",
              "      <td>Arafura Sea</td>\n",
              "      <td>ringan</td>\n",
              "      <td>9.2</td>\n",
              "    </tr>\n",
              "    <tr>\n",
              "      <th>2</th>\n",
              "      <td>Arafura Sea</td>\n",
              "      <td>sedang</td>\n",
              "      <td>20.3</td>\n",
              "    </tr>\n",
              "    <tr>\n",
              "      <th>3</th>\n",
              "      <td>Aru Islands Region - Indonesia</td>\n",
              "      <td>kecil</td>\n",
              "      <td>36.1</td>\n",
              "    </tr>\n",
              "    <tr>\n",
              "      <th>4</th>\n",
              "      <td>Aru Islands Region - Indonesia</td>\n",
              "      <td>ringan</td>\n",
              "      <td>394.0</td>\n",
              "    </tr>\n",
              "  </tbody>\n",
              "</table>\n",
              "</div>"
            ],
            "text/plain": [
              "                           remark MagCategory    mag\n",
              "0                     Arafura Sea        kuat    6.1\n",
              "1                     Arafura Sea      ringan    9.2\n",
              "2                     Arafura Sea      sedang   20.3\n",
              "3  Aru Islands Region - Indonesia       kecil   36.1\n",
              "4  Aru Islands Region - Indonesia      ringan  394.0"
            ]
          },
          "execution_count": 23,
          "metadata": {},
          "output_type": "execute_result"
        }
      ],
      "source": [
        "data = pd.pivot_table(\n",
        "    df, values='mag', index=['remark','MagCategory'], aggfunc='sum', sort=True\n",
        ")\n",
        "data.head().reset_index()"
      ]
    },
    {
      "cell_type": "code",
      "execution_count": null,
      "id": "f0afc72c",
      "metadata": {
        "_kg_hide-input": true,
        "colab": {
          "base_uri": "https://localhost:8080/",
          "height": 617
        },
        "execution": {
          "iopub.execute_input": "2023-08-01T06:56:43.509356Z",
          "iopub.status.busy": "2023-08-01T06:56:43.508964Z",
          "iopub.status.idle": "2023-08-01T06:56:43.754472Z",
          "shell.execute_reply": "2023-08-01T06:56:43.753331Z"
        },
        "id": "f0afc72c",
        "outputId": "2eb7a498-c177-48be-b848-4d3cb68d3a5e",
        "papermill": {
          "duration": 0.267872,
          "end_time": "2023-08-01T06:56:43.757227",
          "exception": false,
          "start_time": "2023-08-01T06:56:43.489355",
          "status": "completed"
        },
        "tags": []
      },
      "outputs": [
        {
          "data": {
            "application/vnd.plotly.v1+json": {
              "config": {
                "plotlyServerURL": "https://plot.ly"
              },
              "data": [
                {
                  "alignmentgroup": "True",
                  "hovertemplate": "MagCategory=kecil<br>value=%{x}<br>mag=%{y}<extra></extra>",
                  "legendgroup": "kecil",
                  "marker": {
                    "color": "#636efa",
                    "pattern": {
                      "shape": ""
                    }
                  },
                  "name": "kecil",
                  "offsetgroup": "kecil",
                  "orientation": "v",
                  "showlegend": true,
                  "textposition": "auto",
                  "type": "bar",
                  "x": [
                    2009,
                    2010,
                    2011,
                    2012,
                    2013,
                    2014,
                    2015,
                    2016,
                    2017,
                    2018,
                    2019,
                    2020,
                    2021,
                    2022
                  ],
                  "xaxis": "x",
                  "y": [
                    1080,
                    1560,
                    1687,
                    1102,
                    1058,
                    1085,
                    2288,
                    2225,
                    3319,
                    5504,
                    5765,
                    3841,
                    4924,
                    4811
                  ],
                  "yaxis": "y"
                },
                {
                  "alignmentgroup": "True",
                  "hovertemplate": "MagCategory=kuat<br>value=%{x}<br>mag=%{y}<extra></extra>",
                  "legendgroup": "kuat",
                  "marker": {
                    "color": "#EF553B",
                    "pattern": {
                      "shape": ""
                    }
                  },
                  "name": "kuat",
                  "offsetgroup": "kuat",
                  "orientation": "v",
                  "showlegend": true,
                  "textposition": "auto",
                  "type": "bar",
                  "x": [
                    2009,
                    2010,
                    2011,
                    2012,
                    2013,
                    2014,
                    2015,
                    2016,
                    2017,
                    2018,
                    2019,
                    2020,
                    2021,
                    2022
                  ],
                  "xaxis": "x",
                  "y": [
                    40,
                    13,
                    14,
                    11,
                    28,
                    10,
                    24,
                    21,
                    14,
                    37,
                    38,
                    37,
                    32,
                    34
                  ],
                  "yaxis": "y"
                },
                {
                  "alignmentgroup": "True",
                  "hovertemplate": "MagCategory=mayor<br>value=%{x}<br>mag=%{y}<extra></extra>",
                  "legendgroup": "mayor",
                  "marker": {
                    "color": "#00cc96",
                    "pattern": {
                      "shape": ""
                    }
                  },
                  "name": "mayor",
                  "offsetgroup": "mayor",
                  "orientation": "v",
                  "showlegend": true,
                  "textposition": "auto",
                  "type": "bar",
                  "x": [
                    2009,
                    2010,
                    2013,
                    2016,
                    2017,
                    2018,
                    2019,
                    2020,
                    2021
                  ],
                  "xaxis": "x",
                  "y": [
                    6,
                    1,
                    2,
                    2,
                    4,
                    4,
                    8,
                    2,
                    6
                  ],
                  "yaxis": "y"
                },
                {
                  "alignmentgroup": "True",
                  "hovertemplate": "MagCategory=mikro<br>value=%{x}<br>mag=%{y}<extra></extra>",
                  "legendgroup": "mikro",
                  "marker": {
                    "color": "#ab63fa",
                    "pattern": {
                      "shape": ""
                    }
                  },
                  "name": "mikro",
                  "offsetgroup": "mikro",
                  "orientation": "v",
                  "showlegend": true,
                  "textposition": "auto",
                  "type": "bar",
                  "x": [
                    2009,
                    2010,
                    2011,
                    2012,
                    2013,
                    2014,
                    2015,
                    2016,
                    2017,
                    2018,
                    2019,
                    2020,
                    2021,
                    2022
                  ],
                  "xaxis": "x",
                  "y": [
                    206,
                    483,
                    582,
                    413,
                    332,
                    316,
                    1024,
                    1033,
                    1695,
                    3585,
                    3029,
                    2258,
                    3138,
                    3282
                  ],
                  "yaxis": "y"
                },
                {
                  "alignmentgroup": "True",
                  "hovertemplate": "MagCategory=ringan<br>value=%{x}<br>mag=%{y}<extra></extra>",
                  "legendgroup": "ringan",
                  "marker": {
                    "color": "#FFA15A",
                    "pattern": {
                      "shape": ""
                    }
                  },
                  "name": "ringan",
                  "offsetgroup": "ringan",
                  "orientation": "v",
                  "showlegend": true,
                  "textposition": "auto",
                  "type": "bar",
                  "x": [
                    2009,
                    2010,
                    2011,
                    2012,
                    2013,
                    2014,
                    2015,
                    2016,
                    2017,
                    2018,
                    2019,
                    2020,
                    2021,
                    2022
                  ],
                  "xaxis": "x",
                  "y": [
                    1652,
                    1218,
                    1449,
                    806,
                    1120,
                    890,
                    1786,
                    1631,
                    2156,
                    2685,
                    2762,
                    2131,
                    2191,
                    2338
                  ],
                  "yaxis": "y"
                },
                {
                  "alignmentgroup": "True",
                  "hovertemplate": "MagCategory=sedang<br>value=%{x}<br>mag=%{y}<extra></extra>",
                  "legendgroup": "sedang",
                  "marker": {
                    "color": "#19d3f3",
                    "pattern": {
                      "shape": ""
                    }
                  },
                  "name": "sedang",
                  "offsetgroup": "sedang",
                  "orientation": "v",
                  "showlegend": true,
                  "textposition": "auto",
                  "type": "bar",
                  "x": [
                    2009,
                    2010,
                    2011,
                    2012,
                    2013,
                    2014,
                    2015,
                    2016,
                    2017,
                    2018,
                    2019,
                    2020,
                    2021,
                    2022
                  ],
                  "xaxis": "x",
                  "y": [
                    550,
                    162,
                    216,
                    103,
                    209,
                    129,
                    256,
                    222,
                    409,
                    530,
                    553,
                    421,
                    423,
                    384
                  ],
                  "yaxis": "y"
                }
              ],
              "layout": {
                "barmode": "group",
                "height": 600,
                "legend": {
                  "title": {
                    "text": "MagCategory"
                  },
                  "tracegroupgap": 0
                },
                "template": {
                  "data": {
                    "bar": [
                      {
                        "error_x": {
                          "color": "#2a3f5f"
                        },
                        "error_y": {
                          "color": "#2a3f5f"
                        },
                        "marker": {
                          "line": {
                            "color": "#E5ECF6",
                            "width": 0.5
                          },
                          "pattern": {
                            "fillmode": "overlay",
                            "size": 10,
                            "solidity": 0.2
                          }
                        },
                        "type": "bar"
                      }
                    ],
                    "barpolar": [
                      {
                        "marker": {
                          "line": {
                            "color": "#E5ECF6",
                            "width": 0.5
                          },
                          "pattern": {
                            "fillmode": "overlay",
                            "size": 10,
                            "solidity": 0.2
                          }
                        },
                        "type": "barpolar"
                      }
                    ],
                    "carpet": [
                      {
                        "aaxis": {
                          "endlinecolor": "#2a3f5f",
                          "gridcolor": "white",
                          "linecolor": "white",
                          "minorgridcolor": "white",
                          "startlinecolor": "#2a3f5f"
                        },
                        "baxis": {
                          "endlinecolor": "#2a3f5f",
                          "gridcolor": "white",
                          "linecolor": "white",
                          "minorgridcolor": "white",
                          "startlinecolor": "#2a3f5f"
                        },
                        "type": "carpet"
                      }
                    ],
                    "choropleth": [
                      {
                        "colorbar": {
                          "outlinewidth": 0,
                          "ticks": ""
                        },
                        "type": "choropleth"
                      }
                    ],
                    "contour": [
                      {
                        "colorbar": {
                          "outlinewidth": 0,
                          "ticks": ""
                        },
                        "colorscale": [
                          [
                            0,
                            "#0d0887"
                          ],
                          [
                            0.1111111111111111,
                            "#46039f"
                          ],
                          [
                            0.2222222222222222,
                            "#7201a8"
                          ],
                          [
                            0.3333333333333333,
                            "#9c179e"
                          ],
                          [
                            0.4444444444444444,
                            "#bd3786"
                          ],
                          [
                            0.5555555555555556,
                            "#d8576b"
                          ],
                          [
                            0.6666666666666666,
                            "#ed7953"
                          ],
                          [
                            0.7777777777777778,
                            "#fb9f3a"
                          ],
                          [
                            0.8888888888888888,
                            "#fdca26"
                          ],
                          [
                            1,
                            "#f0f921"
                          ]
                        ],
                        "type": "contour"
                      }
                    ],
                    "contourcarpet": [
                      {
                        "colorbar": {
                          "outlinewidth": 0,
                          "ticks": ""
                        },
                        "type": "contourcarpet"
                      }
                    ],
                    "heatmap": [
                      {
                        "colorbar": {
                          "outlinewidth": 0,
                          "ticks": ""
                        },
                        "colorscale": [
                          [
                            0,
                            "#0d0887"
                          ],
                          [
                            0.1111111111111111,
                            "#46039f"
                          ],
                          [
                            0.2222222222222222,
                            "#7201a8"
                          ],
                          [
                            0.3333333333333333,
                            "#9c179e"
                          ],
                          [
                            0.4444444444444444,
                            "#bd3786"
                          ],
                          [
                            0.5555555555555556,
                            "#d8576b"
                          ],
                          [
                            0.6666666666666666,
                            "#ed7953"
                          ],
                          [
                            0.7777777777777778,
                            "#fb9f3a"
                          ],
                          [
                            0.8888888888888888,
                            "#fdca26"
                          ],
                          [
                            1,
                            "#f0f921"
                          ]
                        ],
                        "type": "heatmap"
                      }
                    ],
                    "heatmapgl": [
                      {
                        "colorbar": {
                          "outlinewidth": 0,
                          "ticks": ""
                        },
                        "colorscale": [
                          [
                            0,
                            "#0d0887"
                          ],
                          [
                            0.1111111111111111,
                            "#46039f"
                          ],
                          [
                            0.2222222222222222,
                            "#7201a8"
                          ],
                          [
                            0.3333333333333333,
                            "#9c179e"
                          ],
                          [
                            0.4444444444444444,
                            "#bd3786"
                          ],
                          [
                            0.5555555555555556,
                            "#d8576b"
                          ],
                          [
                            0.6666666666666666,
                            "#ed7953"
                          ],
                          [
                            0.7777777777777778,
                            "#fb9f3a"
                          ],
                          [
                            0.8888888888888888,
                            "#fdca26"
                          ],
                          [
                            1,
                            "#f0f921"
                          ]
                        ],
                        "type": "heatmapgl"
                      }
                    ],
                    "histogram": [
                      {
                        "marker": {
                          "pattern": {
                            "fillmode": "overlay",
                            "size": 10,
                            "solidity": 0.2
                          }
                        },
                        "type": "histogram"
                      }
                    ],
                    "histogram2d": [
                      {
                        "colorbar": {
                          "outlinewidth": 0,
                          "ticks": ""
                        },
                        "colorscale": [
                          [
                            0,
                            "#0d0887"
                          ],
                          [
                            0.1111111111111111,
                            "#46039f"
                          ],
                          [
                            0.2222222222222222,
                            "#7201a8"
                          ],
                          [
                            0.3333333333333333,
                            "#9c179e"
                          ],
                          [
                            0.4444444444444444,
                            "#bd3786"
                          ],
                          [
                            0.5555555555555556,
                            "#d8576b"
                          ],
                          [
                            0.6666666666666666,
                            "#ed7953"
                          ],
                          [
                            0.7777777777777778,
                            "#fb9f3a"
                          ],
                          [
                            0.8888888888888888,
                            "#fdca26"
                          ],
                          [
                            1,
                            "#f0f921"
                          ]
                        ],
                        "type": "histogram2d"
                      }
                    ],
                    "histogram2dcontour": [
                      {
                        "colorbar": {
                          "outlinewidth": 0,
                          "ticks": ""
                        },
                        "colorscale": [
                          [
                            0,
                            "#0d0887"
                          ],
                          [
                            0.1111111111111111,
                            "#46039f"
                          ],
                          [
                            0.2222222222222222,
                            "#7201a8"
                          ],
                          [
                            0.3333333333333333,
                            "#9c179e"
                          ],
                          [
                            0.4444444444444444,
                            "#bd3786"
                          ],
                          [
                            0.5555555555555556,
                            "#d8576b"
                          ],
                          [
                            0.6666666666666666,
                            "#ed7953"
                          ],
                          [
                            0.7777777777777778,
                            "#fb9f3a"
                          ],
                          [
                            0.8888888888888888,
                            "#fdca26"
                          ],
                          [
                            1,
                            "#f0f921"
                          ]
                        ],
                        "type": "histogram2dcontour"
                      }
                    ],
                    "mesh3d": [
                      {
                        "colorbar": {
                          "outlinewidth": 0,
                          "ticks": ""
                        },
                        "type": "mesh3d"
                      }
                    ],
                    "parcoords": [
                      {
                        "line": {
                          "colorbar": {
                            "outlinewidth": 0,
                            "ticks": ""
                          }
                        },
                        "type": "parcoords"
                      }
                    ],
                    "pie": [
                      {
                        "automargin": true,
                        "type": "pie"
                      }
                    ],
                    "scatter": [
                      {
                        "fillpattern": {
                          "fillmode": "overlay",
                          "size": 10,
                          "solidity": 0.2
                        },
                        "type": "scatter"
                      }
                    ],
                    "scatter3d": [
                      {
                        "line": {
                          "colorbar": {
                            "outlinewidth": 0,
                            "ticks": ""
                          }
                        },
                        "marker": {
                          "colorbar": {
                            "outlinewidth": 0,
                            "ticks": ""
                          }
                        },
                        "type": "scatter3d"
                      }
                    ],
                    "scattercarpet": [
                      {
                        "marker": {
                          "colorbar": {
                            "outlinewidth": 0,
                            "ticks": ""
                          }
                        },
                        "type": "scattercarpet"
                      }
                    ],
                    "scattergeo": [
                      {
                        "marker": {
                          "colorbar": {
                            "outlinewidth": 0,
                            "ticks": ""
                          }
                        },
                        "type": "scattergeo"
                      }
                    ],
                    "scattergl": [
                      {
                        "marker": {
                          "colorbar": {
                            "outlinewidth": 0,
                            "ticks": ""
                          }
                        },
                        "type": "scattergl"
                      }
                    ],
                    "scattermapbox": [
                      {
                        "marker": {
                          "colorbar": {
                            "outlinewidth": 0,
                            "ticks": ""
                          }
                        },
                        "type": "scattermapbox"
                      }
                    ],
                    "scatterpolar": [
                      {
                        "marker": {
                          "colorbar": {
                            "outlinewidth": 0,
                            "ticks": ""
                          }
                        },
                        "type": "scatterpolar"
                      }
                    ],
                    "scatterpolargl": [
                      {
                        "marker": {
                          "colorbar": {
                            "outlinewidth": 0,
                            "ticks": ""
                          }
                        },
                        "type": "scatterpolargl"
                      }
                    ],
                    "scatterternary": [
                      {
                        "marker": {
                          "colorbar": {
                            "outlinewidth": 0,
                            "ticks": ""
                          }
                        },
                        "type": "scatterternary"
                      }
                    ],
                    "surface": [
                      {
                        "colorbar": {
                          "outlinewidth": 0,
                          "ticks": ""
                        },
                        "colorscale": [
                          [
                            0,
                            "#0d0887"
                          ],
                          [
                            0.1111111111111111,
                            "#46039f"
                          ],
                          [
                            0.2222222222222222,
                            "#7201a8"
                          ],
                          [
                            0.3333333333333333,
                            "#9c179e"
                          ],
                          [
                            0.4444444444444444,
                            "#bd3786"
                          ],
                          [
                            0.5555555555555556,
                            "#d8576b"
                          ],
                          [
                            0.6666666666666666,
                            "#ed7953"
                          ],
                          [
                            0.7777777777777778,
                            "#fb9f3a"
                          ],
                          [
                            0.8888888888888888,
                            "#fdca26"
                          ],
                          [
                            1,
                            "#f0f921"
                          ]
                        ],
                        "type": "surface"
                      }
                    ],
                    "table": [
                      {
                        "cells": {
                          "fill": {
                            "color": "#EBF0F8"
                          },
                          "line": {
                            "color": "white"
                          }
                        },
                        "header": {
                          "fill": {
                            "color": "#C8D4E3"
                          },
                          "line": {
                            "color": "white"
                          }
                        },
                        "type": "table"
                      }
                    ]
                  },
                  "layout": {
                    "annotationdefaults": {
                      "arrowcolor": "#2a3f5f",
                      "arrowhead": 0,
                      "arrowwidth": 1
                    },
                    "autotypenumbers": "strict",
                    "coloraxis": {
                      "colorbar": {
                        "outlinewidth": 0,
                        "ticks": ""
                      }
                    },
                    "colorscale": {
                      "diverging": [
                        [
                          0,
                          "#8e0152"
                        ],
                        [
                          0.1,
                          "#c51b7d"
                        ],
                        [
                          0.2,
                          "#de77ae"
                        ],
                        [
                          0.3,
                          "#f1b6da"
                        ],
                        [
                          0.4,
                          "#fde0ef"
                        ],
                        [
                          0.5,
                          "#f7f7f7"
                        ],
                        [
                          0.6,
                          "#e6f5d0"
                        ],
                        [
                          0.7,
                          "#b8e186"
                        ],
                        [
                          0.8,
                          "#7fbc41"
                        ],
                        [
                          0.9,
                          "#4d9221"
                        ],
                        [
                          1,
                          "#276419"
                        ]
                      ],
                      "sequential": [
                        [
                          0,
                          "#0d0887"
                        ],
                        [
                          0.1111111111111111,
                          "#46039f"
                        ],
                        [
                          0.2222222222222222,
                          "#7201a8"
                        ],
                        [
                          0.3333333333333333,
                          "#9c179e"
                        ],
                        [
                          0.4444444444444444,
                          "#bd3786"
                        ],
                        [
                          0.5555555555555556,
                          "#d8576b"
                        ],
                        [
                          0.6666666666666666,
                          "#ed7953"
                        ],
                        [
                          0.7777777777777778,
                          "#fb9f3a"
                        ],
                        [
                          0.8888888888888888,
                          "#fdca26"
                        ],
                        [
                          1,
                          "#f0f921"
                        ]
                      ],
                      "sequentialminus": [
                        [
                          0,
                          "#0d0887"
                        ],
                        [
                          0.1111111111111111,
                          "#46039f"
                        ],
                        [
                          0.2222222222222222,
                          "#7201a8"
                        ],
                        [
                          0.3333333333333333,
                          "#9c179e"
                        ],
                        [
                          0.4444444444444444,
                          "#bd3786"
                        ],
                        [
                          0.5555555555555556,
                          "#d8576b"
                        ],
                        [
                          0.6666666666666666,
                          "#ed7953"
                        ],
                        [
                          0.7777777777777778,
                          "#fb9f3a"
                        ],
                        [
                          0.8888888888888888,
                          "#fdca26"
                        ],
                        [
                          1,
                          "#f0f921"
                        ]
                      ]
                    },
                    "colorway": [
                      "#636efa",
                      "#EF553B",
                      "#00cc96",
                      "#ab63fa",
                      "#FFA15A",
                      "#19d3f3",
                      "#FF6692",
                      "#B6E880",
                      "#FF97FF",
                      "#FECB52"
                    ],
                    "font": {
                      "color": "#2a3f5f"
                    },
                    "geo": {
                      "bgcolor": "white",
                      "lakecolor": "white",
                      "landcolor": "#E5ECF6",
                      "showlakes": true,
                      "showland": true,
                      "subunitcolor": "white"
                    },
                    "hoverlabel": {
                      "align": "left"
                    },
                    "hovermode": "closest",
                    "mapbox": {
                      "style": "light"
                    },
                    "paper_bgcolor": "white",
                    "plot_bgcolor": "#E5ECF6",
                    "polar": {
                      "angularaxis": {
                        "gridcolor": "white",
                        "linecolor": "white",
                        "ticks": ""
                      },
                      "bgcolor": "#E5ECF6",
                      "radialaxis": {
                        "gridcolor": "white",
                        "linecolor": "white",
                        "ticks": ""
                      }
                    },
                    "scene": {
                      "xaxis": {
                        "backgroundcolor": "#E5ECF6",
                        "gridcolor": "white",
                        "gridwidth": 2,
                        "linecolor": "white",
                        "showbackground": true,
                        "ticks": "",
                        "zerolinecolor": "white"
                      },
                      "yaxis": {
                        "backgroundcolor": "#E5ECF6",
                        "gridcolor": "white",
                        "gridwidth": 2,
                        "linecolor": "white",
                        "showbackground": true,
                        "ticks": "",
                        "zerolinecolor": "white"
                      },
                      "zaxis": {
                        "backgroundcolor": "#E5ECF6",
                        "gridcolor": "white",
                        "gridwidth": 2,
                        "linecolor": "white",
                        "showbackground": true,
                        "ticks": "",
                        "zerolinecolor": "white"
                      }
                    },
                    "shapedefaults": {
                      "line": {
                        "color": "#2a3f5f"
                      }
                    },
                    "ternary": {
                      "aaxis": {
                        "gridcolor": "white",
                        "linecolor": "white",
                        "ticks": ""
                      },
                      "baxis": {
                        "gridcolor": "white",
                        "linecolor": "white",
                        "ticks": ""
                      },
                      "bgcolor": "#E5ECF6",
                      "caxis": {
                        "gridcolor": "white",
                        "linecolor": "white",
                        "ticks": ""
                      }
                    },
                    "title": {
                      "x": 0.05
                    },
                    "xaxis": {
                      "automargin": true,
                      "gridcolor": "white",
                      "linecolor": "white",
                      "ticks": "",
                      "title": {
                        "standoff": 15
                      },
                      "zerolinecolor": "white",
                      "zerolinewidth": 2
                    },
                    "yaxis": {
                      "automargin": true,
                      "gridcolor": "white",
                      "linecolor": "white",
                      "ticks": "",
                      "title": {
                        "standoff": 15
                      },
                      "zerolinecolor": "white",
                      "zerolinewidth": 2
                    }
                  }
                },
                "title": {
                  "text": "Frekuensi berdasarkan Kategori Kedalaman"
                },
                "xaxis": {
                  "anchor": "y",
                  "domain": [
                    0,
                    1
                  ],
                  "title": {
                    "text": "value"
                  }
                },
                "yaxis": {
                  "anchor": "x",
                  "domain": [
                    0,
                    1
                  ],
                  "title": {
                    "text": "mag"
                  }
                }
              }
            }
          },
          "metadata": {},
          "output_type": "display_data"
        }
      ],
      "source": [
        "px.bar((df.groupby(by=['year','MagCategory'], as_index=False, sort=True).count()),\n",
        "       y = 'mag', x = ['year','MagCategory'],\n",
        "       color= 'MagCategory', height=600,\n",
        "       labels={'tgl': 'Frekuensi', 'DepthCategory': 'Kategori Kedalaman'},\n",
        "       title='Frekuensi berdasarkan Kategori Kedalaman',\n",
        "       barmode='group'\n",
        ")"
      ]
    },
    {
      "cell_type": "markdown",
      "id": "Fdi4DgJQs0dC",
      "metadata": {
        "id": "Fdi4DgJQs0dC"
      },
      "source": [
        "Kita dapat mengkategorikan jenis gempa berdasarkan kedalaman sumber gempa, magnitudo dan kekuatan gempa tersebut. Berdasarkan kedalaman sumber gempanya, gempa kedalaman **dangkal sering terjadi** dengan frekuensi **70 ribu kasus**. Sementara menurut magnitudo gempanya, gempa berskala kecil lebih banyak terjadi."
      ]
    },
    {
      "cell_type": "markdown",
      "id": "e9b926e1",
      "metadata": {
        "id": "e9b926e1",
        "papermill": {
          "duration": 0.018558,
          "end_time": "2023-08-01T06:56:43.794231",
          "exception": false,
          "start_time": "2023-08-01T06:56:43.775673",
          "status": "completed"
        },
        "tags": []
      },
      "source": [
        "# **SUMMARY**\n",
        "\n",
        "Data tersebut menampilkan sebaran frekuensi gempa pada tahun 2008 hingga 2023 dan pada tahun tersebut gempa paling sering terjadi pada tahun 2018 hingga 2019. Selain itu, pada tahun 2008 hingga 2023 ditemukan:\n",
        "- 5 wilayah yang paling sering terjadi gempa adalah Semenanjung Minahasa, Sulawesi, Sumbawa, Jawa, dan Sumatera Utara\n",
        "- Gempa bumi sering terjadi di daerah tersebut karena daerah tersebut merupakan area Ring of Fire\n",
        "\n",
        "- Gempa bumi paling sering terjadi pada bulan **Desember, Januari, dan Agustus**\n",
        "- Gempa bumi paling sering terjadi pada hari **Senin**\n",
        "- Gempa bumi terbagi dalam beberapa kategori berdasarkan kedalaman sumber gempa, kekuatan magnitudo dan kekuatan gempa.\n",
        "\n",
        "- Gempa bumi paling sering terjadi pada jam **14.00 - 20.00**\n",
        "- Meskipun dari data gempa sering terjadi pada kurun bulan, hari, dan jam tertentu, kenyataaannya gempa bumi **selalu terjadi karena aktifitas aktif pergerakan lempeng bumi** dan **tidak terikat pada waktu - waktu tertentu**"
      ]
    }
  ],
  "metadata": {
    "colab": {
      "provenance": []
    },
    "kernelspec": {
      "display_name": "Python 3",
      "language": "python",
      "name": "python3"
    },
    "language_info": {
      "codemirror_mode": {
        "name": "ipython",
        "version": 3
      },
      "file_extension": ".py",
      "mimetype": "text/x-python",
      "name": "python",
      "nbconvert_exporter": "python",
      "pygments_lexer": "ipython3",
      "version": "3.9.0"
    },
    "papermill": {
      "default_parameters": {},
      "duration": 28.341585,
      "end_time": "2023-08-01T06:56:44.835066",
      "environment_variables": {},
      "exception": null,
      "input_path": "__notebook__.ipynb",
      "output_path": "__notebook__.ipynb",
      "parameters": {},
      "start_time": "2023-08-01T06:56:16.493481",
      "version": "2.4.0"
    }
  },
  "nbformat": 4,
  "nbformat_minor": 5
}
